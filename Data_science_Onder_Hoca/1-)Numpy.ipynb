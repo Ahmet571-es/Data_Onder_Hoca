{
 "cells": [
  {
   "cell_type": "code",
   "execution_count": 1,
   "metadata": {},
   "outputs": [],
   "source": [
    "import numpy as np"
   ]
  },
  {
   "cell_type": "code",
   "execution_count": 2,
   "metadata": {},
   "outputs": [],
   "source": [
    "vector_empty = np.array([])\n",
    "# boş bir numpy arrayi oluşturduk."
   ]
  },
  {
   "cell_type": "code",
   "execution_count": 3,
   "metadata": {},
   "outputs": [
    {
     "data": {
      "text/plain": [
       "array([], dtype=float64)"
      ]
     },
     "execution_count": 3,
     "metadata": {},
     "output_type": "execute_result"
    }
   ],
   "source": [
    "vector_empty"
   ]
  },
  {
   "cell_type": "code",
   "execution_count": 4,
   "metadata": {},
   "outputs": [],
   "source": [
    "vector_initialized = np.array([5-3,2,-7])\n",
    "# bir numpy arrayi oluşturduk."
   ]
  },
  {
   "cell_type": "code",
   "execution_count": 5,
   "metadata": {},
   "outputs": [
    {
     "data": {
      "text/plain": [
       "array([ 2,  2, -7])"
      ]
     },
     "execution_count": 5,
     "metadata": {},
     "output_type": "execute_result"
    }
   ],
   "source": [
    "vector_initialized"
   ]
  },
  {
   "cell_type": "code",
   "execution_count": 10,
   "metadata": {},
   "outputs": [],
   "source": [
    "a = np.array([5,6,3,2,13])\n",
    "b = np.array([7,8,1,10,12])"
   ]
  },
  {
   "cell_type": "code",
   "execution_count": 11,
   "metadata": {},
   "outputs": [
    {
     "data": {
      "text/plain": [
       "array([12, 14,  4, 12, 25])"
      ]
     },
     "execution_count": 11,
     "metadata": {},
     "output_type": "execute_result"
    }
   ],
   "source": [
    "a + b"
   ]
  },
  {
   "cell_type": "code",
   "execution_count": 12,
   "metadata": {},
   "outputs": [
    {
     "data": {
      "text/plain": [
       "array([ 35,  48,   3,  20, 156])"
      ]
     },
     "execution_count": 12,
     "metadata": {},
     "output_type": "execute_result"
    }
   ],
   "source": [
    "a*b"
   ]
  },
  {
   "cell_type": "code",
   "execution_count": 13,
   "metadata": {},
   "outputs": [
    {
     "data": {
      "text/plain": [
       "array([0.71428571, 0.75      , 3.        , 0.2       , 1.08333333])"
      ]
     },
     "execution_count": 13,
     "metadata": {},
     "output_type": "execute_result"
    }
   ],
   "source": [
    "a/b"
   ]
  },
  {
   "cell_type": "code",
   "execution_count": 14,
   "metadata": {},
   "outputs": [],
   "source": [
    "# görüldüğü üzere numpy ile aritmetik işlemler yapmak çok kolay. For döngüsünü oluşturmaya gerek yoktur."
   ]
  },
  {
   "cell_type": "markdown",
   "metadata": {},
   "source": [
    "### Numpy da ekleme, indexe göre ekleme ve silme işlemleri : "
   ]
  },
  {
   "cell_type": "code",
   "execution_count": 15,
   "metadata": {},
   "outputs": [],
   "source": [
    "vector = np.array([6,4,3,9,8])"
   ]
  },
  {
   "cell_type": "code",
   "execution_count": 18,
   "metadata": {},
   "outputs": [
    {
     "data": {
      "text/plain": [
       "array([ 6,  4,  3,  9,  8, 23])"
      ]
     },
     "execution_count": 18,
     "metadata": {},
     "output_type": "execute_result"
    }
   ],
   "source": [
    "np.append(vector,23)\n",
    "# append sonuna eleman ekler. Ama numpy da kalıcı olarak eklemez."
   ]
  },
  {
   "cell_type": "code",
   "execution_count": 19,
   "metadata": {},
   "outputs": [
    {
     "data": {
      "text/plain": [
       "array([ 6,  4,  3, 14,  9,  8])"
      ]
     },
     "execution_count": 19,
     "metadata": {},
     "output_type": "execute_result"
    }
   ],
   "source": [
    "np.insert(vector,3,14)\n",
    "# insert fonksiyonu ile => 3. sıradaki indexe 14 elemanını geçici olarak ekledi"
   ]
  },
  {
   "cell_type": "code",
   "execution_count": 21,
   "metadata": {},
   "outputs": [
    {
     "data": {
      "text/plain": [
       "array([6, 4, 9, 8])"
      ]
     },
     "execution_count": 21,
     "metadata": {},
     "output_type": "execute_result"
    }
   ],
   "source": [
    "np.delete(vector,2)\n",
    "# delete ile 2. sıradaki indexte bulunan elemanı geçici olarak siler. "
   ]
  },
  {
   "cell_type": "markdown",
   "metadata": {},
   "source": [
    "### Dizideki elemanların türünü öğrenme : "
   ]
  },
  {
   "cell_type": "code",
   "execution_count": 24,
   "metadata": {},
   "outputs": [],
   "source": [
    "vector = np.array([6,2,7,3,8])"
   ]
  },
  {
   "cell_type": "code",
   "execution_count": 25,
   "metadata": {},
   "outputs": [
    {
     "data": {
      "text/plain": [
       "dtype('int32')"
      ]
     },
     "execution_count": 25,
     "metadata": {},
     "output_type": "execute_result"
    }
   ],
   "source": [
    "vector.dtype\n",
    "# int 32 tipinde veriler vardır. 32 sayısı 32 bit anlamına gelir. 4 byte demektir."
   ]
  },
  {
   "cell_type": "code",
   "execution_count": 26,
   "metadata": {},
   "outputs": [],
   "source": [
    "vector = np.array([6,2,7,2.5,3,8])"
   ]
  },
  {
   "cell_type": "code",
   "execution_count": 27,
   "metadata": {},
   "outputs": [
    {
     "data": {
      "text/plain": [
       "dtype('float64')"
      ]
     },
     "execution_count": 27,
     "metadata": {},
     "output_type": "execute_result"
    }
   ],
   "source": [
    "vector.dtype\n",
    "# sadece 1 tanesi bile float tipinde ise tüm tipleri float tipinde algılar.  64 sayısıda 8 byte demektir."
   ]
  },
  {
   "cell_type": "code",
   "execution_count": 28,
   "metadata": {},
   "outputs": [],
   "source": [
    "vector = np.array([6,2,7,3,8], np.int64)"
   ]
  },
  {
   "cell_type": "code",
   "execution_count": 29,
   "metadata": {},
   "outputs": [
    {
     "data": {
      "text/plain": [
       "dtype('int64')"
      ]
     },
     "execution_count": 29,
     "metadata": {},
     "output_type": "execute_result"
    }
   ],
   "source": [
    "vector.dtype\n",
    "# artık int 64 tipinde tanımladık. yani 8 byte demektir."
   ]
  },
  {
   "cell_type": "code",
   "execution_count": 30,
   "metadata": {},
   "outputs": [
    {
     "data": {
      "text/plain": [
       "array([6.453, 2.123, 7.856, 3.147, 8.265])"
      ]
     },
     "execution_count": 30,
     "metadata": {},
     "output_type": "execute_result"
    }
   ],
   "source": [
    "vector = np.array([6.453,2.123,7.856,3.147,8.265])\n",
    "vector"
   ]
  },
  {
   "cell_type": "code",
   "execution_count": 35,
   "metadata": {},
   "outputs": [
    {
     "data": {
      "text/plain": [
       "array([6., 2., 8., 3., 8.])"
      ]
     },
     "execution_count": 35,
     "metadata": {},
     "output_type": "execute_result"
    }
   ],
   "source": [
    "vector_one = np.round(vector)\n",
    "vector_one"
   ]
  },
  {
   "cell_type": "code",
   "execution_count": 36,
   "metadata": {},
   "outputs": [
    {
     "data": {
      "text/plain": [
       "dtype('float64')"
      ]
     },
     "execution_count": 36,
     "metadata": {},
     "output_type": "execute_result"
    }
   ],
   "source": [
    "vector_one.dtype\n",
    "# round ile yukarıda tamamını attık ama yinede tipi float oldu."
   ]
  },
  {
   "cell_type": "code",
   "execution_count": 37,
   "metadata": {},
   "outputs": [
    {
     "data": {
      "text/plain": [
       "array([6.45378, 2.12366, 7.85654, 3.14778, 8.2651 ])"
      ]
     },
     "execution_count": 37,
     "metadata": {},
     "output_type": "execute_result"
    }
   ],
   "source": [
    "vector = np.array([6.45378,2.12366,7.85654,3.14778,8.26510])\n",
    "vector"
   ]
  },
  {
   "cell_type": "code",
   "execution_count": 38,
   "metadata": {},
   "outputs": [
    {
     "data": {
      "text/plain": [
       "array([6.45, 2.12, 7.86, 3.15, 8.27])"
      ]
     },
     "execution_count": 38,
     "metadata": {},
     "output_type": "execute_result"
    }
   ],
   "source": [
    "vector_one = np.round(vector,2)\n",
    "vector_one \n",
    "# virgülden sonra 2 basamak kalsın demektir."
   ]
  },
  {
   "cell_type": "markdown",
   "metadata": {},
   "source": [
    "### Dizi Aritmetiği : "
   ]
  },
  {
   "cell_type": "code",
   "execution_count": 39,
   "metadata": {},
   "outputs": [],
   "source": [
    "vector1 = np.array([1.1, 1.2, 1.3])\n",
    "vector2 = np.array([2.1, 2.2, 2.3])"
   ]
  },
  {
   "cell_type": "code",
   "execution_count": 40,
   "metadata": {},
   "outputs": [
    {
     "data": {
      "text/plain": [
       "array([3.2, 3.4, 3.6])"
      ]
     },
     "execution_count": 40,
     "metadata": {},
     "output_type": "execute_result"
    }
   ],
   "source": [
    "np.add(vector1, vector2)\n",
    "# 2 diziyi toplar."
   ]
  },
  {
   "cell_type": "code",
   "execution_count": 41,
   "metadata": {},
   "outputs": [
    {
     "data": {
      "text/plain": [
       "array([-1., -1., -1.])"
      ]
     },
     "execution_count": 41,
     "metadata": {},
     "output_type": "execute_result"
    }
   ],
   "source": [
    "np.subtract(vector1, vector2)\n",
    "# 2 diziyi birbirinden çıkarır."
   ]
  },
  {
   "cell_type": "code",
   "execution_count": 42,
   "metadata": {},
   "outputs": [
    {
     "data": {
      "text/plain": [
       "array([2.31, 2.64, 2.99])"
      ]
     },
     "execution_count": 42,
     "metadata": {},
     "output_type": "execute_result"
    }
   ],
   "source": [
    "np.multiply(vector1, vector2)\n",
    "# 2 diziyi çarpar."
   ]
  },
  {
   "cell_type": "code",
   "execution_count": 43,
   "metadata": {},
   "outputs": [
    {
     "data": {
      "text/plain": [
       "array([0.52380952, 0.54545455, 0.56521739])"
      ]
     },
     "execution_count": 43,
     "metadata": {},
     "output_type": "execute_result"
    }
   ],
   "source": [
    "np.divide(vector1, vector2)\n",
    "# 2 diziyi böler."
   ]
  },
  {
   "cell_type": "code",
   "execution_count": 44,
   "metadata": {},
   "outputs": [],
   "source": [
    "vector = np.array([4,9,16,25,36,49])"
   ]
  },
  {
   "cell_type": "code",
   "execution_count": 45,
   "metadata": {},
   "outputs": [
    {
     "data": {
      "text/plain": [
       "array([2., 3., 4., 5., 6., 7.])"
      ]
     },
     "execution_count": 45,
     "metadata": {},
     "output_type": "execute_result"
    }
   ],
   "source": [
    "np.sqrt(vector)\n",
    "# karekökünü alır."
   ]
  },
  {
   "cell_type": "code",
   "execution_count": 46,
   "metadata": {},
   "outputs": [
    {
     "data": {
      "text/plain": [
       "139"
      ]
     },
     "execution_count": 46,
     "metadata": {},
     "output_type": "execute_result"
    }
   ],
   "source": [
    "np.sum(vector)\n",
    "# dizinin toplamını bulur."
   ]
  },
  {
   "cell_type": "code",
   "execution_count": 48,
   "metadata": {},
   "outputs": [
    {
     "data": {
      "text/plain": [
       "7.940000000000001"
      ]
     },
     "execution_count": 48,
     "metadata": {},
     "output_type": "execute_result"
    }
   ],
   "source": [
    "np.dot(vector1,vector2)\n",
    "# scaler çarpımdır. Yani 2 vectörü çarpıp hepsini toplar ve sonucunu verir."
   ]
  },
  {
   "cell_type": "code",
   "execution_count": 51,
   "metadata": {},
   "outputs": [],
   "source": [
    "vector = np.array([3, -21, 4, -6, 11, 26, 9, -3, 12, 30, -17])"
   ]
  },
  {
   "cell_type": "code",
   "execution_count": 52,
   "metadata": {},
   "outputs": [
    {
     "data": {
      "text/plain": [
       "array([  3, -10,   4,  -6,  10,  10,   9,  -3,  10,  10, -10])"
      ]
     },
     "execution_count": 52,
     "metadata": {},
     "output_type": "execute_result"
    }
   ],
   "source": [
    "np.clip(vector, -10, 10)\n",
    "# dizide ki -10 dan küçük olan elemanları => -10 a getir, +10 dan büyük elemanları => +10 a getir demektir."
   ]
  },
  {
   "cell_type": "code",
   "execution_count": 53,
   "metadata": {},
   "outputs": [
    {
     "data": {
      "text/plain": [
       "array([  3, -21,   4,  -6,  10,  10,   9,  -3,  10,  10, -17])"
      ]
     },
     "execution_count": 53,
     "metadata": {},
     "output_type": "execute_result"
    }
   ],
   "source": [
    "np.minimum(vector, 10)\n",
    "# bize 10 dan büyük sayıları 10 formatına çevir demektir."
   ]
  },
  {
   "cell_type": "code",
   "execution_count": 54,
   "metadata": {},
   "outputs": [
    {
     "data": {
      "text/plain": [
       "array([  3, -10,   4,  -6,  11,  26,   9,  -3,  12,  30, -10])"
      ]
     },
     "execution_count": 54,
     "metadata": {},
     "output_type": "execute_result"
    }
   ],
   "source": [
    "np.maximum(vector, -10)\n",
    "# -10 dan küçük sayıları -10 a çevir demektir."
   ]
  },
  {
   "cell_type": "markdown",
   "metadata": {},
   "source": [
    "### Belli değerler ile dizi oluşturma : "
   ]
  },
  {
   "cell_type": "code",
   "execution_count": 55,
   "metadata": {},
   "outputs": [
    {
     "data": {
      "text/plain": [
       "array([ 4.,  9., 16., 25., 36., 49.])"
      ]
     },
     "execution_count": 55,
     "metadata": {},
     "output_type": "execute_result"
    }
   ],
   "source": [
    "empty = np.empty(6)\n",
    "empty\n",
    "# burda daha önce 6 elemanlı oluşturduğum bir vectörü karşıma getirir. "
   ]
  },
  {
   "cell_type": "code",
   "execution_count": 56,
   "metadata": {},
   "outputs": [
    {
     "data": {
      "text/plain": [
       "array([0., 0., 0., 0.])"
      ]
     },
     "execution_count": 56,
     "metadata": {},
     "output_type": "execute_result"
    }
   ],
   "source": [
    "empty = np.zeros(4)\n",
    "empty\n",
    "# zeros ile 4 elemanlı sadece 0 dan oluşan bir dizi verdi."
   ]
  },
  {
   "cell_type": "code",
   "execution_count": 57,
   "metadata": {},
   "outputs": [
    {
     "data": {
      "text/plain": [
       "array([1., 1., 1., 1.])"
      ]
     },
     "execution_count": 57,
     "metadata": {},
     "output_type": "execute_result"
    }
   ],
   "source": [
    "empty = np.ones(4)\n",
    "empty\n",
    "# 4 elemanlı sadece 1 lerden oluşan bir dizi oluşturdu."
   ]
  },
  {
   "cell_type": "code",
   "execution_count": 58,
   "metadata": {},
   "outputs": [
    {
     "data": {
      "text/plain": [
       "array([6, 6, 6, 6])"
      ]
     },
     "execution_count": 58,
     "metadata": {},
     "output_type": "execute_result"
    }
   ],
   "source": [
    "empty = np.full(4, 6)\n",
    "empty\n",
    "# 4 elemanlı sadece elemanları 6 olan dizi oluşturdu."
   ]
  },
  {
   "cell_type": "code",
   "execution_count": 59,
   "metadata": {},
   "outputs": [],
   "source": [
    "vector = np.array([4,1,2,5,7])"
   ]
  },
  {
   "cell_type": "code",
   "execution_count": 60,
   "metadata": {},
   "outputs": [
    {
     "data": {
      "text/plain": [
       "array([1, 1, 1, 1, 1])"
      ]
     },
     "execution_count": 60,
     "metadata": {},
     "output_type": "execute_result"
    }
   ],
   "source": [
    "np.ones_like(vector)\n",
    "# vectorde ki eleman sayısı kadar sadece 1 lerden oluşan dizi üretti."
   ]
  },
  {
   "cell_type": "code",
   "execution_count": 61,
   "metadata": {},
   "outputs": [
    {
     "data": {
      "text/plain": [
       "array([0, 0, 0, 0, 0])"
      ]
     },
     "execution_count": 61,
     "metadata": {},
     "output_type": "execute_result"
    }
   ],
   "source": [
    "np.zeros_like(vector)\n",
    "# vectorde ki eleman sayısı kadar sadece 0 larden oluşan dizi üretti."
   ]
  },
  {
   "cell_type": "markdown",
   "metadata": {},
   "source": [
    "### Rastgele Sayı üretmek(Random)"
   ]
  },
  {
   "cell_type": "code",
   "execution_count": 62,
   "metadata": {},
   "outputs": [
    {
     "data": {
      "text/plain": [
       "array([0.43589457, 0.14363242, 0.59923355, 0.8506856 , 0.14513551,\n",
       "       0.53959147, 0.19437043, 0.98772014, 0.5197688 , 0.27733928])"
      ]
     },
     "execution_count": 62,
     "metadata": {},
     "output_type": "execute_result"
    }
   ],
   "source": [
    "np.random.uniform(size=10)\n",
    "# 10 tane 0 - 1 arasında rastgele sayı üretti."
   ]
  },
  {
   "cell_type": "code",
   "execution_count": 63,
   "metadata": {},
   "outputs": [
    {
     "data": {
      "text/plain": [
       "array([1.54471413, 5.11726705, 3.17559656, 3.22482107, 3.83977883,\n",
       "       5.82019846, 5.21531088, 3.03093392, 2.07950161, 2.08356725])"
      ]
     },
     "execution_count": 63,
     "metadata": {},
     "output_type": "execute_result"
    }
   ],
   "source": [
    "np.random.uniform(1,6,size=10)\n",
    "# 1 ile 6 arasında 10 tane sayı üretti."
   ]
  },
  {
   "cell_type": "code",
   "execution_count": 64,
   "metadata": {},
   "outputs": [
    {
     "data": {
      "text/plain": [
       "array([1.49987002, 1.1658541 , 2.34959703, 2.07396848, 1.48998702,\n",
       "       1.28255954, 1.3567841 , 1.52047294, 1.62833428, 0.98409456])"
      ]
     },
     "execution_count": 64,
     "metadata": {},
     "output_type": "execute_result"
    }
   ],
   "source": [
    "np.random.normal(1.65, 0.5, size=10) # normal dağılıma göre üretir.\n",
    "# ortalaması 1.65, standart sapması 0.5 olan 10 adet sayı üret demektir.\n",
    "# ürettiği sayılar => 1.65 ten 0.5 az ve 0.5 ten fazla sayılar arasındadır."
   ]
  },
  {
   "cell_type": "code",
   "execution_count": 66,
   "metadata": {},
   "outputs": [
    {
     "data": {
      "text/plain": [
       "array([[2.29289183, 4.99725632, 4.21652893, 1.11299765],\n",
       "       [1.23932669, 1.02773414, 2.75239436, 4.27001497],\n",
       "       [5.94036234, 4.93195065, 1.49068799, 2.66001624],\n",
       "       [4.78200849, 4.72028707, 1.47581182, 3.22920506],\n",
       "       [5.64523643, 4.32984909, 3.45087187, 4.04298873]])"
      ]
     },
     "execution_count": 66,
     "metadata": {},
     "output_type": "execute_result"
    }
   ],
   "source": [
    "np.random.uniform(1,6,(5,4))\n",
    "# 1 ile 6 arasında 5 satır, 4 sutunluk bir array üretti."
   ]
  },
  {
   "cell_type": "code",
   "execution_count": 67,
   "metadata": {},
   "outputs": [
    {
     "data": {
      "text/plain": [
       "array([[10.93778271,  8.90393544,  5.93686283,  9.25719928],\n",
       "       [ 8.24666018, 10.05829214, 11.87156302,  8.74901061],\n",
       "       [10.6227135 , 10.72034728, 11.95965209,  6.12282353]])"
      ]
     },
     "execution_count": 67,
     "metadata": {},
     "output_type": "execute_result"
    }
   ],
   "source": [
    "np.random.normal(10,2,(3,4))\n",
    "# ortalaması 10, standart sapması 2 olan 3 satır 4 sutunluk rastgele array üretti."
   ]
  },
  {
   "cell_type": "code",
   "execution_count": 68,
   "metadata": {},
   "outputs": [
    {
     "data": {
      "text/plain": [
       "array([0.03330411, 0.93721941, 0.82361801, 0.23568264, 0.99505498])"
      ]
     },
     "execution_count": 68,
     "metadata": {},
     "output_type": "execute_result"
    }
   ],
   "source": [
    "np.random.random(5)\n",
    "# 0 ile 1 arasında 5 tane sayı üretti."
   ]
  },
  {
   "cell_type": "code",
   "execution_count": 70,
   "metadata": {},
   "outputs": [
    {
     "data": {
      "text/plain": [
       "array([10, 14,  9,  9, 11, 14, 12,  9,  8])"
      ]
     },
     "execution_count": 70,
     "metadata": {},
     "output_type": "execute_result"
    }
   ],
   "source": [
    "np.random.randint(7,15,size=9)\n",
    "# 7 ile 15 arasında 9 tane sayı üretti."
   ]
  },
  {
   "cell_type": "code",
   "execution_count": 71,
   "metadata": {},
   "outputs": [
    {
     "data": {
      "text/plain": [
       "array([[ 8,  5,  6, 14,  5],\n",
       "       [ 5, 12, 13, 14, 10],\n",
       "       [ 9,  6,  5, 18, 18]])"
      ]
     },
     "execution_count": 71,
     "metadata": {},
     "output_type": "execute_result"
    }
   ],
   "source": [
    "np.random.randint(5,20,size=(3,5))\n",
    "# rastgele 3 satır 5 sutunluk array üretti"
   ]
  },
  {
   "cell_type": "markdown",
   "metadata": {},
   "source": [
    "### İki boyutlu arrayler :"
   ]
  },
  {
   "cell_type": "code",
   "execution_count": 72,
   "metadata": {},
   "outputs": [],
   "source": [
    "matrix = np.array([[110., 12.0, 13.0],\n",
    "                  [21.0, 22.0, 23.0],\n",
    "                  [31.0, 32.0, 33.0]\n",
    "                  ])"
   ]
  },
  {
   "cell_type": "code",
   "execution_count": 73,
   "metadata": {},
   "outputs": [
    {
     "data": {
      "text/plain": [
       "array([[110.,  12.,  13.],\n",
       "       [ 21.,  22.,  23.],\n",
       "       [ 31.,  32.,  33.]])"
      ]
     },
     "execution_count": 73,
     "metadata": {},
     "output_type": "execute_result"
    }
   ],
   "source": [
    "matrix"
   ]
  },
  {
   "cell_type": "code",
   "execution_count": 74,
   "metadata": {},
   "outputs": [
    {
     "data": {
      "text/plain": [
       "(3, 3)"
      ]
     },
     "execution_count": 74,
     "metadata": {},
     "output_type": "execute_result"
    }
   ],
   "source": [
    "matrix.shape\n",
    "# 3 satır 3 sutunluk bir array"
   ]
  },
  {
   "cell_type": "code",
   "execution_count": 75,
   "metadata": {},
   "outputs": [
    {
     "data": {
      "text/plain": [
       "2"
      ]
     },
     "execution_count": 75,
     "metadata": {},
     "output_type": "execute_result"
    }
   ],
   "source": [
    "matrix.ndim\n",
    "# 2 boyutlu"
   ]
  },
  {
   "cell_type": "code",
   "execution_count": 76,
   "metadata": {},
   "outputs": [
    {
     "data": {
      "text/plain": [
       "9"
      ]
     },
     "execution_count": 76,
     "metadata": {},
     "output_type": "execute_result"
    }
   ],
   "source": [
    "matrix.size\n",
    "# eleman sayısı 9"
   ]
  },
  {
   "cell_type": "code",
   "execution_count": 77,
   "metadata": {},
   "outputs": [
    {
     "data": {
      "text/plain": [
       "dtype('float64')"
      ]
     },
     "execution_count": 77,
     "metadata": {},
     "output_type": "execute_result"
    }
   ],
   "source": [
    "matrix.dtype\n",
    "# float 64 tipinde 8 byte"
   ]
  },
  {
   "cell_type": "code",
   "execution_count": 78,
   "metadata": {},
   "outputs": [],
   "source": [
    "verticial1 = np.random.randint(11,33,size=(3,3))\n",
    "verticial2 = np.random.randint(41,53,size=(2,3))"
   ]
  },
  {
   "cell_type": "code",
   "execution_count": 80,
   "metadata": {},
   "outputs": [
    {
     "data": {
      "text/plain": [
       "array([[26, 21, 13],\n",
       "       [19, 27, 19],\n",
       "       [22, 18, 22]])"
      ]
     },
     "execution_count": 80,
     "metadata": {},
     "output_type": "execute_result"
    }
   ],
   "source": [
    "verticial1"
   ]
  },
  {
   "cell_type": "code",
   "execution_count": 81,
   "metadata": {},
   "outputs": [
    {
     "data": {
      "text/plain": [
       "array([[48, 49, 50],\n",
       "       [42, 51, 43]])"
      ]
     },
     "execution_count": 81,
     "metadata": {},
     "output_type": "execute_result"
    }
   ],
   "source": [
    "verticial2"
   ]
  },
  {
   "cell_type": "code",
   "execution_count": 79,
   "metadata": {},
   "outputs": [
    {
     "data": {
      "text/plain": [
       "array([[26, 21, 13],\n",
       "       [19, 27, 19],\n",
       "       [22, 18, 22],\n",
       "       [48, 49, 50],\n",
       "       [42, 51, 43]])"
      ]
     },
     "execution_count": 79,
     "metadata": {},
     "output_type": "execute_result"
    }
   ],
   "source": [
    "np.vstack([verticial1,verticial2])\n",
    "# vstack sutun sayısına göre birleştirme yapar. yani sutun sayısı 2 dizide de 3 sutun olduğu için birleştirme 3 sutun olur.\n",
    "# vstack ile birleştireceksiniz sutun sayıları eşit olacak."
   ]
  },
  {
   "cell_type": "code",
   "execution_count": 83,
   "metadata": {},
   "outputs": [],
   "source": [
    "verticial1 = np.random.randint(11,33,size=(4,2))\n",
    "verticial2 = np.random.randint(41,53,size=(4,3))"
   ]
  },
  {
   "cell_type": "code",
   "execution_count": 85,
   "metadata": {},
   "outputs": [
    {
     "data": {
      "text/plain": [
       "array([[18, 29, 44, 52, 41],\n",
       "       [30, 23, 46, 52, 43],\n",
       "       [23, 24, 47, 51, 47],\n",
       "       [30, 14, 50, 49, 41]])"
      ]
     },
     "execution_count": 85,
     "metadata": {},
     "output_type": "execute_result"
    }
   ],
   "source": [
    "np.hstack([verticial1, verticial2])\n",
    "# hstack ile birleştirilecekse satır sayıları eşit olmalıdır. yani satır sayılarına göre birleştirme yapar."
   ]
  },
  {
   "cell_type": "markdown",
   "metadata": {},
   "source": [
    "### Numpy indexleme : "
   ]
  },
  {
   "cell_type": "code",
   "execution_count": 88,
   "metadata": {},
   "outputs": [
    {
     "data": {
      "text/plain": [
       "array([[18, 29, 44, 52, 41],\n",
       "       [30, 23, 46, 52, 43],\n",
       "       [23, 24, 47, 51, 47],\n",
       "       [30, 14, 50, 49, 41]])"
      ]
     },
     "execution_count": 88,
     "metadata": {},
     "output_type": "execute_result"
    }
   ],
   "source": [
    "verticial = np.hstack([verticial1, verticial2])\n",
    "verticial\n",
    "# indexleme satır ve sutunda 0 tabanlı yapılır."
   ]
  },
  {
   "cell_type": "code",
   "execution_count": 89,
   "metadata": {},
   "outputs": [
    {
     "data": {
      "text/plain": [
       "array([18, 29, 44, 52, 41])"
      ]
     },
     "execution_count": 89,
     "metadata": {},
     "output_type": "execute_result"
    }
   ],
   "source": [
    "verticial[0]\n",
    "# ilk satırında ki tüm elemanları verir."
   ]
  },
  {
   "cell_type": "code",
   "execution_count": 90,
   "metadata": {},
   "outputs": [
    {
     "data": {
      "text/plain": [
       "29"
      ]
     },
     "execution_count": 90,
     "metadata": {},
     "output_type": "execute_result"
    }
   ],
   "source": [
    "verticial[0, 1]\n",
    "# ilk satırda ki 2.sutun elemanını al demektir."
   ]
  },
  {
   "cell_type": "code",
   "execution_count": 91,
   "metadata": {},
   "outputs": [
    {
     "data": {
      "text/plain": [
       "array([29, 44, 52])"
      ]
     },
     "execution_count": 91,
     "metadata": {},
     "output_type": "execute_result"
    }
   ],
   "source": [
    "verticial[0, 1:4]\n",
    "# ilk satırda ki 2.sutun elemanı dahil, 4.eleman dahil değil al demektir."
   ]
  },
  {
   "cell_type": "code",
   "execution_count": 93,
   "metadata": {},
   "outputs": [
    {
     "data": {
      "text/plain": [
       "array([[23, 46, 52],\n",
       "       [24, 47, 51]])"
      ]
     },
     "execution_count": 93,
     "metadata": {},
     "output_type": "execute_result"
    }
   ],
   "source": [
    "# 2. ve 3. satırda ki 2,3,4. sutun elemaları getireyim.\n",
    "verticial[1:3, 1:4]"
   ]
  },
  {
   "cell_type": "code",
   "execution_count": 95,
   "metadata": {},
   "outputs": [
    {
     "data": {
      "text/plain": [
       "array([[18, 29, 44, 52, 41],\n",
       "       [30, 23, 46, 52, 43],\n",
       "       [23, 24,  0,  0, 47],\n",
       "       [30, 14,  0,  0, 41]])"
      ]
     },
     "execution_count": 95,
     "metadata": {},
     "output_type": "execute_result"
    }
   ],
   "source": [
    "# son 2 satırdaki 2. ve 3. sutun elemalarını 0 yap.\n",
    "verticial[2:4, 2:4] = 0\n",
    "verticial"
   ]
  },
  {
   "cell_type": "code",
   "execution_count": 96,
   "metadata": {},
   "outputs": [
    {
     "data": {
      "text/plain": [
       "array([[5, 8, 7, 3, 4, 8],\n",
       "       [3, 5, 5, 6, 9, 7],\n",
       "       [7, 9, 4, 6, 7, 7],\n",
       "       [3, 4, 8, 9, 9, 7],\n",
       "       [9, 8, 3, 8, 7, 3]])"
      ]
     },
     "execution_count": 96,
     "metadata": {},
     "output_type": "execute_result"
    }
   ],
   "source": [
    "verticial = np.random.randint(3,10,size=(5,6))\n",
    "verticial"
   ]
  },
  {
   "cell_type": "code",
   "execution_count": 100,
   "metadata": {},
   "outputs": [
    {
     "data": {
      "text/plain": [
       "array([[9, 9]])"
      ]
     },
     "execution_count": 100,
     "metadata": {},
     "output_type": "execute_result"
    }
   ],
   "source": [
    "verticial[3:4, 3:5]\n",
    "# 4. sutunda ki 9,9 elemanlarını getirdik."
   ]
  },
  {
   "cell_type": "code",
   "execution_count": 104,
   "metadata": {},
   "outputs": [
    {
     "data": {
      "text/plain": [
       "8"
      ]
     },
     "execution_count": 104,
     "metadata": {},
     "output_type": "execute_result"
    }
   ],
   "source": [
    "verticial[3,2]\n",
    "# 3. satır, 2. sutundaki eleman"
   ]
  },
  {
   "cell_type": "markdown",
   "metadata": {},
   "source": [
    "### Boyut Değiştirme : "
   ]
  },
  {
   "cell_type": "code",
   "execution_count": 105,
   "metadata": {},
   "outputs": [
    {
     "data": {
      "text/plain": [
       "array([[18, 29],\n",
       "       [30, 23],\n",
       "       [23, 24],\n",
       "       [30, 14]])"
      ]
     },
     "execution_count": 105,
     "metadata": {},
     "output_type": "execute_result"
    }
   ],
   "source": [
    "verticial1"
   ]
  },
  {
   "cell_type": "code",
   "execution_count": 106,
   "metadata": {},
   "outputs": [
    {
     "data": {
      "text/plain": [
       "array([[44, 52, 41],\n",
       "       [46, 52, 43],\n",
       "       [47, 51, 47],\n",
       "       [50, 49, 41]])"
      ]
     },
     "execution_count": 106,
     "metadata": {},
     "output_type": "execute_result"
    }
   ],
   "source": [
    "verticial2"
   ]
  },
  {
   "cell_type": "code",
   "execution_count": 107,
   "metadata": {},
   "outputs": [
    {
     "ename": "ValueError",
     "evalue": "operands could not be broadcast together with shapes (4,2) (4,3) ",
     "output_type": "error",
     "traceback": [
      "\u001b[1;31m---------------------------------------------------------------------------\u001b[0m",
      "\u001b[1;31mValueError\u001b[0m                                Traceback (most recent call last)",
      "\u001b[1;32m<ipython-input-107-7dc1dcec5c72>\u001b[0m in \u001b[0;36m<module>\u001b[1;34m\u001b[0m\n\u001b[1;32m----> 1\u001b[1;33m \u001b[0mverticial1\u001b[0m\u001b[1;33m*\u001b[0m \u001b[0mverticial2\u001b[0m\u001b[1;33m\u001b[0m\u001b[1;33m\u001b[0m\u001b[0m\n\u001b[0m",
      "\u001b[1;31mValueError\u001b[0m: operands could not be broadcast together with shapes (4,2) (4,3) "
     ]
    }
   ],
   "source": [
    "verticial1* verticial2\n",
    "# yapılamaz çünkü satır ve sutun sayıları eşit olmalı."
   ]
  },
  {
   "cell_type": "code",
   "execution_count": 109,
   "metadata": {},
   "outputs": [
    {
     "data": {
      "text/plain": [
       "array([[9, 7, 7],\n",
       "       [4, 8, 4]])"
      ]
     },
     "execution_count": 109,
     "metadata": {},
     "output_type": "execute_result"
    }
   ],
   "source": [
    "verticial1 = np.random.randint(3,10,size=(2,3))\n",
    "verticial1"
   ]
  },
  {
   "cell_type": "code",
   "execution_count": 112,
   "metadata": {},
   "outputs": [
    {
     "data": {
      "text/plain": [
       "array([[ 9, 13, 11],\n",
       "       [ 9,  9, 10]])"
      ]
     },
     "execution_count": 112,
     "metadata": {},
     "output_type": "execute_result"
    }
   ],
   "source": [
    "verticial2 = np.random.randint(9,15,size=(2,3))\n",
    "verticial2"
   ]
  },
  {
   "cell_type": "code",
   "execution_count": 113,
   "metadata": {},
   "outputs": [
    {
     "data": {
      "text/plain": [
       "array([[81, 91, 77],\n",
       "       [36, 72, 40]])"
      ]
     },
     "execution_count": 113,
     "metadata": {},
     "output_type": "execute_result"
    }
   ],
   "source": [
    "verticial1 * verticial2"
   ]
  },
  {
   "cell_type": "markdown",
   "metadata": {},
   "source": [
    "Not : Linear cebirdeki matris çarpımları ile karıştırılmamalı. orda ilk matrisin sutun sayısı ile 2. matrisin satır sayısı eşit olmalı, burda satır ve sutun sayıları eşit olmalıdır."
   ]
  },
  {
   "cell_type": "code",
   "execution_count": 114,
   "metadata": {},
   "outputs": [
    {
     "data": {
      "text/plain": [
       "array([[27, 21, 21],\n",
       "       [12, 24, 12]])"
      ]
     },
     "execution_count": 114,
     "metadata": {},
     "output_type": "execute_result"
    }
   ],
   "source": [
    "3 * verticial1\n",
    "# 3 ile tüm elemanları sıra ile çarpar."
   ]
  },
  {
   "cell_type": "code",
   "execution_count": 117,
   "metadata": {},
   "outputs": [
    {
     "data": {
      "text/plain": [
       "array([4, 1, 2, 5, 7])"
      ]
     },
     "execution_count": 117,
     "metadata": {},
     "output_type": "execute_result"
    }
   ],
   "source": [
    "vector"
   ]
  },
  {
   "cell_type": "code",
   "execution_count": 118,
   "metadata": {},
   "outputs": [
    {
     "data": {
      "text/plain": [
       "matrix([[4, 1, 2, 5, 7]])"
      ]
     },
     "execution_count": 118,
     "metadata": {},
     "output_type": "execute_result"
    }
   ],
   "source": [
    "np.asmatrix(vector)\n",
    "# artık 2 boyutlu oldu."
   ]
  },
  {
   "cell_type": "code",
   "execution_count": 119,
   "metadata": {},
   "outputs": [
    {
     "data": {
      "text/plain": [
       "array([[ 9,  9],\n",
       "       [13,  9],\n",
       "       [11, 10]])"
      ]
     },
     "execution_count": 119,
     "metadata": {},
     "output_type": "execute_result"
    }
   ],
   "source": [
    "verticial2.transpose()\n",
    "# satır sayıları ile sutun sayıları değişti."
   ]
  },
  {
   "cell_type": "code",
   "execution_count": 120,
   "metadata": {},
   "outputs": [
    {
     "data": {
      "text/plain": [
       "matrix([[4, 1, 2, 5, 7]])"
      ]
     },
     "execution_count": 120,
     "metadata": {},
     "output_type": "execute_result"
    }
   ],
   "source": [
    "vector = np.asmatrix(vector)\n",
    "vector"
   ]
  },
  {
   "cell_type": "code",
   "execution_count": 121,
   "metadata": {},
   "outputs": [
    {
     "data": {
      "text/plain": [
       "matrix([[4],\n",
       "        [1],\n",
       "        [2],\n",
       "        [5],\n",
       "        [7]])"
      ]
     },
     "execution_count": 121,
     "metadata": {},
     "output_type": "execute_result"
    }
   ],
   "source": [
    "vector.transpose()\n",
    "# satırları sutun yaptı."
   ]
  },
  {
   "cell_type": "code",
   "execution_count": 122,
   "metadata": {},
   "outputs": [
    {
     "data": {
      "text/plain": [
       "matrix([[1, 2, 3, 4, 5]])"
      ]
     },
     "execution_count": 122,
     "metadata": {},
     "output_type": "execute_result"
    }
   ],
   "source": [
    "one_row = np.array([1,2,3,4,5])\n",
    "one_row = np.asmatrix(one_row)\n",
    "one_row"
   ]
  },
  {
   "cell_type": "code",
   "execution_count": 125,
   "metadata": {},
   "outputs": [
    {
     "data": {
      "text/plain": [
       "matrix([[9],\n",
       "        [8],\n",
       "        [7],\n",
       "        [6],\n",
       "        [5]])"
      ]
     },
     "execution_count": 125,
     "metadata": {},
     "output_type": "execute_result"
    }
   ],
   "source": [
    "vector = np.array([9,8,7,6,5])\n",
    "vector = np.asmatrix(vector).transpose()\n",
    "vector"
   ]
  },
  {
   "cell_type": "code",
   "execution_count": 126,
   "metadata": {},
   "outputs": [
    {
     "data": {
      "text/plain": [
       "[array([[1, 2, 3, 4, 5],\n",
       "        [1, 2, 3, 4, 5],\n",
       "        [1, 2, 3, 4, 5],\n",
       "        [1, 2, 3, 4, 5],\n",
       "        [1, 2, 3, 4, 5]]),\n",
       " array([[9, 9, 9, 9, 9],\n",
       "        [8, 8, 8, 8, 8],\n",
       "        [7, 7, 7, 7, 7],\n",
       "        [6, 6, 6, 6, 6],\n",
       "        [5, 5, 5, 5, 5]])]"
      ]
     },
     "execution_count": 126,
     "metadata": {},
     "output_type": "execute_result"
    }
   ],
   "source": [
    "np.broadcast_arrays(one_row, vector)\n",
    "# one_row eleman sayısı => 5 tir. bize 5 satır ve 5 sutunluk iki tane array oluşturdu. "
   ]
  },
  {
   "cell_type": "code",
   "execution_count": 128,
   "metadata": {},
   "outputs": [
    {
     "data": {
      "text/plain": [
       "[array([[9, 9, 9, 9, 9],\n",
       "        [8, 8, 8, 8, 8],\n",
       "        [7, 7, 7, 7, 7],\n",
       "        [6, 6, 6, 6, 6],\n",
       "        [5, 5, 5, 5, 5]]),\n",
       " array([[1, 2, 3, 4, 5],\n",
       "        [1, 2, 3, 4, 5],\n",
       "        [1, 2, 3, 4, 5],\n",
       "        [1, 2, 3, 4, 5],\n",
       "        [1, 2, 3, 4, 5]])]"
      ]
     },
     "execution_count": 128,
     "metadata": {},
     "output_type": "execute_result"
    }
   ],
   "source": [
    "np.broadcast_arrays(vector, one_row)\n",
    "# vector eleman sayısı => 5 tir. bize 5 satır ve 5 sutunluk iki tane array oluşturdu. "
   ]
  },
  {
   "cell_type": "code",
   "execution_count": 129,
   "metadata": {},
   "outputs": [
    {
     "data": {
      "text/plain": [
       "matrix([[9],\n",
       "        [8],\n",
       "        [7]])"
      ]
     },
     "execution_count": 129,
     "metadata": {},
     "output_type": "execute_result"
    }
   ],
   "source": [
    "vector = np.array([9,8,7])\n",
    "vector = np.asmatrix(vector).transpose()\n",
    "vector"
   ]
  },
  {
   "cell_type": "code",
   "execution_count": 130,
   "metadata": {},
   "outputs": [
    {
     "data": {
      "text/plain": [
       "[array([[1, 2, 3, 4, 5],\n",
       "        [1, 2, 3, 4, 5],\n",
       "        [1, 2, 3, 4, 5]]),\n",
       " array([[9, 9, 9, 9, 9],\n",
       "        [8, 8, 8, 8, 8],\n",
       "        [7, 7, 7, 7, 7]])]"
      ]
     },
     "execution_count": 130,
     "metadata": {},
     "output_type": "execute_result"
    }
   ],
   "source": [
    "np.broadcast_arrays(one_row, vector)\n",
    "# one_row matrisi eleman sayısı kadar satır ve vector arrayi eleman sayısı kadar sutun üretir."
   ]
  },
  {
   "cell_type": "code",
   "execution_count": null,
   "metadata": {},
   "outputs": [],
   "source": []
  },
  {
   "cell_type": "markdown",
   "metadata": {},
   "source": [
    "### Reshape ve Flatten ile boyut Değiştirme : "
   ]
  },
  {
   "cell_type": "code",
   "execution_count": 132,
   "metadata": {},
   "outputs": [
    {
     "data": {
      "text/plain": [
       "array([ 5,  6,  7,  8,  9, 10, 11, 12, 13, 14, 15, 16, 17, 18, 19, 20, 21,\n",
       "       22, 23, 24])"
      ]
     },
     "execution_count": 132,
     "metadata": {},
     "output_type": "execute_result"
    }
   ],
   "source": [
    "a = np.arange(5,25)\n",
    "a"
   ]
  },
  {
   "cell_type": "code",
   "execution_count": 133,
   "metadata": {},
   "outputs": [
    {
     "data": {
      "text/plain": [
       "array([[ 5,  6,  7,  8,  9],\n",
       "       [10, 11, 12, 13, 14],\n",
       "       [15, 16, 17, 18, 19],\n",
       "       [20, 21, 22, 23, 24]])"
      ]
     },
     "execution_count": 133,
     "metadata": {},
     "output_type": "execute_result"
    }
   ],
   "source": [
    "a = a.reshape(4,5)\n",
    "a\n",
    "# 25-5 = 20 => 20 nin katı olacak şekilde satır ve sutun sayısı yazıp çok boyutlu bir arraye çevirebiliriz."
   ]
  },
  {
   "cell_type": "code",
   "execution_count": 134,
   "metadata": {},
   "outputs": [
    {
     "data": {
      "text/plain": [
       "array([[ 5,  6,  7,  8,  9, 10, 11, 12, 13, 14],\n",
       "       [15, 16, 17, 18, 19, 20, 21, 22, 23, 24]])"
      ]
     },
     "execution_count": 134,
     "metadata": {},
     "output_type": "execute_result"
    }
   ],
   "source": [
    "a = a.reshape(2,10)\n",
    "a\n",
    "# 10 ve 2 20 nin katıdır. bu şekilede çevirebiliriz."
   ]
  },
  {
   "cell_type": "code",
   "execution_count": 135,
   "metadata": {},
   "outputs": [
    {
     "data": {
      "text/plain": [
       "2"
      ]
     },
     "execution_count": 135,
     "metadata": {},
     "output_type": "execute_result"
    }
   ],
   "source": [
    "a.ndim"
   ]
  },
  {
   "cell_type": "code",
   "execution_count": 139,
   "metadata": {},
   "outputs": [
    {
     "data": {
      "text/plain": [
       "array([ 5,  6,  7,  8,  9, 10, 11, 12, 13, 14, 15, 16, 17, 18, 19, 20, 21,\n",
       "       22, 23, 24])"
      ]
     },
     "execution_count": 139,
     "metadata": {},
     "output_type": "execute_result"
    }
   ],
   "source": [
    "# a 2 boyutlu ama ben tek boyutlu olarak erişmek istiyorum:\n",
    "a.flatten()\n",
    "# tek boyutlu bir dizi verdi."
   ]
  },
  {
   "cell_type": "code",
   "execution_count": 141,
   "metadata": {},
   "outputs": [
    {
     "data": {
      "text/plain": [
       "array([[ 5,  6,  7,  8,  9, 10, 11, 12, 13, 14],\n",
       "       [15, 16, 17, 18, 19, 20, 21, 22, 23, 24]])"
      ]
     },
     "execution_count": 141,
     "metadata": {},
     "output_type": "execute_result"
    }
   ],
   "source": [
    "a"
   ]
  },
  {
   "cell_type": "code",
   "execution_count": 146,
   "metadata": {},
   "outputs": [
    {
     "data": {
      "text/plain": [
       "1"
      ]
     },
     "execution_count": 146,
     "metadata": {},
     "output_type": "execute_result"
    }
   ],
   "source": [
    "a.flatten().ndim"
   ]
  },
  {
   "cell_type": "markdown",
   "metadata": {},
   "source": [
    "### Generate : "
   ]
  },
  {
   "cell_type": "code",
   "execution_count": 149,
   "metadata": {},
   "outputs": [
    {
     "data": {
      "text/plain": [
       "array([12, 13, 14, 15, 16])"
      ]
     },
     "execution_count": 149,
     "metadata": {},
     "output_type": "execute_result"
    }
   ],
   "source": [
    "xx = np.arange(12,17)\n",
    "xx"
   ]
  },
  {
   "cell_type": "code",
   "execution_count": 151,
   "metadata": {},
   "outputs": [
    {
     "data": {
      "text/plain": [
       "array([30, 35, 40, 45, 50, 55])"
      ]
     },
     "execution_count": 151,
     "metadata": {},
     "output_type": "execute_result"
    }
   ],
   "source": [
    "yy = np.arange(30,60,5)\n",
    "yy"
   ]
  },
  {
   "cell_type": "code",
   "execution_count": 157,
   "metadata": {},
   "outputs": [
    {
     "data": {
      "text/plain": [
       "[array([[12, 13, 14, 15, 16],\n",
       "        [12, 13, 14, 15, 16],\n",
       "        [12, 13, 14, 15, 16],\n",
       "        [12, 13, 14, 15, 16],\n",
       "        [12, 13, 14, 15, 16],\n",
       "        [12, 13, 14, 15, 16]]),\n",
       " array([[30, 30, 30, 30, 30],\n",
       "        [35, 35, 35, 35, 35],\n",
       "        [40, 40, 40, 40, 40],\n",
       "        [45, 45, 45, 45, 45],\n",
       "        [50, 50, 50, 50, 50],\n",
       "        [55, 55, 55, 55, 55]])]"
      ]
     },
     "execution_count": 157,
     "metadata": {},
     "output_type": "execute_result"
    }
   ],
   "source": [
    "np.meshgrid(xx,yy)\n",
    "# mesggrid bize xx arrayi eleman sayısı kadar satır, yy arrayi eleman sayısı kadar sutun üretir."
   ]
  },
  {
   "cell_type": "code",
   "execution_count": 158,
   "metadata": {},
   "outputs": [
    {
     "data": {
      "text/plain": [
       "array([40., 45., 50., 55., 60., 65., 70., 75., 80., 85., 90.])"
      ]
     },
     "execution_count": 158,
     "metadata": {},
     "output_type": "execute_result"
    }
   ],
   "source": [
    "z_min = 40\n",
    "z_max = 90\n",
    "zn = 11\n",
    "z_value = np.linspace(z_min, z_max, zn)\n",
    "z_value\n",
    "# 40 ve 90 arasında 11 tane sayı üretti."
   ]
  },
  {
   "cell_type": "code",
   "execution_count": 161,
   "metadata": {},
   "outputs": [
    {
     "data": {
      "text/plain": [
       "array([ 2.,  4.,  8., 16.])"
      ]
     },
     "execution_count": 161,
     "metadata": {},
     "output_type": "execute_result"
    }
   ],
   "source": [
    "v_min = 2\n",
    "v_max = 16\n",
    "vn = 4\n",
    "v_value = np.geomspace(v_min, v_max, vn)\n",
    "v_value\n",
    "# 16 2' nin 4. kuvveti olduğu için 2 ve 16 arasında 2 ve üsleri şeklinde sayılar üretir."
   ]
  },
  {
   "cell_type": "code",
   "execution_count": 162,
   "metadata": {},
   "outputs": [
    {
     "data": {
      "text/plain": [
       "array([ 3.,  9., 27., 81.])"
      ]
     },
     "execution_count": 162,
     "metadata": {},
     "output_type": "execute_result"
    }
   ],
   "source": [
    "np.geomspace(3,81,4)"
   ]
  },
  {
   "cell_type": "code",
   "execution_count": 168,
   "metadata": {},
   "outputs": [
    {
     "data": {
      "text/plain": [
       "array([   100.,   1000.,  10000., 100000.])"
      ]
     },
     "execution_count": 168,
     "metadata": {},
     "output_type": "execute_result"
    }
   ],
   "source": [
    "np.logspace(2,5,4)\n",
    "# 10 üzeri 2 ve 10 üzeri 5 arası 4 tane üret demektir. logaritma taban belirtilmesse 10 tabanlıdır."
   ]
  },
  {
   "cell_type": "markdown",
   "metadata": {},
   "source": [
    "### Birleştirme : "
   ]
  },
  {
   "cell_type": "code",
   "execution_count": 169,
   "metadata": {},
   "outputs": [],
   "source": [
    "vector1 = np.array([1,2,3])\n",
    "vector2 = np.array([4,5,6])"
   ]
  },
  {
   "cell_type": "code",
   "execution_count": 172,
   "metadata": {},
   "outputs": [
    {
     "data": {
      "text/plain": [
       "array([1, 2, 3, 4, 5, 6])"
      ]
     },
     "execution_count": 172,
     "metadata": {},
     "output_type": "execute_result"
    }
   ],
   "source": [
    "np.r_[vector1, vector2]\n",
    "# satır olarak birleştirir."
   ]
  },
  {
   "cell_type": "code",
   "execution_count": 173,
   "metadata": {},
   "outputs": [
    {
     "data": {
      "text/plain": [
       "array([[1, 4],\n",
       "       [2, 5],\n",
       "       [3, 6]])"
      ]
     },
     "execution_count": 173,
     "metadata": {},
     "output_type": "execute_result"
    }
   ],
   "source": [
    "np.c_[vector1, vector2]\n",
    "# sutunlamasına birleştirir."
   ]
  },
  {
   "cell_type": "code",
   "execution_count": 179,
   "metadata": {},
   "outputs": [],
   "source": [
    "vector1 = np.arange(1,7).reshape(3,2)\n",
    "vector2 = np.arange(8,14).reshape(3,2)"
   ]
  },
  {
   "cell_type": "code",
   "execution_count": 180,
   "metadata": {},
   "outputs": [
    {
     "data": {
      "text/plain": [
       "array([[ 1,  2],\n",
       "       [ 3,  4],\n",
       "       [ 5,  6],\n",
       "       [ 8,  9],\n",
       "       [10, 11],\n",
       "       [12, 13]])"
      ]
     },
     "execution_count": 180,
     "metadata": {},
     "output_type": "execute_result"
    }
   ],
   "source": [
    "np.r_[vector1, vector2]\n",
    "# 2 vectörün satır sayıları 3 + 3 = 6 yapıyor. O yüzden toplamda 6 satır, 2 sutun olarak birleştirir."
   ]
  },
  {
   "cell_type": "code",
   "execution_count": 181,
   "metadata": {},
   "outputs": [
    {
     "data": {
      "text/plain": [
       "array([[ 1,  2,  8,  9],\n",
       "       [ 3,  4, 10, 11],\n",
       "       [ 5,  6, 12, 13]])"
      ]
     },
     "execution_count": 181,
     "metadata": {},
     "output_type": "execute_result"
    }
   ],
   "source": [
    "np.c_[vector1, vector2]\n",
    "# 2 vectörün sutun sayıları 2 + 2 = 4 yapıyor. O yüzden toplamda 4 sutun, 3 satır olarak birleştirir."
   ]
  },
  {
   "cell_type": "code",
   "execution_count": 184,
   "metadata": {},
   "outputs": [
    {
     "data": {
      "text/plain": [
       "array([[1, 2],\n",
       "       [3, 4],\n",
       "       [5, 6]])"
      ]
     },
     "execution_count": 184,
     "metadata": {},
     "output_type": "execute_result"
    }
   ],
   "source": [
    "vector1"
   ]
  },
  {
   "cell_type": "markdown",
   "metadata": {},
   "source": [
    "### Numpy İstatistik : "
   ]
  },
  {
   "cell_type": "code",
   "execution_count": 2,
   "metadata": {},
   "outputs": [],
   "source": [
    "array = np.random.randint(10,32,size=9)"
   ]
  },
  {
   "cell_type": "code",
   "execution_count": 4,
   "metadata": {},
   "outputs": [
    {
     "name": "stdout",
     "output_type": "stream",
     "text": [
      "Mean ile ortalama bulma =  19.555555555555557\n",
      "Average ile ortalama bulma =  19.555555555555557\n"
     ]
    }
   ],
   "source": [
    "# aritmetik ortalama : \n",
    "print(\"Mean ile ortalama bulma = \", array.mean())\n",
    "print(\"Average ile ortalama bulma = \", np.average(array))"
   ]
  },
  {
   "cell_type": "code",
   "execution_count": 5,
   "metadata": {},
   "outputs": [
    {
     "data": {
      "text/plain": [
       "19.0"
      ]
     },
     "execution_count": 5,
     "metadata": {},
     "output_type": "execute_result"
    }
   ],
   "source": [
    "# ortanca medyan değeri en ortadaki değer : \n",
    "np.median(array)"
   ]
  },
  {
   "cell_type": "code",
   "execution_count": 6,
   "metadata": {},
   "outputs": [
    {
     "data": {
      "text/plain": [
       "36.691358024691354"
      ]
     },
     "execution_count": 6,
     "metadata": {},
     "output_type": "execute_result"
    }
   ],
   "source": [
    "# varyans değerini bulma : \n",
    "array.var()"
   ]
  },
  {
   "cell_type": "code",
   "execution_count": 7,
   "metadata": {},
   "outputs": [
    {
     "data": {
      "text/plain": [
       "6.057339186861782"
      ]
     },
     "execution_count": 7,
     "metadata": {},
     "output_type": "execute_result"
    }
   ],
   "source": [
    "# standart sapma değerini bulma :  varyansın kareköküdür. herşeyin ortalamadan ne kadar saptığını gösterir.\n",
    "array.std()"
   ]
  },
  {
   "cell_type": "code",
   "execution_count": 10,
   "metadata": {},
   "outputs": [
    {
     "name": "stdout",
     "output_type": "stream",
     "text": [
      "percentile ile Q1 değeri =  15.0\n",
      "percentile ile Q3 değeri =  22.0\n",
      "quantille ile Q1 değeri =  15.0\n",
      "quantille ile Q3 değeri =  22.0\n"
     ]
    }
   ],
   "source": [
    "# kartil bulma : \n",
    "print(\"percentile ile Q1 değeri = \", np.percentile(array,25))\n",
    "print(\"percentile ile Q3 değeri = \", np.percentile(array,75))\n",
    "print(\"quantille ile Q1 değeri = \", np.quantile(array,0.25))\n",
    "print(\"quantille ile Q3 değeri = \", np.quantile(array,0.75))"
   ]
  },
  {
   "cell_type": "code",
   "execution_count": 13,
   "metadata": {},
   "outputs": [
    {
     "name": "stdout",
     "output_type": "stream",
     "text": [
      "Dizinin en küçük değeri =  10\n",
      "Dizinin en büyük değeri =  31\n",
      "Dizinin en büyük ve en küçük değeri arasındaki fark =  21\n"
     ]
    }
   ],
   "source": [
    "# en küçük ve en büyük değeri bulma : \n",
    "print(\"Dizinin en küçük değeri = \", array.min())\n",
    "print(\"Dizinin en büyük değeri = \", array.max())\n",
    "print(\"Dizinin en büyük ve en küçük değeri arasındaki fark = \", np.ptp(array))"
   ]
  },
  {
   "cell_type": "markdown",
   "metadata": {},
   "source": [
    "### Numpy ile Linear Cebir :"
   ]
  },
  {
   "cell_type": "code",
   "execution_count": 14,
   "metadata": {},
   "outputs": [],
   "source": [
    "import numpy.matlib\n",
    "# matlib bize matris üretir."
   ]
  },
  {
   "cell_type": "code",
   "execution_count": 15,
   "metadata": {},
   "outputs": [
    {
     "data": {
      "text/plain": [
       "matrix([[ 20.75308642,  41.5308642 ,  91.30864198],\n",
       "        [ 12.64197531,  20.75308642,   0.30864198],\n",
       "        [  5.97530864, 130.97530864,   5.97530864]])"
      ]
     },
     "execution_count": 15,
     "metadata": {},
     "output_type": "execute_result"
    }
   ],
   "source": [
    "empty = np.matlib.zeros((3,3))\n",
    "empty\n",
    "# 3 satır 3 sutunluk bir matris üretti. Empty ile bellekte daha önce kayıtlı olan değerlerden üretti."
   ]
  },
  {
   "cell_type": "code",
   "execution_count": 17,
   "metadata": {},
   "outputs": [
    {
     "data": {
      "text/plain": [
       "matrix([[0., 0., 0.],\n",
       "        [0., 0., 0.]])"
      ]
     },
     "execution_count": 17,
     "metadata": {},
     "output_type": "execute_result"
    }
   ],
   "source": [
    "zero = np.matlib.zeros((2,3))\n",
    "zero\n",
    "# 2 satır 3 sutunluk matris üretti."
   ]
  },
  {
   "cell_type": "code",
   "execution_count": 21,
   "metadata": {},
   "outputs": [
    {
     "data": {
      "text/plain": [
       "matrix([[1., 1., 1.],\n",
       "        [1., 1., 1.],\n",
       "        [1., 1., 1.]])"
      ]
     },
     "execution_count": 21,
     "metadata": {},
     "output_type": "execute_result"
    }
   ],
   "source": [
    "one = np.matlib.ones((3,3))\n",
    "one\n",
    "# 3 satır 3 sutunluk sadece 1 lerden oluşan bir matris üretti."
   ]
  },
  {
   "cell_type": "code",
   "execution_count": 20,
   "metadata": {},
   "outputs": [
    {
     "data": {
      "text/plain": [
       "matrix([[0.13696327, 0.5815832 , 0.29261263, 0.58714088],\n",
       "        [0.86149389, 0.04971098, 0.51758948, 0.24602283],\n",
       "        [0.44424114, 0.17742686, 0.29524522, 0.2793114 ]])"
      ]
     },
     "execution_count": 20,
     "metadata": {},
     "output_type": "execute_result"
    }
   ],
   "source": [
    "random = np.matlib.rand((3,4))\n",
    "random\n",
    "# 0 ve 1 arasında 3 satır 4 sutunluk değer üretti. "
   ]
  },
  {
   "cell_type": "code",
   "execution_count": 22,
   "metadata": {},
   "outputs": [
    {
     "data": {
      "text/plain": [
       "matrix([[1., 0., 0.],\n",
       "        [0., 1., 0.],\n",
       "        [0., 0., 1.]])"
      ]
     },
     "execution_count": 22,
     "metadata": {},
     "output_type": "execute_result"
    }
   ],
   "source": [
    "birim = np.matlib.identity(3)\n",
    "birim\n",
    "# 3 satır 3 sutunluk bir matris üretti. Tek değer verilir. Çünkü birim matris kare matrisidir. Yani satır ve sutun sayısı eşit."
   ]
  },
  {
   "cell_type": "markdown",
   "metadata": {},
   "source": [
    "### Denklem Çözme : "
   ]
  },
  {
   "cell_type": "raw",
   "metadata": {},
   "source": [
    "80 = 4x + 12y\n",
    "146 = 7x + 15y\n",
    "x ve y kaçtır?"
   ]
  },
  {
   "cell_type": "code",
   "execution_count": 23,
   "metadata": {},
   "outputs": [
    {
     "name": "stdout",
     "output_type": "stream",
     "text": [
      "X değeri =  23.0 ve y değeri =  -1.0\n"
     ]
    }
   ],
   "source": [
    "A = np.array([[4,12], [7,15]])\n",
    "B = np.array([80,146])\n",
    "x, y = np.linalg.solve(A,B)\n",
    "print(\"X değeri = \", round(x,2), \"ve\", \"y değeri = \", round(y,2))"
   ]
  },
  {
   "cell_type": "markdown",
   "metadata": {},
   "source": [
    "### Determinant bulma :"
   ]
  },
  {
   "cell_type": "code",
   "execution_count": 24,
   "metadata": {},
   "outputs": [
    {
     "data": {
      "text/plain": [
       "array([[8, 9, 9],\n",
       "       [6, 4, 4],\n",
       "       [3, 3, 9]])"
      ]
     },
     "execution_count": 24,
     "metadata": {},
     "output_type": "execute_result"
    }
   ],
   "source": [
    "matris = np.random.randint(3,10,size=(3,3))\n",
    "matris"
   ]
  },
  {
   "cell_type": "code",
   "execution_count": 29,
   "metadata": {},
   "outputs": [
    {
     "name": "stdout",
     "output_type": "stream",
     "text": [
      "A matrisinin determinant değeri =  -131.99999999999997\n"
     ]
    }
   ],
   "source": [
    "determinant = np.linalg.det(matris)\n",
    "print(\"A matrisinin determinant değeri = \", determinant)"
   ]
  },
  {
   "cell_type": "code",
   "execution_count": 28,
   "metadata": {},
   "outputs": [
    {
     "data": {
      "text/plain": [
       "array([17.97712068, -1.5913198 ,  4.61419912])"
      ]
     },
     "execution_count": 28,
     "metadata": {},
     "output_type": "execute_result"
    }
   ],
   "source": [
    "# eigens değeri bulma : \n",
    "np.linalg.eigvals(matris)"
   ]
  },
  {
   "cell_type": "code",
   "execution_count": null,
   "metadata": {},
   "outputs": [],
   "source": []
  },
  {
   "cell_type": "markdown",
   "metadata": {},
   "source": [
    "### Dizi sıralama : "
   ]
  },
  {
   "cell_type": "code",
   "execution_count": 30,
   "metadata": {},
   "outputs": [
    {
     "data": {
      "text/plain": [
       "array([15, 26, 10, 16, 15, 19, 22, 31, 22])"
      ]
     },
     "execution_count": 30,
     "metadata": {},
     "output_type": "execute_result"
    }
   ],
   "source": [
    "array"
   ]
  },
  {
   "cell_type": "code",
   "execution_count": 33,
   "metadata": {},
   "outputs": [],
   "source": [
    "array_copy = array.copy()\n",
    "# arrayi kopyalar."
   ]
  },
  {
   "cell_type": "code",
   "execution_count": 35,
   "metadata": {},
   "outputs": [
    {
     "data": {
      "text/plain": [
       "array([15, 26, 10, 16, 15, 19, 22, 31, 22])"
      ]
     },
     "execution_count": 35,
     "metadata": {},
     "output_type": "execute_result"
    }
   ],
   "source": [
    "array_copy"
   ]
  },
  {
   "cell_type": "code",
   "execution_count": 31,
   "metadata": {},
   "outputs": [
    {
     "data": {
      "text/plain": [
       "array([10, 15, 15, 16, 19, 22, 22, 26, 31])"
      ]
     },
     "execution_count": 31,
     "metadata": {},
     "output_type": "execute_result"
    }
   ],
   "source": [
    "np.sort(array)\n",
    "# küçükten büyüğe sıralar. ama arrayi değişeitmez."
   ]
  },
  {
   "cell_type": "code",
   "execution_count": 37,
   "metadata": {},
   "outputs": [
    {
     "data": {
      "text/plain": [
       "array([10, 15, 15, 16, 19, 22, 22, 26, 31])"
      ]
     },
     "execution_count": 37,
     "metadata": {},
     "output_type": "execute_result"
    }
   ],
   "source": [
    "array_copy.sort()\n",
    "array_copy\n",
    "# dersek arrayin orjinalini değiştirerek küçükten büyüğe sort eder."
   ]
  },
  {
   "cell_type": "code",
   "execution_count": 38,
   "metadata": {},
   "outputs": [
    {
     "data": {
      "text/plain": [
       "array([2, 0, 4, 3, 5, 6, 8, 1, 7], dtype=int64)"
      ]
     },
     "execution_count": 38,
     "metadata": {},
     "output_type": "execute_result"
    }
   ],
   "source": [
    "np.argsort(array)\n",
    "# burda ise arrayde değişklik yapmadan en küçük değerden en büyük değere göre index numaralarına göre sıralar.\n",
    "# en küçük eleman 10 dur. onunda index numarası 2 dir. Bu şekilde sıralar."
   ]
  },
  {
   "cell_type": "code",
   "execution_count": 46,
   "metadata": {},
   "outputs": [
    {
     "name": "stdout",
     "output_type": "stream",
     "text": [
      "Normal arrayimiz =  [15 26 10 16 15 19 22 31 22]\n",
      "index numaralarına göre küçükten büyüğe sıralama =  [2 0 4 3 5 6 8 1 7]\n",
      "indexlere göre küçükten büyüğe sıralı değerler =  [10 15 15 16 19 22 22 26 31]\n"
     ]
    }
   ],
   "source": [
    "print(\"Normal arrayimiz = \", array)\n",
    "argsorted = np.argsort(array)\n",
    "print(\"index numaralarına göre küçükten büyüğe sıralama = \", argsorted)\n",
    "valsorted = array[argsorted]\n",
    "print(\"indexlere göre küçükten büyüğe sıralı değerler = \", valsorted)"
   ]
  },
  {
   "cell_type": "code",
   "execution_count": 47,
   "metadata": {},
   "outputs": [
    {
     "data": {
      "text/plain": [
       "array([22, 31, 22, 19, 15, 16, 10, 26, 15])"
      ]
     },
     "execution_count": 47,
     "metadata": {},
     "output_type": "execute_result"
    }
   ],
   "source": [
    "np.flip(array)\n",
    "# arrayi tersten sıralama."
   ]
  },
  {
   "cell_type": "code",
   "execution_count": 50,
   "metadata": {},
   "outputs": [
    {
     "data": {
      "text/plain": [
       "array([[ 7, 11, 13, 12],\n",
       "       [22,  7, 14, 10],\n",
       "       [11, 17, 23, 21]])"
      ]
     },
     "execution_count": 50,
     "metadata": {},
     "output_type": "execute_result"
    }
   ],
   "source": [
    "matrix = np.random.randint(5,25,size=(3,4))\n",
    "matrix"
   ]
  },
  {
   "cell_type": "code",
   "execution_count": 51,
   "metadata": {},
   "outputs": [
    {
     "data": {
      "text/plain": [
       "array([[ 7,  7, 13, 10],\n",
       "       [11, 11, 14, 12],\n",
       "       [22, 17, 23, 21]])"
      ]
     },
     "execution_count": 51,
     "metadata": {},
     "output_type": "execute_result"
    }
   ],
   "source": [
    "np.sort(matrix, axis=0)\n",
    "# sutunları küçükten büyüğe sıralar."
   ]
  },
  {
   "cell_type": "code",
   "execution_count": 52,
   "metadata": {},
   "outputs": [
    {
     "data": {
      "text/plain": [
       "array([[ 7, 11, 12, 13],\n",
       "       [ 7, 10, 14, 22],\n",
       "       [11, 17, 21, 23]])"
      ]
     },
     "execution_count": 52,
     "metadata": {},
     "output_type": "execute_result"
    }
   ],
   "source": [
    "np.sort(matrix, axis=1)\n",
    "# satırları küçükten büyüğe sıralar."
   ]
  },
  {
   "cell_type": "raw",
   "metadata": {},
   "source": [
    "Normal listelerde :\n",
    "küçükten büyüğe:\n",
    "liste.sort()\n",
    "büyükten küçüğe:\n",
    "liste.sort(reverse=True)"
   ]
  },
  {
   "cell_type": "markdown",
   "metadata": {},
   "source": [
    "### Numpy içinden Değer arama : "
   ]
  },
  {
   "cell_type": "code",
   "execution_count": 54,
   "metadata": {},
   "outputs": [
    {
     "data": {
      "text/plain": [
       "array([[27, 15, 32, 19, 41],\n",
       "       [ 8, 15, 35, 38, 27],\n",
       "       [44, 23, 21,  9, 42],\n",
       "       [17, 29, 42, 18, 20]])"
      ]
     },
     "execution_count": 54,
     "metadata": {},
     "output_type": "execute_result"
    }
   ],
   "source": [
    "array = np.random.randint(5,45,size=(4,5))\n",
    "array"
   ]
  },
  {
   "cell_type": "code",
   "execution_count": 55,
   "metadata": {},
   "outputs": [
    {
     "data": {
      "text/plain": [
       "5"
      ]
     },
     "execution_count": 55,
     "metadata": {},
     "output_type": "execute_result"
    }
   ],
   "source": [
    "np.argmin(array)\n",
    "# en küçük değer 8 dir. onun da index numarası 5 tir."
   ]
  },
  {
   "cell_type": "code",
   "execution_count": 56,
   "metadata": {},
   "outputs": [
    {
     "data": {
      "text/plain": [
       "8"
      ]
     },
     "execution_count": 56,
     "metadata": {},
     "output_type": "execute_result"
    }
   ],
   "source": [
    "np.min(array)\n",
    "# en küçük değer 8 dir."
   ]
  },
  {
   "cell_type": "code",
   "execution_count": 57,
   "metadata": {},
   "outputs": [
    {
     "data": {
      "text/plain": [
       "10"
      ]
     },
     "execution_count": 57,
     "metadata": {},
     "output_type": "execute_result"
    }
   ],
   "source": [
    "np.argmax(array)\n",
    "# en büyük değer 44 tür. index numarası 10 dur."
   ]
  },
  {
   "cell_type": "code",
   "execution_count": 58,
   "metadata": {},
   "outputs": [
    {
     "data": {
      "text/plain": [
       "36"
      ]
     },
     "execution_count": 58,
     "metadata": {},
     "output_type": "execute_result"
    }
   ],
   "source": [
    "np.ptp(array)\n",
    "# en büyük değer - en küçük değer = 36 dır."
   ]
  },
  {
   "cell_type": "code",
   "execution_count": 61,
   "metadata": {},
   "outputs": [
    {
     "data": {
      "text/plain": [
       "array([41, 44, 42, 42])"
      ]
     },
     "execution_count": 61,
     "metadata": {},
     "output_type": "execute_result"
    }
   ],
   "source": [
    "deger = np.where(array > 39)\n",
    "array[deger]\n",
    "# array içindeki 39 dan büyük değerleri verir."
   ]
  },
  {
   "cell_type": "code",
   "execution_count": 62,
   "metadata": {},
   "outputs": [
    {
     "data": {
      "text/plain": [
       "array([8, 9])"
      ]
     },
     "execution_count": 62,
     "metadata": {},
     "output_type": "execute_result"
    }
   ],
   "source": [
    "array[np.where(array<10)]\n",
    "# array içindeki 10 dan küçük değerleri verir."
   ]
  },
  {
   "cell_type": "code",
   "execution_count": 63,
   "metadata": {},
   "outputs": [
    {
     "data": {
      "text/plain": [
       "array([32,  8, 38, 44, 42, 42, 18, 20])"
      ]
     },
     "execution_count": 63,
     "metadata": {},
     "output_type": "execute_result"
    }
   ],
   "source": [
    "array[np.where(array%2==0)]\n",
    "# array içindeki çift sayıları getir demek."
   ]
  },
  {
   "cell_type": "code",
   "execution_count": 64,
   "metadata": {},
   "outputs": [
    {
     "data": {
      "text/plain": [
       "array([27, 15, 19, 41, 15, 35, 27, 23, 21,  9, 17, 29])"
      ]
     },
     "execution_count": 64,
     "metadata": {},
     "output_type": "execute_result"
    }
   ],
   "source": [
    "array[np.where(array%2==1)]\n",
    "# array içindeki tek sayıları verir."
   ]
  },
  {
   "cell_type": "code",
   "execution_count": null,
   "metadata": {},
   "outputs": [],
   "source": []
  }
 ],
 "metadata": {
  "kernelspec": {
   "display_name": "Python 3",
   "language": "python",
   "name": "python3"
  },
  "language_info": {
   "codemirror_mode": {
    "name": "ipython",
    "version": 3
   },
   "file_extension": ".py",
   "mimetype": "text/x-python",
   "name": "python",
   "nbconvert_exporter": "python",
   "pygments_lexer": "ipython3",
   "version": "3.8.5"
  }
 },
 "nbformat": 4,
 "nbformat_minor": 4
}
