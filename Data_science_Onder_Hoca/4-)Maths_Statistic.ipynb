{
 "cells": [
  {
   "cell_type": "code",
   "execution_count": 1,
   "metadata": {},
   "outputs": [],
   "source": [
    "import numpy as np\n",
    "import pandas as pd\n",
    "import scipy.stats as sts"
   ]
  },
  {
   "cell_type": "code",
   "execution_count": 2,
   "metadata": {},
   "outputs": [],
   "source": [
    "data = np.array([1.2,1.9,2.7,0.6,1.2,1.2,1.4,2.7,3.5,12.5,13.5])"
   ]
  },
  {
   "cell_type": "code",
   "execution_count": null,
   "metadata": {},
   "outputs": [],
   "source": []
  },
  {
   "cell_type": "code",
   "execution_count": 5,
   "metadata": {},
   "outputs": [
    {
     "data": {
      "text/plain": [
       "DescribeResult(nobs=11, minmax=(0.6, 13.5), mean=3.8545454545454545, variance=21.21472727272727, skewness=1.532300796156571, kurtosis=0.5580472153182834)"
      ]
     },
     "execution_count": 5,
     "metadata": {},
     "output_type": "execute_result"
    }
   ],
   "source": [
    "sts.describe(data)\n",
    "# nobs => eleman sayısı\n",
    "# skewness çarpıklık katsayısı\n",
    "# kurtosis basıklık katsayısı"
   ]
  },
  {
   "cell_type": "code",
   "execution_count": 7,
   "metadata": {},
   "outputs": [
    {
     "data": {
      "text/plain": [
       "21.21472727272727"
      ]
     },
     "execution_count": 7,
     "metadata": {},
     "output_type": "execute_result"
    }
   ],
   "source": [
    "sts.describe(data).variance\n",
    "# varyans değeri"
   ]
  },
  {
   "cell_type": "code",
   "execution_count": 8,
   "metadata": {},
   "outputs": [
    {
     "data": {
      "text/plain": [
       "4.605944775258087"
      ]
     },
     "execution_count": 8,
     "metadata": {},
     "output_type": "execute_result"
    }
   ],
   "source": [
    "np.sqrt(sts.describe(data).variance)\n",
    "# standart sapma"
   ]
  },
  {
   "cell_type": "code",
   "execution_count": 9,
   "metadata": {},
   "outputs": [
    {
     "data": {
      "text/plain": [
       "1.532300796156571"
      ]
     },
     "execution_count": 9,
     "metadata": {},
     "output_type": "execute_result"
    }
   ],
   "source": [
    "sts.describe(data).skewness\n",
    "# 0 dan büyük burda pozitif sağa çarpık."
   ]
  },
  {
   "cell_type": "code",
   "execution_count": 10,
   "metadata": {},
   "outputs": [
    {
     "data": {
      "text/plain": [
       "0.5580472153182834"
      ]
     },
     "execution_count": 10,
     "metadata": {},
     "output_type": "execute_result"
    }
   ],
   "source": [
    "sts.describe(data).kurtosis\n",
    "# 3 ten küçük burda yayvan bir dağılım var."
   ]
  },
  {
   "cell_type": "code",
   "execution_count": 12,
   "metadata": {},
   "outputs": [],
   "source": [
    "import seaborn as sns"
   ]
  },
  {
   "cell_type": "code",
   "execution_count": 14,
   "metadata": {},
   "outputs": [
    {
     "data": {
      "image/png": "[encoded data removed]",
      "text/plain": [
       "<Figure size 432x288 with 1 Axes>"
      ]
     },
     "metadata": {
      "needs_background": "light"
     },
     "output_type": "display_data"
    }
   ],
   "source": [
    "sns.kdeplot(data);\n",
    "# sağa çarpık büyük kısım sivri ama küçük kısım yayvandır."
   ]
  },
  {
   "cell_type": "markdown",
   "metadata": {},
   "source": [
    "#### Frekanslar (Sıklıklar) :"
   ]
  },
  {
   "cell_type": "code",
   "execution_count": 26,
   "metadata": {},
   "outputs": [
    {
     "data": {
      "text/plain": [
       "array([ 7,  8,  9,  8,  5,  5,  5, 10,  7, 10,  3,  8,  4,  7])"
      ]
     },
     "execution_count": 26,
     "metadata": {},
     "output_type": "execute_result"
    }
   ],
   "source": [
    "data = np.random.randint(2,13,size=14)\n",
    "data"
   ]
  },
  {
   "cell_type": "code",
   "execution_count": 27,
   "metadata": {},
   "outputs": [
    {
     "data": {
      "text/plain": [
       "array([ 3,  4,  5,  7,  8,  9, 10])"
      ]
     },
     "execution_count": 27,
     "metadata": {},
     "output_type": "execute_result"
    }
   ],
   "source": [
    "np.unique(data)\n",
    "# tekrar eden değerleri göstermez. "
   ]
  },
  {
   "cell_type": "code",
   "execution_count": 28,
   "metadata": {},
   "outputs": [],
   "source": [
    "data = pd.DataFrame(data)"
   ]
  },
  {
   "cell_type": "code",
   "execution_count": 29,
   "metadata": {},
   "outputs": [
    {
     "data": {
      "text/plain": [
       "0    7\n",
       "dtype: int64"
      ]
     },
     "execution_count": 29,
     "metadata": {},
     "output_type": "execute_result"
    }
   ],
   "source": [
    "data.nunique()\n",
    "# buda tekrar etmeyen değerlerin eleman sayılarını getirir."
   ]
  },
  {
   "cell_type": "code",
   "execution_count": 30,
   "metadata": {},
   "outputs": [
    {
     "data": {
      "text/plain": [
       "ModeResult(mode=array([[5]]), count=array([[3]]))"
      ]
     },
     "execution_count": 30,
     "metadata": {},
     "output_type": "execute_result"
    }
   ],
   "source": [
    "# mod değeri :\n",
    "sts.mode(data)\n",
    "# mod değeri olan 3, 5 kez kullanılmış etmiş."
   ]
  },
  {
   "cell_type": "code",
   "execution_count": 35,
   "metadata": {},
   "outputs": [
    {
     "data": {
      "text/plain": [
       "(array([ 3,  4,  5,  7,  8,  9, 10]),\n",
       " array([1, 1, 3, 3, 3, 1, 2], dtype=int64))"
      ]
     },
     "execution_count": 35,
     "metadata": {},
     "output_type": "execute_result"
    }
   ],
   "source": [
    "np.unique(data, return_counts=True)"
   ]
  },
  {
   "cell_type": "markdown",
   "metadata": {},
   "source": [
    "#### Dağılımlar : "
   ]
  },
  {
   "cell_type": "markdown",
   "metadata": {},
   "source": [
    "#### Normal Dağılım : "
   ]
  },
  {
   "cell_type": "code",
   "execution_count": 3,
   "metadata": {},
   "outputs": [],
   "source": [
    "# ortalama insanların boyu üzerine bir örnek verelim.\n",
    "count = 100 # 100 insan\n",
    "mean = 175 # boy ortalamaları 1.75 cm\n",
    "deviation = 10 # standart sapması 10 cm \n",
    "x_min = mean - 3*deviation\n",
    "x_max = mean + 3* deviation\n",
    "boy = np.linspace(x_min, x_max, count)"
   ]
  },
  {
   "cell_type": "code",
   "execution_count": 6,
   "metadata": {},
   "outputs": [
    {
     "data": {
      "text/plain": [
       "array([0.00044318, 0.00053058, 0.00063288, 0.00075213, 0.00089058,\n",
       "       0.00105065, 0.00123494, 0.00144624, 0.00168748, 0.00196175,\n",
       "       0.00227222, 0.00262219, 0.00301496, 0.00345386, 0.00394214,\n",
       "       0.00448295, 0.00507926, 0.0057338 , 0.00644895, 0.00722671,\n",
       "       0.00806857, 0.00897548, 0.00994771, 0.01098484, 0.01208563,\n",
       "       0.01324797, 0.01446886, 0.01574432, 0.0170694 , 0.01843816,\n",
       "       0.01984366, 0.02127799, 0.02273235, 0.02419707, 0.02566174,\n",
       "       0.02711528, 0.02854612, 0.02994227, 0.03129156, 0.03258175,\n",
       "       0.03380076, 0.03493681, 0.03597866, 0.03691572, 0.03773832,\n",
       "       0.03843781, 0.03900672, 0.03943892, 0.03972972, 0.03987592,\n",
       "       0.03987592, 0.03972972, 0.03943892, 0.03900672, 0.03843781,\n",
       "       0.03773832, 0.03691572, 0.03597866, 0.03493681, 0.03380076,\n",
       "       0.03258175, 0.03129156, 0.02994227, 0.02854612, 0.02711528,\n",
       "       0.02566174, 0.02419707, 0.02273235, 0.02127799, 0.01984366,\n",
       "       0.01843816, 0.0170694 , 0.01574432, 0.01446886, 0.01324797,\n",
       "       0.01208563, 0.01098484, 0.00994771, 0.00897548, 0.00806857,\n",
       "       0.00722671, 0.00644895, 0.0057338 , 0.00507926, 0.00448295,\n",
       "       0.00394214, 0.00345386, 0.00301496, 0.00262219, 0.00227222,\n",
       "       0.00196175, 0.00168748, 0.00144624, 0.00123494, 0.00105065,\n",
       "       0.00089058, 0.00075213, 0.00063288, 0.00053058, 0.00044318])"
      ]
     },
     "execution_count": 6,
     "metadata": {},
     "output_type": "execute_result"
    }
   ],
   "source": [
    "sts.norm.pdf(boy, loc = mean, scale=deviation)\n",
    "# pdf biz ona değer veririz. sırasıyla herbir değerden kaç kişi olma olasılığını verir."
   ]
  },
  {
   "cell_type": "code",
   "execution_count": 7,
   "metadata": {},
   "outputs": [],
   "source": [
    "import seaborn as sns"
   ]
  },
  {
   "cell_type": "code",
   "execution_count": 10,
   "metadata": {},
   "outputs": [
    {
     "data": {
      "image/png": "[encoded data removed]",
      "text/plain": [
       "<Figure size 432x288 with 1 Axes>"
      ]
     },
     "metadata": {
      "needs_background": "light"
     },
     "output_type": "display_data"
    }
   ],
   "source": [
    "sns.kdeplot(boy);\n",
    "# dağılımın ağırlığı 160 cm ile 195 cm arasında."
   ]
  },
  {
   "cell_type": "code",
   "execution_count": 12,
   "metadata": {},
   "outputs": [
    {
     "data": {
      "text/plain": [
       "0.024197072451914336"
      ]
     },
     "execution_count": 12,
     "metadata": {},
     "output_type": "execute_result"
    }
   ],
   "source": [
    "sts.norm.pdf(185,loc=mean, scale=deviation)\n",
    "#  kişinin 185 cm olma olasılığını verir."
   ]
  },
  {
   "cell_type": "code",
   "execution_count": 14,
   "metadata": {},
   "outputs": [
    {
     "data": {
      "text/plain": [
       "0.001752830049356854"
      ]
     },
     "execution_count": 14,
     "metadata": {},
     "output_type": "execute_result"
    }
   ],
   "source": [
    "sts.norm.pdf(200,loc=mean, scale=deviation)\n",
    "#  kişinin 200 cm olma olasılığını verir."
   ]
  },
  {
   "cell_type": "raw",
   "metadata": {},
   "source": [
    "pdf : verdiğimiz değer ne ise ona göre değer verir. ama normal dağılım hesaplanırken biz daha çok cdf kullanacağız."
   ]
  },
  {
   "cell_type": "code",
   "execution_count": 17,
   "metadata": {},
   "outputs": [
    {
     "name": "stdout",
     "output_type": "stream",
     "text": [
      "z tablo değeri =  1.0\n",
      "z tablo değerine göre küçük olma olasılığı =  0.8413 tir\n",
      "boyların 185 cm den az olma olasılığı =  0.8413447460685429\n"
     ]
    }
   ],
   "source": [
    "# örneğin boy ortalamalarının 185 cm den az olma olasılığını hesaplayalım : \n",
    "z_tablo = (185-mean)/deviation\n",
    "print(\"z tablo değeri = \", z_tablo)\n",
    "print(\"z tablo değerine göre küçük olma olasılığı = \", 0.8413,\"tir\")\n",
    "print(\"boyların 185 cm den az olma olasılığı = \", sts.norm.cdf(185,mean,deviation))"
   ]
  },
  {
   "cell_type": "code",
   "execution_count": null,
   "metadata": {},
   "outputs": [],
   "source": [
    "# eğer ki 185 cm olma olasılığını sorarsa pdf, 185 cm den az veya çok olma olasılığı derse cdf ile yapılır."
   ]
  },
  {
   "cell_type": "code",
   "execution_count": 21,
   "metadata": {},
   "outputs": [
    {
     "name": "stdout",
     "output_type": "stream",
     "text": [
      "z tablo değeri =  0.0\n",
      "z tablo değerine göre küçük olma olasılığı =  0.5 tir\n",
      "boyların 185 cm den az olma olasılığı =  0.5\n"
     ]
    }
   ],
   "source": [
    "# 175 cm den fazla olma olasılığı : \n",
    "z_tablo = (175 - mean)/deviation\n",
    "print(\"z tablo değeri = \", z_tablo)\n",
    "print(\"z tablo değerine göre küçük olma olasılığı = \", 0.5000,\"tir\")\n",
    "print(\"boyların 185 cm den az olma olasılığı = \", 1 - sts.norm.cdf(175,mean,deviation))\n",
    "# eğer ki fazla olma olasılığı derse 1 den çıkarılır."
   ]
  },
  {
   "cell_type": "code",
   "execution_count": 28,
   "metadata": {},
   "outputs": [
    {
     "name": "stdout",
     "output_type": "stream",
     "text": [
      "ilk z değeri =  -1.7\n",
      "ilk tablo değerimiz =  0.0446\n",
      "ilk z değeri =  1.3\n",
      "ilk tablo değerimiz =  0.9032\n",
      "boyların 158 cm den fazla, 188 cm den az olma olasılıgı=  0.8586\n",
      "boyların 158 cm den fazla, 188 cm den az olma olasılıgı=  0.8586340526558467\n"
     ]
    }
   ],
   "source": [
    "# boyların 158 den büyük, 188 den küçük olma olasılığı nedir?\n",
    "z_tablo_1 = (158-mean)/deviation\n",
    "print(\"ilk z değeri = \", z_tablo_1)\n",
    "print(\"ilk tablo değerimiz = \", 0.0446)\n",
    "z_tablo_2 = (188-mean)/deviation\n",
    "print(\"ilk z değeri = \", z_tablo_2)\n",
    "print(\"ilk tablo değerimiz = \", 0.9032)\n",
    "print(\"boyların 158 cm den fazla, 188 cm den az olma olasılıgı= \", 0.9032 - 0.0446 )\n",
    "print(\"boyların 158 cm den fazla, 188 cm den az olma olasılıgı= \" , \n",
    "      sts.norm.cdf(188,mean,deviation) - sts.norm.cdf(158,mean,deviation))"
   ]
  },
  {
   "cell_type": "code",
   "execution_count": 32,
   "metadata": {},
   "outputs": [
    {
     "name": "stdout",
     "output_type": "stream",
     "text": [
      "yüzde = %  1.2951759566589176 dür.\n"
     ]
    }
   ],
   "source": [
    "# 160 cm boyunda kaç kişi olma olasılığı : \n",
    "print(\"yüzde = % \", sts.norm.pdf(160, mean, deviation)*100,\"dür.\")"
   ]
  },
  {
   "cell_type": "code",
   "execution_count": 33,
   "metadata": {},
   "outputs": [
    {
     "name": "stdout",
     "output_type": "stream",
     "text": [
      "Yüzde = %  9.1848052662599\n"
     ]
    }
   ],
   "source": [
    "# 160 ile 165 cm arası : \n",
    "print(\"Yüzde = % \", (sts.norm.cdf(165,mean,deviation) - sts.norm.cdf(160,mean,deviation)) * 100)"
   ]
  },
  {
   "cell_type": "code",
   "execution_count": 34,
   "metadata": {},
   "outputs": [
    {
     "name": "stdout",
     "output_type": "stream",
     "text": [
      "Yüzde = %  93.31927977445542\n"
     ]
    }
   ],
   "source": [
    "# 160 ile 230 cm arası : \n",
    "print(\"Yüzde = % \", (sts.norm.cdf(235,mean,deviation) - sts.norm.cdf(160,mean,deviation)) * 100)"
   ]
  },
  {
   "cell_type": "markdown",
   "metadata": {},
   "source": [
    "#### Rassal değişkenler : "
   ]
  },
  {
   "cell_type": "code",
   "execution_count": 37,
   "metadata": {},
   "outputs": [
    {
     "data": {
      "text/plain": [
       "array([172.94437708, 153.90133324, 167.11811519, 164.47044732,\n",
       "       170.71628801, 187.52351851, 189.93103959, 169.51924038,\n",
       "       168.83016757, 162.4999369 , 172.38205256, 168.22690277,\n",
       "       179.22911051, 166.34569642, 179.40160048, 167.03260091,\n",
       "       192.68998905, 178.66315546, 168.49880829, 160.63095223,\n",
       "       170.49554834, 176.29442577, 177.21775316, 177.41286579,\n",
       "       172.12018292, 156.9813299 , 170.95126769, 186.44120181,\n",
       "       179.94853493, 167.01638901, 174.12907562, 159.01414764,\n",
       "       147.87654125, 172.93721597, 170.20310747, 173.63471589,\n",
       "       183.38411548, 172.16205792, 169.98247079, 164.34857596,\n",
       "       171.74983606, 173.72172965, 164.24342835, 192.98272219,\n",
       "       187.29876716, 168.64341628, 167.80235078, 171.11782932,\n",
       "       175.94915452, 172.87169976])"
      ]
     },
     "execution_count": 37,
     "metadata": {},
     "output_type": "execute_result"
    }
   ],
   "source": [
    "count = 50\n",
    "mean = 175\n",
    "deviation = 10\n",
    "rassal = sts.norm.rvs(size = count,loc = mean,scale = deviation)\n",
    "rassal\n",
    "# bize ortalama 175 cm, standart sapması 10 cm olacak şekilde 50 adet rassal değişken üretti. "
   ]
  },
  {
   "cell_type": "code",
   "execution_count": 38,
   "metadata": {},
   "outputs": [
    {
     "data": {
      "text/plain": [
       "172.18975579709866"
      ]
     },
     "execution_count": 38,
     "metadata": {},
     "output_type": "execute_result"
    }
   ],
   "source": [
    "rassal.mean()\n",
    "# ortalaması 172.18"
   ]
  },
  {
   "cell_type": "code",
   "execution_count": 39,
   "metadata": {},
   "outputs": [
    {
     "data": {
      "text/plain": [
       "9.173848180007338"
      ]
     },
     "execution_count": 39,
     "metadata": {},
     "output_type": "execute_result"
    }
   ],
   "source": [
    "rassal.std()\n",
    "# standart sapması 9.17 oldu."
   ]
  },
  {
   "cell_type": "code",
   "execution_count": 41,
   "metadata": {},
   "outputs": [
    {
     "name": "stdout",
     "output_type": "stream",
     "text": [
      "185 cm olma ihitimali =  1.6403771665859495\n"
     ]
    }
   ],
   "source": [
    "# şimdi biz bu rassal değişkenlerden yola çıkarak boyların 185 cm olma olasılığını hesaplayalım.\n",
    "print(\"185 cm olma ihitimali = \", sts.norm.pdf(185,rassal.mean(), rassal.std())*100)\n",
    "# yüzde 1.64 çıktı."
   ]
  },
  {
   "cell_type": "code",
   "execution_count": 44,
   "metadata": {},
   "outputs": [
    {
     "data": {
      "text/plain": [
       "array([155.33072634, 170.0055644 , 158.7482303 , 148.33946603,\n",
       "       161.1885755 , 159.59347248, 179.81725123, 157.48808411,\n",
       "       164.45709205, 133.85827135, 136.8273217 , 185.41443929,\n",
       "       167.18796677, 155.77454764, 137.62315841, 156.2101323 ,\n",
       "       150.55810795, 148.00679175, 164.62175856, 169.52902897])"
      ]
     },
     "execution_count": 44,
     "metadata": {},
     "output_type": "execute_result"
    }
   ],
   "source": [
    "# şimdi normal dağılım esasına göre 20 kişi için 120 cm ile 200 cm arasında rassal değişkenler üretelim.\n",
    "boy_rassal = sts.norm.rvs(size=20, loc = np.random.uniform(120,200,20).mean(), scale = np.random.uniform(120,200,10).std())\n",
    "boy_rassal"
   ]
  },
  {
   "cell_type": "code",
   "execution_count": 47,
   "metadata": {},
   "outputs": [
    {
     "name": "stdout",
     "output_type": "stream",
     "text": [
      "Olasılığı =  0.6202881040248801\n"
     ]
    }
   ],
   "source": [
    "# elimizdeki verilerden 1.40 tan fazla, 1.65 ten az olma ihitimali \n",
    "print(\"Olasılığı = \", \n",
    "      sts.norm.cdf(165,boy_rassal.mean(), boy_rassal.std()) - sts.norm.cdf(140,boy_rassal.mean(), boy_rassal.std()))"
   ]
  },
  {
   "cell_type": "code",
   "execution_count": 48,
   "metadata": {},
   "outputs": [],
   "source": [
    "ort = boy_rassal.mean()\n",
    "std = boy_rassal.std()"
   ]
  },
  {
   "cell_type": "code",
   "execution_count": 49,
   "metadata": {},
   "outputs": [],
   "source": [
    "def find_probability(low, high) : \n",
    "    h = sts.norm.cdf(high,ort, std)\n",
    "    l = sts.norm.cdf(low,ort,std)\n",
    "    return h - l"
   ]
  },
  {
   "cell_type": "code",
   "execution_count": 50,
   "metadata": {},
   "outputs": [
    {
     "data": {
      "text/plain": [
       "0.3248096484913859"
      ]
     },
     "execution_count": 50,
     "metadata": {},
     "output_type": "execute_result"
    }
   ],
   "source": [
    "# soru : 20 tane rassal değişkenimizi baz alarak boyların 140 ile 155 arasında olma ihtimali :\n",
    "find_probability(140,155)\n",
    "# yüzde 32 dir."
   ]
  },
  {
   "cell_type": "code",
   "execution_count": 51,
   "metadata": {},
   "outputs": [
    {
     "data": {
      "text/plain": [
       "0.08103686207247307"
      ]
     },
     "execution_count": 51,
     "metadata": {},
     "output_type": "execute_result"
    }
   ],
   "source": [
    "# 163 cm ile 166 cm arasında olma ihitimali : \n",
    "find_probability(163,166)\n",
    "# yüzde 8 dir."
   ]
  },
  {
   "cell_type": "code",
   "execution_count": 53,
   "metadata": {},
   "outputs": [],
   "source": [
    "# bize boyları 130 cm ile 210 cm arasında 100 kişilik normal dağılım ölçütlerinde, rassal değişken üretin : \n",
    "x = np.random.uniform(130,210,100)\n",
    "boy = sts.norm.rvs(size=100, loc = x.mean(), scale = x.std())"
   ]
  },
  {
   "cell_type": "code",
   "execution_count": 57,
   "metadata": {},
   "outputs": [
    {
     "name": "stdout",
     "output_type": "stream",
     "text": [
      "olasılığı =  0.004575790768185227\n"
     ]
    }
   ],
   "source": [
    "# örneğin boy verimiz için bize boyun 136 cm olma ihitimali yüzde kaçtır? \n",
    "print(\"olasılığı = \", sts.norm.pdf(136, boy.mean(), boy.std()))\n",
    "# yüzde 1 bile değil, 0.4 tür."
   ]
  },
  {
   "cell_type": "code",
   "execution_count": 63,
   "metadata": {},
   "outputs": [],
   "source": [
    "# bize boy verisine göre değerden fazla olma ihtimalini sorarsa :\n",
    "def olasılık_fazla(value) : \n",
    "    return (1 - sts.norm.cdf(value, boy.mean(), boy.std()))\n",
    "def olasılık_az(value) :\n",
    "    return sts.norm.cdf(value,boy.mean(), boy.std())\n",
    "def olasılık_deger(value) : \n",
    "    return sts.norm.pdf(value,boy.mean(), boy.std())\n",
    "def aralık_olasılık(low,high) : \n",
    "    l = sts.norm.cdf(low, boy.mean(), boy.std())\n",
    "    h = sts.norm.cdf(high,boy.mean(), boy.std())\n",
    "    return h - l"
   ]
  },
  {
   "cell_type": "code",
   "execution_count": 64,
   "metadata": {},
   "outputs": [
    {
     "name": "stdout",
     "output_type": "stream",
     "text": [
      "170 cm olma olasılığı =  0.01683928597214709\n",
      "170 cm den olma ihtimali =  0.5665217609730242\n",
      "170 cm den olma ihtimali =  0.4334782390269758\n",
      "170 cm den fazla, 190 dan az olma ihtimali =  0.32098443826431033\n"
     ]
    }
   ],
   "source": [
    "# boyun 170 cm olma ihtimali : \n",
    "print(\"170 cm olma olasılığı = \", olasılık_deger(170))\n",
    "# boyun 170 cm den fazla olma ihtimali : \n",
    "print(\"170 cm den olma ihtimali = \", olasılık_fazla(170))\n",
    "# boyun 170 cm den az olma ihtimali : \n",
    "print(\"170 cm den olma ihtimali = \", olasılık_az(170))\n",
    "# boyun 170 fazla, 190 dan az olma ihtimali : \n",
    "print(\"170 cm den fazla, 190 dan az olma ihtimali = \", aralık_olasılık(170,190))"
   ]
  },
  {
   "cell_type": "markdown",
   "metadata": {},
   "source": [
    "#### Korelasyon : "
   ]
  },
  {
   "cell_type": "code",
   "execution_count": 67,
   "metadata": {},
   "outputs": [
    {
     "data": {
      "text/plain": [
       "array([[ 1.        , -0.18948043],\n",
       "       [-0.18948043,  1.        ]])"
      ]
     },
     "execution_count": 67,
     "metadata": {},
     "output_type": "execute_result"
    }
   ],
   "source": [
    "# iki veya daha çok veri arasında ki ilişkiyi inceler. yani biri artarken diğeri artar mı, veya azalırmı yoksa sabit mi.\n",
    "# -1 ile 1 arasında değer alır. eğer değer 0 çıkarsa ilişki yoktur.\n",
    "left = np.random.randint(10,45,size=10)\n",
    "right = np.random.randint(15,40,size=10)\n",
    "np.corrcoef(left,right)\n",
    "# aralarında negatif yönlü yani -0.189 luk bir ilişki var."
   ]
  },
  {
   "cell_type": "code",
   "execution_count": 69,
   "metadata": {},
   "outputs": [],
   "source": [
    "# pandas ile daha çok yapılır : \n",
    "left = pd.DataFrame(left)\n",
    "right = pd.DataFrame(right)\n",
    "data = pd.concat([left, right], axis=1)\n",
    "data.columns = [\"A\",\"B\"]"
   ]
  },
  {
   "cell_type": "code",
   "execution_count": 70,
   "metadata": {},
   "outputs": [
    {
     "data": {
      "text/html": [
       "<div>\n",
       "<style scoped>\n",
       "    .dataframe tbody tr th:only-of-type {\n",
       "        vertical-align: middle;\n",
       "    }\n",
       "\n",
       "    .dataframe tbody tr th {\n",
       "        vertical-align: top;\n",
       "    }\n",
       "\n",
       "    .dataframe thead th {\n",
       "        text-align: right;\n",
       "    }\n",
       "</style>\n",
       "<table border=\"1\" class=\"dataframe\">\n",
       "  <thead>\n",
       "    <tr style=\"text-align: right;\">\n",
       "      <th></th>\n",
       "      <th>A</th>\n",
       "      <th>B</th>\n",
       "    </tr>\n",
       "  </thead>\n",
       "  <tbody>\n",
       "    <tr>\n",
       "      <th>A</th>\n",
       "      <td>1.00000</td>\n",
       "      <td>-0.18948</td>\n",
       "    </tr>\n",
       "    <tr>\n",
       "      <th>B</th>\n",
       "      <td>-0.18948</td>\n",
       "      <td>1.00000</td>\n",
       "    </tr>\n",
       "  </tbody>\n",
       "</table>\n",
       "</div>"
      ],
      "text/plain": [
       "         A        B\n",
       "A  1.00000 -0.18948\n",
       "B -0.18948  1.00000"
      ]
     },
     "execution_count": 70,
     "metadata": {},
     "output_type": "execute_result"
    }
   ],
   "source": [
    "# pearson korelasyon katsayısı\n",
    "data.corr()"
   ]
  },
  {
   "cell_type": "code",
   "execution_count": 71,
   "metadata": {},
   "outputs": [
    {
     "data": {
      "text/plain": [
       "-0.18948043353094607"
      ]
     },
     "execution_count": 71,
     "metadata": {},
     "output_type": "execute_result"
    }
   ],
   "source": [
    "# sadece 2 değişkenin birbirleri pearson ile görmek istersek : \n",
    "data[\"A\"].corr(data.B)"
   ]
  },
  {
   "cell_type": "code",
   "execution_count": 73,
   "metadata": {},
   "outputs": [
    {
     "data": {
      "text/plain": [
       "-0.2638086456232445"
      ]
     },
     "execution_count": 73,
     "metadata": {},
     "output_type": "execute_result"
    }
   ],
   "source": [
    "# spearman korelasyon katsayısı : \n",
    "data[\"A\"].corr(data[\"B\"], method=\"spearman\")"
   ]
  },
  {
   "cell_type": "code",
   "execution_count": 74,
   "metadata": {},
   "outputs": [
    {
     "data": {
      "text/html": [
       "<div>\n",
       "<style scoped>\n",
       "    .dataframe tbody tr th:only-of-type {\n",
       "        vertical-align: middle;\n",
       "    }\n",
       "\n",
       "    .dataframe tbody tr th {\n",
       "        vertical-align: top;\n",
       "    }\n",
       "\n",
       "    .dataframe thead th {\n",
       "        text-align: right;\n",
       "    }\n",
       "</style>\n",
       "<table border=\"1\" class=\"dataframe\">\n",
       "  <thead>\n",
       "    <tr style=\"text-align: right;\">\n",
       "      <th></th>\n",
       "      <th>A</th>\n",
       "      <th>B</th>\n",
       "    </tr>\n",
       "  </thead>\n",
       "  <tbody>\n",
       "    <tr>\n",
       "      <th>A</th>\n",
       "      <td>1.000000</td>\n",
       "      <td>-0.263809</td>\n",
       "    </tr>\n",
       "    <tr>\n",
       "      <th>B</th>\n",
       "      <td>-0.263809</td>\n",
       "      <td>1.000000</td>\n",
       "    </tr>\n",
       "  </tbody>\n",
       "</table>\n",
       "</div>"
      ],
      "text/plain": [
       "          A         B\n",
       "A  1.000000 -0.263809\n",
       "B -0.263809  1.000000"
      ]
     },
     "execution_count": 74,
     "metadata": {},
     "output_type": "execute_result"
    }
   ],
   "source": [
    "data.corr(method=\"spearman\")"
   ]
  },
  {
   "cell_type": "code",
   "execution_count": 76,
   "metadata": {},
   "outputs": [
    {
     "data": {
      "text/plain": [
       "(-0.18948043353094607, 0.6000750334762837)"
      ]
     },
     "execution_count": 76,
     "metadata": {},
     "output_type": "execute_result"
    }
   ],
   "source": [
    "# sts ile pearson korelasyon : \n",
    "sts.pearsonr(data[\"A\"], data[\"B\"])\n",
    "# burda 2 değer döner :  -0.18948043353094607 => korelasyon kat sayısı, 0.6000750334762837 = > pvalue değeri demek.\n",
    "# 0.05 ten büyük çıktı. Eğer iki değişken arasında korelasyon olmadığını iddia etseydik korelasyon ilişkisi olduğunu\n",
    "# iddia eden Ho hipotezi geçerli olacaktı. ya da tam tersi.  pvalue>0.05 olursa Ho hipotezi geçerli olur."
   ]
  },
  {
   "cell_type": "code",
   "execution_count": 78,
   "metadata": {},
   "outputs": [
    {
     "data": {
      "text/plain": [
       "SpearmanrResult(correlation=-0.2638086456232445, pvalue=0.4614313145659835)"
      ]
     },
     "execution_count": 78,
     "metadata": {},
     "output_type": "execute_result"
    }
   ],
   "source": [
    "# sts ile spearman korelasyon : \n",
    "sts.spearmanr(data[\"A\"], data[\"B\"])"
   ]
  },
  {
   "cell_type": "code",
   "execution_count": 79,
   "metadata": {},
   "outputs": [],
   "source": [
    "import seaborn as sns"
   ]
  },
  {
   "cell_type": "code",
   "execution_count": 80,
   "metadata": {},
   "outputs": [
    {
     "data": {
      "text/html": [
       "<div>\n",
       "<style scoped>\n",
       "    .dataframe tbody tr th:only-of-type {\n",
       "        vertical-align: middle;\n",
       "    }\n",
       "\n",
       "    .dataframe tbody tr th {\n",
       "        vertical-align: top;\n",
       "    }\n",
       "\n",
       "    .dataframe thead th {\n",
       "        text-align: right;\n",
       "    }\n",
       "</style>\n",
       "<table border=\"1\" class=\"dataframe\">\n",
       "  <thead>\n",
       "    <tr style=\"text-align: right;\">\n",
       "      <th></th>\n",
       "      <th>tip</th>\n",
       "      <th>total_bill</th>\n",
       "    </tr>\n",
       "  </thead>\n",
       "  <tbody>\n",
       "    <tr>\n",
       "      <th>0</th>\n",
       "      <td>1.01</td>\n",
       "      <td>16.99</td>\n",
       "    </tr>\n",
       "    <tr>\n",
       "      <th>1</th>\n",
       "      <td>1.66</td>\n",
       "      <td>10.34</td>\n",
       "    </tr>\n",
       "    <tr>\n",
       "      <th>2</th>\n",
       "      <td>3.50</td>\n",
       "      <td>21.01</td>\n",
       "    </tr>\n",
       "    <tr>\n",
       "      <th>3</th>\n",
       "      <td>3.31</td>\n",
       "      <td>23.68</td>\n",
       "    </tr>\n",
       "    <tr>\n",
       "      <th>4</th>\n",
       "      <td>3.61</td>\n",
       "      <td>24.59</td>\n",
       "    </tr>\n",
       "  </tbody>\n",
       "</table>\n",
       "</div>"
      ],
      "text/plain": [
       "    tip  total_bill\n",
       "0  1.01       16.99\n",
       "1  1.66       10.34\n",
       "2  3.50       21.01\n",
       "3  3.31       23.68\n",
       "4  3.61       24.59"
      ]
     },
     "execution_count": 80,
     "metadata": {},
     "output_type": "execute_result"
    }
   ],
   "source": [
    "df = sns.load_dataset(\"tips\")\n",
    "df = df[[\"tip\",\"total_bill\"]]\n",
    "df.head()"
   ]
  },
  {
   "cell_type": "code",
   "execution_count": 81,
   "metadata": {},
   "outputs": [],
   "source": [
    "# şimdi toplam ödenen ile verilen bahşiş arasında bir ilişki var mı bakalım : "
   ]
  },
  {
   "cell_type": "code",
   "execution_count": 82,
   "metadata": {},
   "outputs": [
    {
     "data": {
      "text/plain": [
       "(0.6757341092113647, 6.6924706468630016e-34)"
      ]
     },
     "execution_count": 82,
     "metadata": {},
     "output_type": "execute_result"
    }
   ],
   "source": [
    "sts.pearsonr(df.tip, df.total_bill)\n",
    "# ilişki pozitif yönlü = 0.67 , pvalue < 0.05 Ho hipotezi geçersiz olacaktı."
   ]
  },
  {
   "cell_type": "code",
   "execution_count": 83,
   "metadata": {},
   "outputs": [
    {
     "data": {
      "text/plain": [
       "SpearmanrResult(correlation=0.6789681219001009, pvalue=2.501158440923619e-34)"
      ]
     },
     "execution_count": 83,
     "metadata": {},
     "output_type": "execute_result"
    }
   ],
   "source": [
    "sts.spearmanr(df.tip, df.total_bill)\n",
    "# ilişki pozitif yönlü. "
   ]
  },
  {
   "cell_type": "markdown",
   "metadata": {},
   "source": [
    "#### T Sınama Test : "
   ]
  },
  {
   "cell_type": "code",
   "execution_count": 84,
   "metadata": {},
   "outputs": [],
   "source": [
    "# 2 tane normal dağılım esasında data oluşturduk. bu ikisini t testine sokalım.\n",
    "count1 = 100\n",
    "mean1 = 175\n",
    "deviation1 = 10\n",
    "data1 = sts.norm.rvs(size=count1, loc=mean1, scale=deviation1)\n",
    "\n",
    "count2 = 200\n",
    "mean2 = 175\n",
    "deviation2 = 10\n",
    "data2 = sts.norm.rvs(size=count2, loc=mean2, scale= deviation2)"
   ]
  },
  {
   "cell_type": "code",
   "execution_count": 85,
   "metadata": {},
   "outputs": [
    {
     "data": {
      "text/plain": [
       "Ttest_indResult(statistic=-2.542491269980824, pvalue=0.011512470326675902)"
      ]
     },
     "execution_count": 85,
     "metadata": {},
     "output_type": "execute_result"
    }
   ],
   "source": [
    "sts.ttest_ind(data1,data2)\n",
    "# t_istatistik değeri = -2.54, pvalue değeri = 0.011 çıktı.\n",
    "# pvalue < 0.05 çıkarsa biz H1 hipotezimizdeki iddiamız ne ise o doğru çıkar."
   ]
  },
  {
   "cell_type": "code",
   "execution_count": 86,
   "metadata": {},
   "outputs": [
    {
     "name": "stdout",
     "output_type": "stream",
     "text": [
      "İddianız ne ise o doğru çıktı, çünkü H1 hipotezi geçerli\n"
     ]
    }
   ],
   "source": [
    "# bunu bir örnekle ile açıklayalım : \n",
    "t_static, p_value = sts.ttest_ind(data1, data2)\n",
    "if p_value < 0.05 : \n",
    "    print(\"İddianız ne ise o doğru çıktı, çünkü H1 hipotezi geçerli\")\n",
    "else :\n",
    "    print(\"İddianız çürümüştür. Ho hipotezi doğrudur.\")"
   ]
  },
  {
   "cell_type": "code",
   "execution_count": 87,
   "metadata": {},
   "outputs": [
    {
     "name": "stdout",
     "output_type": "stream",
     "text": [
      "İddianız ne ise o doğru çıktı, çünkü H1 hipotezi geçerli\n"
     ]
    }
   ],
   "source": [
    "t_static, p_value = sts.ttest_ind(df.total_bill, df.tip)\n",
    "if p_value < 0.05 : \n",
    "    print(\"İddianız ne ise o doğru çıktı, çünkü H1 hipotezi geçerli\")\n",
    "else :\n",
    "    print(\"İddianız çürümüştür. Ho hipotezi doğrudur.\")"
   ]
  },
  {
   "cell_type": "code",
   "execution_count": 89,
   "metadata": {},
   "outputs": [],
   "source": [
    "count3 = 300\n",
    "mean3 = 200\n",
    "deviation3 = 15\n",
    "data3 = sts.norm.rvs(size=count3, loc=mean3, scale=deviation3)"
   ]
  },
  {
   "cell_type": "code",
   "execution_count": 95,
   "metadata": {},
   "outputs": [
    {
     "name": "stdout",
     "output_type": "stream",
     "text": [
      "İddianız ne ise o doğru çıktı, çünkü H1 hipotezi geçerli\n"
     ]
    }
   ],
   "source": [
    "sts.ttest_ind(data2, data3)\n",
    "if p_value < 0.05 : \n",
    "    print(\"İddianız ne ise o doğru çıktı, çünkü H1 hipotezi geçerli\")\n",
    "else :\n",
    "    print(\"İddianız çürümüştür. Ho hipotezi doğrudur.\")"
   ]
  },
  {
   "cell_type": "markdown",
   "metadata": {},
   "source": [
    "#### Chi Kare Testi :"
   ]
  },
  {
   "cell_type": "code",
   "execution_count": 96,
   "metadata": {},
   "outputs": [],
   "source": [
    "# ki kare tablosu baz alınarak yapılır. "
   ]
  },
  {
   "cell_type": "code",
   "execution_count": 97,
   "metadata": {},
   "outputs": [],
   "source": [
    "data1 = np.array([13,41,15,76,17,19,76,38,59,15])\n",
    "data2 = np.array([15,41,15,76,17,21,73,38,59,15])"
   ]
  },
  {
   "cell_type": "code",
   "execution_count": 98,
   "metadata": {},
   "outputs": [
    {
     "data": {
      "text/plain": [
       "Power_divergenceResult(statistic=0.5804305283757338, pvalue=0.9999423648879626)"
      ]
     },
     "execution_count": 98,
     "metadata": {},
     "output_type": "execute_result"
    }
   ],
   "source": [
    "sts.chisquare(data1,data2)\n",
    "# burda da istatistik ve pvalue değeri gelmektedir.\n",
    "# pvalue > 0.95 ise H1 geçerli olur. t test ten farklı olarak pvalue>0.95 olması aranır."
   ]
  },
  {
   "cell_type": "code",
   "execution_count": 102,
   "metadata": {},
   "outputs": [
    {
     "name": "stdout",
     "output_type": "stream",
     "text": [
      "İddianız ne ise o doğru çıktı, çünkü H1 hipotezi geçerli\n"
     ]
    }
   ],
   "source": [
    "chi_kare, p_value = sts.chisquare(data1, data2)\n",
    "if p_value < 0.95 : \n",
    "    print(\"İddianız çürümüştür. Ho hipotezi doğrudur.\")\n",
    "else :\n",
    "    print(\"İddianız ne ise o doğru çıktı, çünkü H1 hipotezi geçerli\")"
   ]
  },
  {
   "cell_type": "code",
   "execution_count": 103,
   "metadata": {},
   "outputs": [
    {
     "data": {
      "text/plain": [
       "array([13, 41, 15, 76, 17, 19, 76, 38, 59, 15])"
      ]
     },
     "execution_count": 103,
     "metadata": {},
     "output_type": "execute_result"
    }
   ],
   "source": [
    "data1"
   ]
  },
  {
   "cell_type": "code",
   "execution_count": 104,
   "metadata": {},
   "outputs": [
    {
     "data": {
      "text/plain": [
       "array([15, 41, 15, 76, 17, 21, 73, 38, 59, 15])"
      ]
     },
     "execution_count": 104,
     "metadata": {},
     "output_type": "execute_result"
    }
   ],
   "source": [
    "data2"
   ]
  },
  {
   "cell_type": "code",
   "execution_count": 114,
   "metadata": {},
   "outputs": [
    {
     "data": {
      "text/html": [
       "<div>\n",
       "<style scoped>\n",
       "    .dataframe tbody tr th:only-of-type {\n",
       "        vertical-align: middle;\n",
       "    }\n",
       "\n",
       "    .dataframe tbody tr th {\n",
       "        vertical-align: top;\n",
       "    }\n",
       "\n",
       "    .dataframe thead th {\n",
       "        text-align: right;\n",
       "    }\n",
       "</style>\n",
       "<table border=\"1\" class=\"dataframe\">\n",
       "  <thead>\n",
       "    <tr style=\"text-align: right;\">\n",
       "      <th></th>\n",
       "      <th>A</th>\n",
       "      <th>B</th>\n",
       "    </tr>\n",
       "  </thead>\n",
       "  <tbody>\n",
       "    <tr>\n",
       "      <th>0</th>\n",
       "      <td>13</td>\n",
       "      <td>15</td>\n",
       "    </tr>\n",
       "    <tr>\n",
       "      <th>1</th>\n",
       "      <td>41</td>\n",
       "      <td>41</td>\n",
       "    </tr>\n",
       "    <tr>\n",
       "      <th>2</th>\n",
       "      <td>15</td>\n",
       "      <td>15</td>\n",
       "    </tr>\n",
       "    <tr>\n",
       "      <th>3</th>\n",
       "      <td>76</td>\n",
       "      <td>76</td>\n",
       "    </tr>\n",
       "    <tr>\n",
       "      <th>4</th>\n",
       "      <td>17</td>\n",
       "      <td>17</td>\n",
       "    </tr>\n",
       "    <tr>\n",
       "      <th>5</th>\n",
       "      <td>19</td>\n",
       "      <td>21</td>\n",
       "    </tr>\n",
       "    <tr>\n",
       "      <th>6</th>\n",
       "      <td>76</td>\n",
       "      <td>73</td>\n",
       "    </tr>\n",
       "    <tr>\n",
       "      <th>7</th>\n",
       "      <td>38</td>\n",
       "      <td>38</td>\n",
       "    </tr>\n",
       "    <tr>\n",
       "      <th>8</th>\n",
       "      <td>59</td>\n",
       "      <td>59</td>\n",
       "    </tr>\n",
       "    <tr>\n",
       "      <th>9</th>\n",
       "      <td>15</td>\n",
       "      <td>15</td>\n",
       "    </tr>\n",
       "  </tbody>\n",
       "</table>\n",
       "</div>"
      ],
      "text/plain": [
       "    A   B\n",
       "0  13  15\n",
       "1  41  41\n",
       "2  15  15\n",
       "3  76  76\n",
       "4  17  17\n",
       "5  19  21\n",
       "6  76  73\n",
       "7  38  38\n",
       "8  59  59\n",
       "9  15  15"
      ]
     },
     "execution_count": 114,
     "metadata": {},
     "output_type": "execute_result"
    }
   ],
   "source": [
    "data = pd.DataFrame({\"A\":data1, \"B\":data2})\n",
    "data"
   ]
  },
  {
   "cell_type": "code",
   "execution_count": 115,
   "metadata": {},
   "outputs": [
    {
     "data": {
      "text/plain": [
       "(0.30190720026904394,\n",
       " 0.9999965926678962,\n",
       " 9,\n",
       " array([[13.98105548, 14.01894452],\n",
       "        [40.94451962, 41.05548038],\n",
       "        [14.9797023 , 15.0202977 ],\n",
       "        [75.89715832, 76.10284168],\n",
       "        [16.97699594, 17.02300406],\n",
       "        [19.9729364 , 20.0270636 ],\n",
       "        [74.39918809, 74.60081191],\n",
       "        [37.94857916, 38.05142084],\n",
       "        [58.92016238, 59.07983762],\n",
       "        [14.9797023 , 15.0202977 ]]))"
      ]
     },
     "execution_count": 115,
     "metadata": {},
     "output_type": "execute_result"
    }
   ],
   "source": [
    "sts.chi2_contingency(data)"
   ]
  },
  {
   "cell_type": "code",
   "execution_count": 117,
   "metadata": {},
   "outputs": [
    {
     "name": "stdout",
     "output_type": "stream",
     "text": [
      "pvalue değeri =  0.9999965926678962\n",
      "Bağımsızlık derecesi, örneklem sayısı 9\n",
      "İddianız ne ise o doğru çıktı, çünkü H1 hipotezi geçerli\n"
     ]
    }
   ],
   "source": [
    "t_static, p_value, digris_degeri, expected = sts.chi2_contingency(data)\n",
    "print(\"pvalue değeri = \", p_value)\n",
    "print(\"Bağımsızlık derecesi, örneklem sayısı\", digris_degeri)\n",
    "if p_value < 0.95 : \n",
    "    print(\"İddianız çürümüştür. Ho hipotezi doğrudur.\")\n",
    "else :\n",
    "    print(\"İddianız ne ise o doğru çıktı, çünkü H1 hipotezi geçerli\")    "
   ]
  },
  {
   "cell_type": "code",
   "execution_count": 118,
   "metadata": {},
   "outputs": [
    {
     "data": {
      "text/plain": [
       "array([[13.98105548, 14.01894452],\n",
       "       [40.94451962, 41.05548038],\n",
       "       [14.9797023 , 15.0202977 ],\n",
       "       [75.89715832, 76.10284168],\n",
       "       [16.97699594, 17.02300406],\n",
       "       [19.9729364 , 20.0270636 ],\n",
       "       [74.39918809, 74.60081191],\n",
       "       [37.94857916, 38.05142084],\n",
       "       [58.92016238, 59.07983762],\n",
       "       [14.9797023 , 15.0202977 ]])"
      ]
     },
     "execution_count": 118,
     "metadata": {},
     "output_type": "execute_result"
    }
   ],
   "source": [
    "expected\n",
    "# datayı array tipinde gösterir"
   ]
  },
  {
   "cell_type": "code",
   "execution_count": 119,
   "metadata": {},
   "outputs": [
    {
     "data": {
      "text/plain": [
       "9"
      ]
     },
     "execution_count": 119,
     "metadata": {},
     "output_type": "execute_result"
    }
   ],
   "source": [
    "digris_degeri\n",
    "# tabloda ki d.f değeridir."
   ]
  },
  {
   "cell_type": "markdown",
   "metadata": {},
   "source": [
    "Ki karede t testten farklı olarak pvalue değerinin > 0.95 ten büyük çıkmasına aranır.\n",
    "T test sınama da ise pvalue değeri < 0.05 ten küçük çıkması aranır."
   ]
  },
  {
   "cell_type": "markdown",
   "metadata": {},
   "source": [
    "#### Polinomlar : "
   ]
  },
  {
   "cell_type": "raw",
   "metadata": {},
   "source": [
    "ax3 + bx2 + cx + d => gibi yapılara polinom denir. burda 3.derece polinom gösterdik."
   ]
  },
  {
   "cell_type": "markdown",
   "metadata": {},
   "source": [
    "##### 1. derece polinomlar : "
   ]
  },
  {
   "cell_type": "code",
   "execution_count": 121,
   "metadata": {},
   "outputs": [
    {
     "name": "stdout",
     "output_type": "stream",
     "text": [
      " \n",
      "1 x + 6\n"
     ]
    }
   ],
   "source": [
    "polyominal = np.poly1d([1,6])\n",
    "print(polyominal)\n",
    "# bir bilinmeyenli bir polinom"
   ]
  },
  {
   "cell_type": "code",
   "execution_count": 122,
   "metadata": {},
   "outputs": [
    {
     "name": "stdout",
     "output_type": "stream",
     "text": [
      " \n",
      "4 x - 12\n"
     ]
    }
   ],
   "source": [
    "print(np.poly1d([4,-12]))\n",
    "# 4x - 12 lik polinom"
   ]
  },
  {
   "cell_type": "code",
   "execution_count": 125,
   "metadata": {},
   "outputs": [
    {
     "name": "stdout",
     "output_type": "stream",
     "text": [
      " \n",
      "6 x - 5\n"
     ]
    }
   ],
   "source": [
    "# 6x -5 lik saçma bir polinom yapalım.\n",
    "print(np.poly1d([6,-5]))"
   ]
  },
  {
   "cell_type": "markdown",
   "metadata": {},
   "source": [
    "##### 2. derece ve üzeri polinomlar :"
   ]
  },
  {
   "cell_type": "code",
   "execution_count": 127,
   "metadata": {},
   "outputs": [
    {
     "name": "stdout",
     "output_type": "stream",
     "text": [
      "   2\n",
      "6 x - 5 x + 12\n"
     ]
    }
   ],
   "source": [
    "# 6x2 - 5x + 12 lik bir polinom : \n",
    "print(np.poly1d([6,-5,12]))"
   ]
  },
  {
   "cell_type": "code",
   "execution_count": 129,
   "metadata": {},
   "outputs": [
    {
     "name": "stdout",
     "output_type": "stream",
     "text": [
      "    2\n",
      "12 x + 13 x - 35\n"
     ]
    }
   ],
   "source": [
    "# iki polinomun çarpımı :\n",
    "pol1 = np.poly1d([3,7])\n",
    "pol2 = np.poly1d([4,-5])\n",
    "carpım = np.polymul(pol1,pol2)\n",
    "print(carpım)"
   ]
  },
  {
   "cell_type": "code",
   "execution_count": 133,
   "metadata": {},
   "outputs": [
    {
     "name": "stdout",
     "output_type": "stream",
     "text": [
      " \n",
      "2 x + 8\n",
      " \n",
      "25\n"
     ]
    }
   ],
   "source": [
    "# iki polinomun bölümü : \n",
    "pol1 = np.poly1d([4,6,-15])\n",
    "pol2 = np.poly1d([2,-5])\n",
    "bolum, kalan = np.polydiv(pol1,pol2)\n",
    "print(bolum)\n",
    "print(kalan)"
   ]
  },
  {
   "cell_type": "code",
   "execution_count": 134,
   "metadata": {},
   "outputs": [
    {
     "name": "stdout",
     "output_type": "stream",
     "text": [
      "   2\n",
      "4 x + 8 x - 20\n"
     ]
    }
   ],
   "source": [
    "# iki polinomun toplamı : \n",
    "toplam = pol1 + pol2\n",
    "print(toplam)"
   ]
  },
  {
   "cell_type": "markdown",
   "metadata": {},
   "source": [
    "#### Vectörize :"
   ]
  },
  {
   "cell_type": "code",
   "execution_count": 135,
   "metadata": {},
   "outputs": [],
   "source": [
    "x = [3,6,1,-3,2,7,3,9,1]"
   ]
  },
  {
   "cell_type": "code",
   "execution_count": 136,
   "metadata": {},
   "outputs": [],
   "source": [
    "def my_func(x):\n",
    "    return (x**2) - (3*x+4)"
   ]
  },
  {
   "cell_type": "code",
   "execution_count": 137,
   "metadata": {},
   "outputs": [
    {
     "ename": "TypeError",
     "evalue": "unsupported operand type(s) for ** or pow(): 'list' and 'int'",
     "output_type": "error",
     "traceback": [
      "\u001b[1;31m---------------------------------------------------------------------------\u001b[0m",
      "\u001b[1;31mTypeError\u001b[0m                                 Traceback (most recent call last)",
      "\u001b[1;32m<ipython-input-137-8785c82501ed>\u001b[0m in \u001b[0;36m<module>\u001b[1;34m\u001b[0m\n\u001b[1;32m----> 1\u001b[1;33m \u001b[0my\u001b[0m \u001b[1;33m=\u001b[0m \u001b[0mmy_func\u001b[0m\u001b[1;33m(\u001b[0m\u001b[0mx\u001b[0m\u001b[1;33m)\u001b[0m\u001b[1;33m\u001b[0m\u001b[1;33m\u001b[0m\u001b[0m\n\u001b[0m\u001b[0;32m      2\u001b[0m \u001b[0my\u001b[0m\u001b[1;33m\u001b[0m\u001b[1;33m\u001b[0m\u001b[0m\n",
      "\u001b[1;32m<ipython-input-136-8ab79700df83>\u001b[0m in \u001b[0;36mmy_func\u001b[1;34m(x)\u001b[0m\n\u001b[0;32m      1\u001b[0m \u001b[1;32mdef\u001b[0m \u001b[0mmy_func\u001b[0m\u001b[1;33m(\u001b[0m\u001b[0mx\u001b[0m\u001b[1;33m)\u001b[0m\u001b[1;33m:\u001b[0m\u001b[1;33m\u001b[0m\u001b[1;33m\u001b[0m\u001b[0m\n\u001b[1;32m----> 2\u001b[1;33m     \u001b[1;32mreturn\u001b[0m \u001b[1;33m(\u001b[0m\u001b[0mx\u001b[0m\u001b[1;33m**\u001b[0m\u001b[1;36m2\u001b[0m\u001b[1;33m)\u001b[0m \u001b[1;33m-\u001b[0m \u001b[1;33m(\u001b[0m\u001b[1;36m3\u001b[0m\u001b[1;33m*\u001b[0m\u001b[0mx\u001b[0m\u001b[1;33m+\u001b[0m\u001b[1;36m4\u001b[0m\u001b[1;33m)\u001b[0m\u001b[1;33m\u001b[0m\u001b[1;33m\u001b[0m\u001b[0m\n\u001b[0m",
      "\u001b[1;31mTypeError\u001b[0m: unsupported operand type(s) for ** or pow(): 'list' and 'int'"
     ]
    }
   ],
   "source": [
    "y = my_func(x)\n",
    "y\n",
    "# görüldüğü üzere y nin type eror hatası aldık.bunun için y yi vectör haline getireceğiz. Linear cebirde ki vectördür."
   ]
  },
  {
   "cell_type": "code",
   "execution_count": 139,
   "metadata": {},
   "outputs": [
    {
     "data": {
      "text/plain": [
       "array([-4, 14, -6, 14, -6, 24, -4, 50, -6])"
      ]
     },
     "execution_count": 139,
     "metadata": {},
     "output_type": "execute_result"
    }
   ],
   "source": [
    "my_vectorized = np.vectorize(my_func)\n",
    "y = my_vectorized(x)\n",
    "y"
   ]
  },
  {
   "cell_type": "markdown",
   "metadata": {},
   "source": [
    "#### Özel İşlevler : "
   ]
  },
  {
   "cell_type": "code",
   "execution_count": 2,
   "metadata": {},
   "outputs": [],
   "source": [
    "import scipy.special as sp"
   ]
  },
  {
   "cell_type": "code",
   "execution_count": 145,
   "metadata": {},
   "outputs": [
    {
     "data": {
      "text/plain": [
       "array([-2.19722458, -1.38629436, -0.84729786, -0.40546511,  0.        ,\n",
       "        0.40546511])"
      ]
     },
     "execution_count": 145,
     "metadata": {},
     "output_type": "execute_result"
    }
   ],
   "source": [
    "# 0 ve 1 arasındaki değerlerin logaritmik değerini verir.\n",
    "x = [0.1,0.2,0.3,0.4,0.5,0.6]\n",
    "sp.logit(x)"
   ]
  },
  {
   "cell_type": "code",
   "execution_count": 149,
   "metadata": {},
   "outputs": [
    {
     "data": {
      "text/plain": [
       "array([0. , 0.2, 0.4, 0.6, 0.8, 1. , 1.2, 1.4, 1.6, 1.8])"
      ]
     },
     "execution_count": 149,
     "metadata": {},
     "output_type": "execute_result"
    }
   ],
   "source": [
    "x_min = 0.0\n",
    "x_max = 1.8\n",
    "n = 10\n",
    "x = np.linspace(x_min, x_max, n)\n",
    "x"
   ]
  },
  {
   "cell_type": "code",
   "execution_count": 150,
   "metadata": {},
   "outputs": [
    {
     "data": {
      "text/plain": [
       "array([       -inf, -1.38629436, -0.40546511,  0.40546511,  1.38629436,\n",
       "               inf,         nan,         nan,         nan,         nan])"
      ]
     },
     "execution_count": 150,
     "metadata": {},
     "output_type": "execute_result"
    }
   ],
   "source": [
    "sp.logit(x)\n",
    "# 0 ve 1 i inf, 1 den büyükleri ise nan değeri ile gösterir."
   ]
  },
  {
   "cell_type": "code",
   "execution_count": 155,
   "metadata": {},
   "outputs": [
    {
     "data": {
      "text/plain": [
       "1.0"
      ]
     },
     "execution_count": 155,
     "metadata": {},
     "output_type": "execute_result"
    }
   ],
   "source": [
    "sp.expit(120)\n",
    "# expit 10 dan büyük tüm değerleri 1 yapar."
   ]
  },
  {
   "cell_type": "code",
   "execution_count": 156,
   "metadata": {},
   "outputs": [
    {
     "data": {
      "text/plain": [
       "array([1., 1., 1., 1., 1., 1., 1., 1., 1., 1.])"
      ]
     },
     "execution_count": 156,
     "metadata": {},
     "output_type": "execute_result"
    }
   ],
   "source": [
    "a = np.random.randint(11,100,size=10)\n",
    "sp.expit(a)"
   ]
  },
  {
   "cell_type": "code",
   "execution_count": 157,
   "metadata": {},
   "outputs": [
    {
     "data": {
      "text/plain": [
       "array([0.98201379, 0.99752738, 0.99966465, 0.99752738, 0.88079708,\n",
       "       0.99330715, 0.99987661, 0.98201379, 0.99752738, 0.99752738])"
      ]
     },
     "execution_count": 157,
     "metadata": {},
     "output_type": "execute_result"
    }
   ],
   "source": [
    "a = np.random.randint(2,10,size=10)\n",
    "sp.expit(a)"
   ]
  },
  {
   "cell_type": "code",
   "execution_count": null,
   "metadata": {},
   "outputs": [],
   "source": [
    "# -10 dan küçük 0.000 dan küçük değerler, +10 dan büyük değerleri 1 yapar. değerleri 0 ve 1 arasına getirir."
   ]
  },
  {
   "cell_type": "code",
   "execution_count": 161,
   "metadata": {},
   "outputs": [
    {
     "data": {
      "text/plain": [
       "0.00012339457598623172"
      ]
     },
     "execution_count": 161,
     "metadata": {},
     "output_type": "execute_result"
    }
   ],
   "source": [
    "sp.expit(-9)"
   ]
  },
  {
   "cell_type": "code",
   "execution_count": 162,
   "metadata": {},
   "outputs": [
    {
     "data": {
      "text/plain": [
       "0.0009110511944006454"
      ]
     },
     "execution_count": 162,
     "metadata": {},
     "output_type": "execute_result"
    }
   ],
   "source": [
    "sp.expit(-7)"
   ]
  },
  {
   "cell_type": "markdown",
   "metadata": {},
   "source": [
    "#### Kombinasyon : "
   ]
  },
  {
   "cell_type": "code",
   "execution_count": 164,
   "metadata": {},
   "outputs": [
    {
     "data": {
      "text/plain": [
       "210.0"
      ]
     },
     "execution_count": 164,
     "metadata": {},
     "output_type": "execute_result"
    }
   ],
   "source": [
    "n = 10\n",
    "k = 4\n",
    "sp.comb(n,k)\n",
    "# 10 un 4 e göre kombinasyonu."
   ]
  },
  {
   "cell_type": "markdown",
   "metadata": {},
   "source": [
    "#### Permutasyon : "
   ]
  },
  {
   "cell_type": "code",
   "execution_count": 165,
   "metadata": {},
   "outputs": [
    {
     "data": {
      "text/plain": [
       "5040.0"
      ]
     },
     "execution_count": 165,
     "metadata": {},
     "output_type": "execute_result"
    }
   ],
   "source": [
    "sp.perm(n,k)\n",
    "# 10 un 4 e göre permutasyonu."
   ]
  },
  {
   "cell_type": "markdown",
   "metadata": {},
   "source": [
    "#### Binom : "
   ]
  },
  {
   "cell_type": "code",
   "execution_count": 166,
   "metadata": {},
   "outputs": [
    {
     "data": {
      "text/plain": [
       "210.0"
      ]
     },
     "execution_count": 166,
     "metadata": {},
     "output_type": "execute_result"
    }
   ],
   "source": [
    "sp.binom(n,k)\n",
    "# 10 un 4 e göre permutasyonu."
   ]
  },
  {
   "cell_type": "code",
   "execution_count": 168,
   "metadata": {},
   "outputs": [
    {
     "data": {
      "text/plain": [
       "120.0"
      ]
     },
     "execution_count": 168,
     "metadata": {},
     "output_type": "execute_result"
    }
   ],
   "source": [
    "sp.factorial(5)\n",
    "# 5 sayısını factoriyeli"
   ]
  },
  {
   "cell_type": "markdown",
   "metadata": {},
   "source": [
    "#### İntegral : "
   ]
  },
  {
   "cell_type": "code",
   "execution_count": 5,
   "metadata": {},
   "outputs": [],
   "source": [
    "import scipy.integrate as integ"
   ]
  },
  {
   "cell_type": "code",
   "execution_count": 171,
   "metadata": {},
   "outputs": [
    {
     "name": "stdout",
     "output_type": "stream",
     "text": [
      "   2\n",
      "4 x + 3 x - 12\n"
     ]
    }
   ],
   "source": [
    "polyominal = np.poly1d([4,3,-12])\n",
    "print(polyominal)"
   ]
  },
  {
   "cell_type": "code",
   "execution_count": 173,
   "metadata": {},
   "outputs": [
    {
     "name": "stdout",
     "output_type": "stream",
     "text": [
      "-12\n"
     ]
    }
   ],
   "source": [
    "# şimdi x yerine 0  verelim.\n",
    "print(polyominal(0))"
   ]
  },
  {
   "cell_type": "code",
   "execution_count": 181,
   "metadata": {},
   "outputs": [
    {
     "name": "stdout",
     "output_type": "stream",
     "text": [
      "-5 ile 5 İNTEGRAL DEĞERİ :  213.33333333333337\n",
      "hata değeri :  0.0\n"
     ]
    }
   ],
   "source": [
    "# belirli integral : \n",
    "x_min = -5\n",
    "x_max = 5\n",
    "(integral, error) = integ.quad(polyominal, x_min, x_max)\n",
    "print(\"-5 ile 5 İNTEGRAL DEĞERİ : \", integral)\n",
    "print(\"hata değeri : \", round(error,4))\n",
    "# hata payı e üzeri error olarak hesaplanır.\n",
    "# integral değerimiz -5 ve 5 değerinde = 213.7"
   ]
  },
  {
   "cell_type": "code",
   "execution_count": 199,
   "metadata": {},
   "outputs": [
    {
     "name": "stdout",
     "output_type": "stream",
     "text": [
      " \n",
      "2 x + 4\n",
      "1 ve 2 ye göre fonksiyonun integrali =  7.0\n"
     ]
    }
   ],
   "source": [
    "# 2x + 4 ün 2 ve 1 integralini hesaplayalım : \n",
    "# integrali => 2x2/2 + 4x olur. sırasıyla 2 ve 1 değerini koyarız. => (2 * 4/2 + 4*2) - (2* 1/2 + 4*2) = 7.0\n",
    "x_min = 1\n",
    "x_max = 2\n",
    "fonk = np.poly1d([2,4])\n",
    "print(fonk)\n",
    "(integral, hata) = integ.quad(fonk, x_min, x_max)\n",
    "print(\"1 ve 2 ye göre fonksiyonun integrali = \", integral)"
   ]
  },
  {
   "cell_type": "code",
   "execution_count": 200,
   "metadata": {},
   "outputs": [
    {
     "name": "stdout",
     "output_type": "stream",
     "text": [
      "   3     2\n",
      "4 x + 7 x + 6 x + 5\n",
      "-5 ve 5 ye göre fonksiyonun integrali =  633.3333333333334\n"
     ]
    }
   ],
   "source": [
    "# 4x3 + 7x2 + 6x + 5 in -5 ve 5 e göre integrali : \n",
    "x_min = -5\n",
    "x_max = 5\n",
    "func = np.poly1d([4,7,6,5])\n",
    "print(func)\n",
    "(integral, hata) = integ.quad(func, x_min, x_max)\n",
    "print(\"-5 ve 5 ye göre fonksiyonun integrali = \", integral)"
   ]
  },
  {
   "cell_type": "raw",
   "metadata": {},
   "source": [
    "Belirsiz integral : \n",
    "f(x) = 5x2 + 6x + 5 \n",
    "integrali => 5x3/3 + 6x2/2 + 5x olur."
   ]
  },
  {
   "cell_type": "code",
   "execution_count": null,
   "metadata": {},
   "outputs": [],
   "source": []
  },
  {
   "cell_type": "code",
   "execution_count": null,
   "metadata": {},
   "outputs": [],
   "source": []
  },
  {
   "cell_type": "markdown",
   "metadata": {},
   "source": [
    "#### Türev : "
   ]
  },
  {
   "cell_type": "code",
   "execution_count": 4,
   "metadata": {},
   "outputs": [],
   "source": [
    "import scipy.misc as misc"
   ]
  },
  {
   "cell_type": "code",
   "execution_count": 186,
   "metadata": {},
   "outputs": [
    {
     "name": "stdout",
     "output_type": "stream",
     "text": [
      "Türevi =  19.000000001767603\n"
     ]
    }
   ],
   "source": [
    "x0 = 2\n",
    "dx = 1e-6\n",
    "turev = misc.derivative(polyominal, x0, dx)\n",
    "print(\"Türevi = \",  turev)\n",
    "# x 2 ye göre türevini alır. ama dx i biz verdik. eğer hiç dx değeri yazmassak 1 olarak atar."
   ]
  },
  {
   "cell_type": "code",
   "execution_count": 187,
   "metadata": {},
   "outputs": [
    {
     "name": "stdout",
     "output_type": "stream",
     "text": [
      "Türev 35.0\n"
     ]
    }
   ],
   "source": [
    "x0 = 4\n",
    "turev1 = misc.derivative(polyominal, x0)\n",
    "print(\"Türev\", turev1)\n",
    "# x 4 e göre türevini aldı."
   ]
  },
  {
   "cell_type": "code",
   "execution_count": 195,
   "metadata": {},
   "outputs": [
    {
     "name": "stdout",
     "output_type": "stream",
     "text": [
      "    3     2\n",
      "-2 x + 6 x + 4 x - 8\n"
     ]
    }
   ],
   "source": [
    "polyominal = np.poly1d([-2,6,4,-8])\n",
    "print(polyominal)"
   ]
  },
  {
   "cell_type": "code",
   "execution_count": 197,
   "metadata": {},
   "outputs": [
    {
     "data": {
      "text/plain": [
       "8.0"
      ]
     },
     "execution_count": 197,
     "metadata": {},
     "output_type": "execute_result"
    }
   ],
   "source": [
    "misc.derivative(polyominal,1)\n",
    "# burda türevi alıp x=1 e göre sonucunu bulduk."
   ]
  },
  {
   "cell_type": "code",
   "execution_count": 201,
   "metadata": {},
   "outputs": [
    {
     "name": "stdout",
     "output_type": "stream",
     "text": [
      " \n",
      "2 x - 4\n"
     ]
    }
   ],
   "source": [
    "pol = np.poly1d([2,-4])\n",
    "print(pol)"
   ]
  },
  {
   "cell_type": "code",
   "execution_count": 203,
   "metadata": {},
   "outputs": [
    {
     "name": "stdout",
     "output_type": "stream",
     "text": [
      "2x-4 ün x=5 e göre türevi  2.0\n",
      "2x-4 ün x=145 e göre türevi  2.0\n"
     ]
    }
   ],
   "source": [
    "print(\"2x-4 ün x=5 e göre türevi \", misc.derivative(pol,5))\n",
    "print(\"2x-4 ün x=145 e göre türevi \", misc.derivative(pol,145))\n",
    "# çünkü 2x-4 ün türevi 2 eder."
   ]
  },
  {
   "cell_type": "markdown",
   "metadata": {},
   "source": [
    "#### Optimizasyon problemleri : "
   ]
  },
  {
   "cell_type": "raw",
   "metadata": {},
   "source": [
    "Bir şeyin (Alan, uzunluk, hacim...) alabileceği en büyük veya en küçük değerin 1.türev yardımıyla hesaplanmasına optimizasyon denir."
   ]
  },
  {
   "cell_type": "code",
   "execution_count": 6,
   "metadata": {},
   "outputs": [],
   "source": [
    "import scipy.optimize as opt"
   ]
  },
  {
   "cell_type": "code",
   "execution_count": 24,
   "metadata": {},
   "outputs": [
    {
     "name": "stdout",
     "output_type": "stream",
     "text": [
      "   2\n",
      "2 x + 2 x - 4\n",
      "      fun: -4.5\n",
      " hess_inv: array([[0.25]])\n",
      "      jac: array([0.])\n",
      "  message: 'Optimization terminated successfully.'\n",
      "     nfev: 6\n",
      "      nit: 2\n",
      "     njev: 3\n",
      "   status: 0\n",
      "  success: True\n",
      "        x: array([-0.50000001])\n"
     ]
    }
   ],
   "source": [
    "polyominal = np.poly1d([2,2,-4])\n",
    "print(polyominal)\n",
    "min_x = [1]\n",
    "min_result = opt.minimize(polyominal, min_x)\n",
    "print(min_result)"
   ]
  },
  {
   "cell_type": "raw",
   "metadata": {},
   "source": [
    "Yukarıda ki optimizasyon probleminde biz minimun optimize yaptık. Bir polinom oluşturduk 2x2 + 2x - 4 değerinde. Kendimize bir x değeri belirledik. minx=1 diyerek. Yaptığı işlem şu oldu. \n",
    "ilk önce 2x2 + 2x -4 polinomunun türevini aldı ve 4x + 2 denklemini elde etti.  4x+2 = 0, x =-0.5 çıktı. sonra çıkan -0.5 i 2x2+2x-4 denkleminde x yerine yazdım ve -4.5 i elde ettim. x_min = 1  vermemin sebebi 2x2 + 2x - 4 = 0 koşulunu sağladığı için."
   ]
  },
  {
   "cell_type": "code",
   "execution_count": 30,
   "metadata": {},
   "outputs": [
    {
     "name": "stdout",
     "output_type": "stream",
     "text": [
      "   2\n",
      "1 x - 1 x + 6\n"
     ]
    }
   ],
   "source": [
    "polyominal = np.poly1d([1,-1,6])\n",
    "print(polyominal)"
   ]
  },
  {
   "cell_type": "code",
   "execution_count": 36,
   "metadata": {},
   "outputs": [
    {
     "name": "stdout",
     "output_type": "stream",
     "text": [
      "      fun: 5.750000000000001\n",
      " hess_inv: array([[0.5]])\n",
      "      jac: array([-5.96046448e-08])\n",
      "  message: 'Optimization terminated successfully.'\n",
      "     nfev: 8\n",
      "      nit: 3\n",
      "     njev: 4\n",
      "   status: 0\n",
      "  success: True\n",
      "        x: array([0.49999997])\n"
     ]
    }
   ],
   "source": [
    "min_x0 = [-5]\n",
    "min_result = opt.minimize(polyominal, min_x0)\n",
    "print(min_result)"
   ]
  },
  {
   "cell_type": "raw",
   "metadata": {},
   "source": [
    "burdada yine x2 - x + 6 nın türevini alıp 0 ra eşitledi. sonra x =0.5 buldu. sonra 0.5 i x2 - x + 6 yerine yazıp 5.75 değeri buldu."
   ]
  },
  {
   "cell_type": "code",
   "execution_count": 39,
   "metadata": {},
   "outputs": [
    {
     "name": "stdout",
     "output_type": "stream",
     "text": [
      "   3     2\n",
      "1 x + 1 x + 2 x - 4\n"
     ]
    }
   ],
   "source": [
    "polyominal = np.poly1d([1,1,2,-4])\n",
    "print(polyominal)"
   ]
  },
  {
   "cell_type": "code",
   "execution_count": 42,
   "metadata": {},
   "outputs": [
    {
     "name": "stdout",
     "output_type": "stream",
     "text": [
      "      fun: array([-6.31688966e+08])\n",
      " hess_inv: array([[-0.00038846]])\n",
      "      jac: array([2208624.])\n",
      "  message: 'Desired error not necessarily achieved due to precision loss.'\n",
      "     nfev: 240\n",
      "      nit: 3\n",
      "     njev: 114\n",
      "   status: 2\n",
      "  success: False\n",
      "        x: array([-858.35996589])\n"
     ]
    }
   ],
   "source": [
    "min_x0 = [1]\n",
    "min_result = opt.minimize(polyominal, min_x0)\n",
    "print(min_result)"
   ]
  },
  {
   "cell_type": "code",
   "execution_count": null,
   "metadata": {},
   "outputs": [],
   "source": [
    "# burda minimize edemedi. türevi tek aldığında : 3x2 + 2x + 2 denklemi kaldı ver sucess false verdi."
   ]
  },
  {
   "cell_type": "markdown",
   "metadata": {},
   "source": [
    "#### İnterpolasyon : "
   ]
  },
  {
   "cell_type": "code",
   "execution_count": 43,
   "metadata": {},
   "outputs": [],
   "source": [
    "import scipy.interpolate as intp"
   ]
  },
  {
   "cell_type": "code",
   "execution_count": 53,
   "metadata": {},
   "outputs": [],
   "source": [
    "# noktaları tanımlayıp arada ki eğriyi bulacağız.\n",
    "noktalar = np.array([[-3,1] , [-2,-1], [-1,4], [1,6]])\n",
    "x_ekseni = np.array([-3,-2,-1,1])\n",
    "y_ekseni = np.array([1,-1,4,6])"
   ]
  },
  {
   "cell_type": "code",
   "execution_count": 56,
   "metadata": {},
   "outputs": [],
   "source": [
    "nokta_bul = intp.interp1d(x_ekseni,y_ekseni)"
   ]
  },
  {
   "cell_type": "code",
   "execution_count": 63,
   "metadata": {},
   "outputs": [
    {
     "name": "stdout",
     "output_type": "stream",
     "text": [
      "5.8\n"
     ]
    }
   ],
   "source": [
    "# biz şimdi bir x noktası verip yukarıdaki verileri baz alarak bize bir y noktası verecektir.\n",
    "x = 0.8\n",
    "y = nokta_bul(x)\n",
    "print(y)\n",
    "# vereceğimiz x noktası yukarıda tanımladığımız aralıkta olmak zorunda yani yukarıda en büyük x değeri 1 dir."
   ]
  },
  {
   "cell_type": "code",
   "execution_count": 66,
   "metadata": {},
   "outputs": [],
   "source": [
    "noktalar = np.array([[-3,1] , [-2,2], [-1,4], [1,6], [2,5], [6,4],[4,-12]])\n",
    "x_ekseni = np.array([-3,-2,-1,1,2,6,4])\n",
    "y_ekseni = np.array([1,2,4,6,5,4,-12])"
   ]
  },
  {
   "cell_type": "code",
   "execution_count": 67,
   "metadata": {},
   "outputs": [],
   "source": [
    "nokta_bul = intp.interp1d(x_ekseni,y_ekseni)"
   ]
  },
  {
   "cell_type": "code",
   "execution_count": 70,
   "metadata": {},
   "outputs": [
    {
     "name": "stdout",
     "output_type": "stream",
     "text": [
      "-8.0\n"
     ]
    }
   ],
   "source": [
    "x = 4.5\n",
    "y = nokta_bul(x)\n",
    "print(y)"
   ]
  },
  {
   "cell_type": "code",
   "execution_count": 71,
   "metadata": {},
   "outputs": [
    {
     "data": {
      "text/plain": [
       "array([ 1. ,  2. ,  4. ,  5. ,  6. ,  5. , -3.5])"
      ]
     },
     "execution_count": 71,
     "metadata": {},
     "output_type": "execute_result"
    }
   ],
   "source": [
    "x_eksenler = np.linspace(-3,3,num=7)\n",
    "y_eksenler = nokta_bul(x_eksenler)\n",
    "y_eksenler"
   ]
  },
  {
   "cell_type": "code",
   "execution_count": null,
   "metadata": {},
   "outputs": [],
   "source": []
  },
  {
   "cell_type": "markdown",
   "metadata": {},
   "source": [
    "#### Linear Cebir : "
   ]
  },
  {
   "cell_type": "code",
   "execution_count": 77,
   "metadata": {},
   "outputs": [],
   "source": [
    "import scipy.linalg as ling\n",
    "import numpy.matlib"
   ]
  },
  {
   "cell_type": "code",
   "execution_count": 84,
   "metadata": {},
   "outputs": [],
   "source": [
    "matrix = np.matlib.array([\n",
    "    [1,2],\n",
    "    [4,3],\n",
    "])"
   ]
  },
  {
   "cell_type": "code",
   "execution_count": 81,
   "metadata": {},
   "outputs": [
    {
     "data": {
      "text/plain": [
       "numpy.ndarray"
      ]
     },
     "execution_count": 81,
     "metadata": {},
     "output_type": "execute_result"
    }
   ],
   "source": [
    "type(matrix)"
   ]
  },
  {
   "cell_type": "code",
   "execution_count": 85,
   "metadata": {},
   "outputs": [
    {
     "data": {
      "text/plain": [
       "array([[-0.6,  0.4],\n",
       "       [ 0.8, -0.2]])"
      ]
     },
     "execution_count": 85,
     "metadata": {},
     "output_type": "execute_result"
    }
   ],
   "source": [
    "# matrisin tersini bulur : \n",
    "inverse = ling.inv(matrix)\n",
    "inverse"
   ]
  },
  {
   "cell_type": "code",
   "execution_count": 86,
   "metadata": {},
   "outputs": [
    {
     "data": {
      "text/plain": [
       "array([[3, 5, 9],\n",
       "       [2, 8, 4],\n",
       "       [3, 7, 3]])"
      ]
     },
     "execution_count": 86,
     "metadata": {},
     "output_type": "execute_result"
    }
   ],
   "source": [
    "matrix = np.matlib.random.randint(2,10,size=(3,3))\n",
    "matrix"
   ]
  },
  {
   "cell_type": "code",
   "execution_count": 87,
   "metadata": {},
   "outputs": [
    {
     "data": {
      "text/plain": [
       "array([[ 0.05555556, -0.66666667,  0.72222222],\n",
       "       [-0.08333333,  0.25      , -0.08333333],\n",
       "       [ 0.13888889,  0.08333333, -0.19444444]])"
      ]
     },
     "execution_count": 87,
     "metadata": {},
     "output_type": "execute_result"
    }
   ],
   "source": [
    "tersi = ling.inv(matrix)\n",
    "tersi"
   ]
  },
  {
   "cell_type": "code",
   "execution_count": 88,
   "metadata": {},
   "outputs": [
    {
     "data": {
      "text/plain": [
       "array([40, 30, 26])"
      ]
     },
     "execution_count": 88,
     "metadata": {},
     "output_type": "execute_result"
    }
   ],
   "source": [
    "# matrisle vectörün çarpımı : \n",
    "vector = np.matlib.array([1,2,3])\n",
    "carpım = matrix.dot(vector)\n",
    "carpım\n",
    "# vector 1 satır 3 sutun, matrix 3 satır 3 sutun vectörün sutun sayısına eşit olmalı."
   ]
  },
  {
   "cell_type": "code",
   "execution_count": 89,
   "metadata": {},
   "outputs": [
    {
     "data": {
      "text/plain": [
       "-72.0"
      ]
     },
     "execution_count": 89,
     "metadata": {},
     "output_type": "execute_result"
    }
   ],
   "source": [
    "# determinantını bulma : \n",
    "determinant = ling.det(matrix)\n",
    "determinant"
   ]
  },
  {
   "cell_type": "code",
   "execution_count": 90,
   "metadata": {},
   "outputs": [
    {
     "data": {
      "text/plain": [
       "(array([14.20637586+0.j,  2.1504302 +0.j, -2.35680606+0.j]),\n",
       " array([[ 0.65906389,  0.90395224, -0.84877211],\n",
       "        [ 0.54584036, -0.40431313, -0.0397334 ],\n",
       "        [ 0.51739066,  0.13928835,  0.52726384]]))"
      ]
     },
     "execution_count": 90,
     "metadata": {},
     "output_type": "execute_result"
    }
   ],
   "source": [
    "# Özdeğerler veya eigen değer :\n",
    "eigen_values = ling.eig(matrix)\n",
    "eigen_values\n",
    "# görüntü işleme de çok kullanılır. sadece kare matrislerde kullanılabilir."
   ]
  },
  {
   "cell_type": "markdown",
   "metadata": {},
   "source": [
    "#### linear Denklemler : "
   ]
  },
  {
   "cell_type": "raw",
   "metadata": {},
   "source": [
    "x1 + 3x2 + 5x3 = 10\n",
    "2x1 + 5x2 + 1x3 = 8\n",
    "2x1 + 3x2 + 5x3 = 13\n",
    "denklemini çözelim : "
   ]
  },
  {
   "cell_type": "code",
   "execution_count": 101,
   "metadata": {},
   "outputs": [],
   "source": [
    "matrix_A = np.array([\n",
    "    [1,3,5],\n",
    "    [2,5,1],\n",
    "    [2,3,5]\n",
    "])"
   ]
  },
  {
   "cell_type": "code",
   "execution_count": 102,
   "metadata": {},
   "outputs": [],
   "source": [
    "vector_Y = np.array([10,8,13])"
   ]
  },
  {
   "cell_type": "code",
   "execution_count": 103,
   "metadata": {},
   "outputs": [
    {
     "name": "stdout",
     "output_type": "stream",
     "text": [
      "[3.         0.13636364 1.31818182]\n"
     ]
    }
   ],
   "source": [
    "vector_X = ling.solve(matrix_A, vector_Y)\n",
    "print(vector_X)"
   ]
  },
  {
   "cell_type": "code",
   "execution_count": 104,
   "metadata": {},
   "outputs": [
    {
     "data": {
      "text/plain": [
       "array([[3, 5, 9],\n",
       "       [2, 8, 4],\n",
       "       [3, 7, 3]])"
      ]
     },
     "execution_count": 104,
     "metadata": {},
     "output_type": "execute_result"
    }
   ],
   "source": [
    "matrix"
   ]
  },
  {
   "cell_type": "code",
   "execution_count": 105,
   "metadata": {},
   "outputs": [
    {
     "data": {
      "text/plain": [
       "array([[1.19226454+1.15638659j, 1.16990398+1.52403835j,\n",
       "        0.62736447-3.0808718j ],\n",
       "       [0.32695215+0.0541337j , 1.69985142+0.07134451j,\n",
       "        0.58980909-0.14422425j],\n",
       "       [0.28746007-0.71835635j, 0.85590409-0.94674449j,\n",
       "        1.38455015+1.91386155j]])"
      ]
     },
     "execution_count": 105,
     "metadata": {},
     "output_type": "execute_result"
    }
   ],
   "source": [
    "# logaritma alma : \n",
    "ling.logm(matrix)\n",
    "# burda taylor ve maclaurin serileri ile logaritma alır."
   ]
  },
  {
   "cell_type": "code",
   "execution_count": 109,
   "metadata": {},
   "outputs": [
    {
     "data": {
      "text/plain": [
       "array([[307604.05633556, 881179.38362158, 561574.48107255],\n",
       "       [254754.70861705, 729809.44150576, 465092.57867429],\n",
       "       [241478.74081951, 691765.70664052, 440854.57201499]])"
      ]
     },
     "execution_count": 109,
     "metadata": {},
     "output_type": "execute_result"
    }
   ],
   "source": [
    "# exponential taylor series : \n",
    "ling.expm(matrix)"
   ]
  },
  {
   "cell_type": "code",
   "execution_count": 108,
   "metadata": {},
   "outputs": [
    {
     "data": {
      "text/plain": [
       "array([[ 3.02066694e-01, -6.52760628e-01,  1.57464758e+00],\n",
       "       [ 1.14242971e-03,  8.81070779e-01,  1.21487896e-01],\n",
       "       [ 3.79189928e-01,  5.40412169e-01, -5.55424164e-02]])"
      ]
     },
     "execution_count": 108,
     "metadata": {},
     "output_type": "execute_result"
    }
   ],
   "source": [
    "# sinüsü bulma : \n",
    "ling.sinm(matrix)"
   ]
  },
  {
   "cell_type": "code",
   "execution_count": 113,
   "metadata": {},
   "outputs": [
    {
     "data": {
      "text/plain": [
       "array([[ 46., 118.,  74.],\n",
       "       [ 34., 102.,  62.],\n",
       "       [ 32.,  92.,  64.]])"
      ]
     },
     "execution_count": 113,
     "metadata": {},
     "output_type": "execute_result"
    }
   ],
   "source": [
    "def my_funcation(M) : \n",
    "    return M * M\n",
    "ling.funm(matrix, my_funcation)\n",
    "# bu şekilde linear cebire göre karesini aldık."
   ]
  },
  {
   "cell_type": "markdown",
   "metadata": {},
   "source": [
    "#### Uzay - Vectörler : "
   ]
  },
  {
   "cell_type": "markdown",
   "metadata": {},
   "source": [
    "##### Noktaları Üçgenleştirme(2 boyutlu arrayden 3 boyut elde etme) :"
   ]
  },
  {
   "cell_type": "code",
   "execution_count": 2,
   "metadata": {},
   "outputs": [],
   "source": [
    "import scipy.spatial as sp"
   ]
  },
  {
   "cell_type": "code",
   "execution_count": 3,
   "metadata": {},
   "outputs": [],
   "source": [
    "# linear cebirde de gösterilen bir konudur. Noktaları verip bize bir uzayda doğru verir."
   ]
  },
  {
   "cell_type": "code",
   "execution_count": 4,
   "metadata": {},
   "outputs": [],
   "source": [
    "# vektör çizimi için 40 satır, 2 sutunluk noktalar oluşturduk.\n",
    "x_count = 10\n",
    "y_count = 4\n",
    "points = np.zeros((x_count * y_count,2))"
   ]
  },
  {
   "cell_type": "code",
   "execution_count": 5,
   "metadata": {},
   "outputs": [
    {
     "data": {
      "text/plain": [
       "array([[0., 0.],\n",
       "       [0., 0.],\n",
       "       [0., 0.],\n",
       "       [0., 0.],\n",
       "       [0., 0.],\n",
       "       [0., 0.],\n",
       "       [0., 0.],\n",
       "       [0., 0.],\n",
       "       [0., 0.],\n",
       "       [0., 0.],\n",
       "       [0., 0.],\n",
       "       [0., 0.],\n",
       "       [0., 0.],\n",
       "       [0., 0.],\n",
       "       [0., 0.],\n",
       "       [0., 0.],\n",
       "       [0., 0.],\n",
       "       [0., 0.],\n",
       "       [0., 0.],\n",
       "       [0., 0.],\n",
       "       [0., 0.],\n",
       "       [0., 0.],\n",
       "       [0., 0.],\n",
       "       [0., 0.],\n",
       "       [0., 0.],\n",
       "       [0., 0.],\n",
       "       [0., 0.],\n",
       "       [0., 0.],\n",
       "       [0., 0.],\n",
       "       [0., 0.],\n",
       "       [0., 0.],\n",
       "       [0., 0.],\n",
       "       [0., 0.],\n",
       "       [0., 0.],\n",
       "       [0., 0.],\n",
       "       [0., 0.],\n",
       "       [0., 0.],\n",
       "       [0., 0.],\n",
       "       [0., 0.],\n",
       "       [0., 0.]])"
      ]
     },
     "execution_count": 5,
     "metadata": {},
     "output_type": "execute_result"
    }
   ],
   "source": [
    "points"
   ]
  },
  {
   "cell_type": "code",
   "execution_count": 17,
   "metadata": {},
   "outputs": [
    {
     "name": "stdout",
     "output_type": "stream",
     "text": [
      "Noktalar :\n"
     ]
    },
    {
     "data": {
      "text/plain": [
       "array([[10., 10.],\n",
       "       [10., 10.],\n",
       "       [10., 10.],\n",
       "       [10., 10.],\n",
       "       [10., 12.],\n",
       "       [11., 12.],\n",
       "       [12., 12.],\n",
       "       [13., 12.],\n",
       "       [10., 14.],\n",
       "       [12., 14.],\n",
       "       [14., 14.],\n",
       "       [16., 14.],\n",
       "       [10., 16.],\n",
       "       [13., 16.],\n",
       "       [16., 16.],\n",
       "       [19., 16.],\n",
       "       [10., 18.],\n",
       "       [14., 18.],\n",
       "       [18., 18.],\n",
       "       [22., 18.],\n",
       "       [10., 20.],\n",
       "       [15., 20.],\n",
       "       [20., 20.],\n",
       "       [25., 20.],\n",
       "       [10., 22.],\n",
       "       [16., 22.],\n",
       "       [22., 22.],\n",
       "       [28., 22.],\n",
       "       [10., 24.],\n",
       "       [17., 24.],\n",
       "       [24., 24.],\n",
       "       [31., 24.],\n",
       "       [10., 26.],\n",
       "       [18., 26.],\n",
       "       [26., 26.],\n",
       "       [34., 26.],\n",
       "       [10., 28.],\n",
       "       [19., 28.],\n",
       "       [28., 28.],\n",
       "       [37., 28.]])"
      ]
     },
     "execution_count": 17,
     "metadata": {},
     "output_type": "execute_result"
    }
   ],
   "source": [
    "# Düzlemde yerleitrmek içn iki boyutlu noktalar oluşturalım : \n",
    "x0 = 10\n",
    "y0 = 10\n",
    "dx = 1\n",
    "dy = 2\n",
    "for i in range(x_count) : \n",
    "    for j in range (y_count) : \n",
    "        x = x0 + i*j*dx\n",
    "        y = y0 + i*dy\n",
    "        points[i*y_count+j] = np.array([x,y])\n",
    "print(\"Noktalar :\")\n",
    "points"
   ]
  },
  {
   "cell_type": "code",
   "execution_count": 19,
   "metadata": {},
   "outputs": [
    {
     "name": "stdout",
     "output_type": "stream",
     "text": [
      "Oluşan Yüzey\n",
      "[[34 38 37]\n",
      " [24 25 28]\n",
      " [15 14 11]\n",
      " [ 7  6  0]\n",
      " [38 35 39]\n",
      " [30 34 37]\n",
      " [30 27 34]\n",
      " [26 22 19]\n",
      " [22 29 25]\n",
      " [29 22 26]\n",
      " [29 32 28]\n",
      " [25 29 28]\n",
      " [23 26 19]\n",
      " [30 23 27]\n",
      " [23 30 26]\n",
      " [20 16 17]\n",
      " [10  7 11]\n",
      " [14 10 11]\n",
      " [31 35 38]\n",
      " [27 31 34]\n",
      " [31 38 34]\n",
      " [14 18 17]\n",
      " [18 22 25]\n",
      " [18 14 15]\n",
      " [18 15 19]\n",
      " [22 18 19]\n",
      " [33 29 26]\n",
      " [33 30 37]\n",
      " [30 33 26]\n",
      " [33 37 36]\n",
      " [32 33 36]\n",
      " [29 33 32]\n",
      " [16 13 17]\n",
      " [13 14 17]\n",
      " [13 10 14]\n",
      " [ 5  4  0]\n",
      " [ 6  5  0]\n",
      " [ 4  5  8]\n",
      " [18 21 17]\n",
      " [21 18 25]\n",
      " [20 21 24]\n",
      " [24 21 25]\n",
      " [21 20 17]\n",
      " [12 13 16]\n",
      " [13  9 10]\n",
      " [ 9 12  8]\n",
      " [12  9 13]\n",
      " [ 9  5  6]\n",
      " [ 5  9  8]\n",
      " [ 7  9  6]\n",
      " [10  9  7]]\n"
     ]
    }
   ],
   "source": [
    "# şimdi oluşturduğumuz arrayi vektör olarak çizelim : \n",
    "ucgenlestirme = sp.Delaunay(points)\n",
    "print(\"Oluşan Yüzey\")\n",
    "print(ucgenlestirme.simplices)\n",
    "# iki boyutlu nesnemizin aralarına yüzyler oluşturdu. "
   ]
  },
  {
   "cell_type": "code",
   "execution_count": 21,
   "metadata": {},
   "outputs": [
    {
     "data": {
      "text/plain": [
       "scipy.spatial.qhull.Delaunay"
      ]
     },
     "execution_count": 21,
     "metadata": {},
     "output_type": "execute_result"
    }
   ],
   "source": [
    "type(ucgenlestirme)"
   ]
  },
  {
   "cell_type": "code",
   "execution_count": 22,
   "metadata": {},
   "outputs": [],
   "source": [
    "import matplotlib.pyplot as plt"
   ]
  },
  {
   "cell_type": "code",
   "execution_count": null,
   "metadata": {},
   "outputs": [],
   "source": []
  },
  {
   "cell_type": "code",
   "execution_count": 25,
   "metadata": {},
   "outputs": [
    {
     "name": "stdout",
     "output_type": "stream",
     "text": [
      "Noktalar\n"
     ]
    },
    {
     "data": {
      "image/png": "[encoded data removed]",
      "text/plain": [
       "<Figure size 432x288 with 1 Axes>"
      ]
     },
     "metadata": {
      "needs_background": "light"
     },
     "output_type": "display_data"
    }
   ],
   "source": [
    "# ilk önce oluşturduğumuz noktaları grafiksel olarak görelim\n",
    "print(\"Noktalar\") \n",
    "#print(points)\n",
    "plt.plot(points[:,0], points[:,1], \"bo\")\n",
    "plt.show()"
   ]
  },
  {
   "cell_type": "code",
   "execution_count": 28,
   "metadata": {},
   "outputs": [
    {
     "data": {
      "image/png": "[encoded data removed]",
      "text/plain": [
       "<Figure size 432x288 with 1 Axes>"
      ]
     },
     "metadata": {
      "needs_background": "light"
     },
     "output_type": "display_data"
    }
   ],
   "source": [
    "# şimdi noktaları birleştirip ügenleştirme yapalım : \n",
    "plt.triplot(points[:,0], points[:,1], ucgenlestirme.simplices, c=\"y\")\n",
    "plt.plot(points[:,0], points[:,1], \"bo\")\n",
    "plt.show()\n",
    "# iki boyutlu arrayimiz olan points 3 boyutlu grafik haline geldi. üçgen benzeri yüzeyleri oluşturduk."
   ]
  },
  {
   "cell_type": "markdown",
   "metadata": {},
   "source": [
    "#### Dışbukey - ConvexHull : "
   ]
  },
  {
   "cell_type": "code",
   "execution_count": 30,
   "metadata": {},
   "outputs": [],
   "source": [
    "# noktaları oluşturalım : \n",
    "count = 40\n",
    "points = np.zeros((count, 2))"
   ]
  },
  {
   "cell_type": "code",
   "execution_count": null,
   "metadata": {},
   "outputs": [],
   "source": [
    "import random as rnd"
   ]
  },
  {
   "cell_type": "code",
   "execution_count": 35,
   "metadata": {},
   "outputs": [
    {
     "data": {
      "text/plain": [
       "array([[15., 21.],\n",
       "       [15., 13.],\n",
       "       [14., 25.],\n",
       "       [12., 29.],\n",
       "       [16., 35.],\n",
       "       [10., 35.],\n",
       "       [17., 39.],\n",
       "       [17., 25.],\n",
       "       [13., 23.],\n",
       "       [12., 36.],\n",
       "       [17., 11.],\n",
       "       [17., 31.],\n",
       "       [11., 28.],\n",
       "       [11., 19.],\n",
       "       [14., 34.],\n",
       "       [18., 27.],\n",
       "       [18., 27.],\n",
       "       [16., 29.],\n",
       "       [19., 29.],\n",
       "       [13., 14.],\n",
       "       [11., 11.],\n",
       "       [17., 18.],\n",
       "       [12., 16.],\n",
       "       [11., 13.],\n",
       "       [16., 24.],\n",
       "       [12., 36.],\n",
       "       [19., 19.],\n",
       "       [15., 10.],\n",
       "       [10., 18.],\n",
       "       [19., 25.],\n",
       "       [11., 10.],\n",
       "       [15., 38.],\n",
       "       [13., 36.],\n",
       "       [10., 36.],\n",
       "       [12., 34.],\n",
       "       [20., 31.],\n",
       "       [11., 17.],\n",
       "       [17., 18.],\n",
       "       [17., 18.],\n",
       "       [17., 31.]])"
      ]
     },
     "execution_count": 35,
     "metadata": {},
     "output_type": "execute_result"
    }
   ],
   "source": [
    "# noktaları 2 boyutlu arrayi yani kendimiz düzlem için noktalar üretelim düzenleyelim :\n",
    "x_min = 10\n",
    "x_max = 20\n",
    "y_min = 10\n",
    "y_max = 40\n",
    "for i in range(count):\n",
    "    x = rnd.randint(x_min, x_max)\n",
    "    y = rnd.randint(y_min, y_max)\n",
    "    points[i] = np.array([x,y])\n",
    "points"
   ]
  },
  {
   "cell_type": "code",
   "execution_count": 40,
   "metadata": {},
   "outputs": [
    {
     "name": "stdout",
     "output_type": "stream",
     "text": [
      "[[ 6 35]\n",
      " [30 27]\n",
      " [26 35]\n",
      " [33  6]\n",
      " [28 30]\n",
      " [28 33]\n",
      " [10 27]\n",
      " [10 26]]\n",
      "[ 6 35]\n",
      "[30 27]\n",
      "[26 35]\n",
      "[33  6]\n",
      "[28 30]\n",
      "[28 33]\n",
      "[10 27]\n",
      "[10 26]\n"
     ]
    },
    {
     "data": {
      "image/png": "[encoded data removed]",
      "text/plain": [
       "<Figure size 432x288 with 1 Axes>"
      ]
     },
     "metadata": {
      "needs_background": "light"
     },
     "output_type": "display_data"
    }
   ],
   "source": [
    "# vektörün dış yüzünü çizelim : \n",
    "hull = sp.ConvexHull(points)\n",
    "print(hull.simplices)\n",
    "for simplex in hull.simplices : \n",
    "    print(simplex)\n",
    "    plt.plot(points[:,0], points[:,1], \"bo\")\n",
    "    plt.plot(points[simplex,0], points[simplex,1], \"y-\")"
   ]
  },
  {
   "cell_type": "code",
   "execution_count": null,
   "metadata": {},
   "outputs": [],
   "source": [
    "# noktalarımızın dışbükeyini çizdik."
   ]
  },
  {
   "cell_type": "markdown",
   "metadata": {},
   "source": [
    "##### K-Boyutlu Agaç(KDTree) :"
   ]
  },
  {
   "cell_type": "code",
   "execution_count": null,
   "metadata": {},
   "outputs": [],
   "source": [
    "# uzayı ilk önce yarıya böler, sonra o yarıları yarıya böler, sonra böldükleri parçaları yarıya böler."
   ]
  },
  {
   "cell_type": "code",
   "execution_count": 41,
   "metadata": {},
   "outputs": [],
   "source": [
    "count = 16\n",
    "points = np.zeros((count,2))"
   ]
  },
  {
   "cell_type": "code",
   "execution_count": 43,
   "metadata": {},
   "outputs": [],
   "source": [
    "x_min = 10\n",
    "x_max = 20\n",
    "y_min = 10\n",
    "y_max = 40\n",
    "for i in range(count):\n",
    "    x = rnd.randint(x_min, x_max)\n",
    "    y = rnd.randint(y_min, y_max)\n",
    "    points[i] = np.array([x,y])"
   ]
  },
  {
   "cell_type": "code",
   "execution_count": 44,
   "metadata": {},
   "outputs": [
    {
     "data": {
      "text/plain": [
       "array([[14., 12.],\n",
       "       [13., 19.],\n",
       "       [17., 14.],\n",
       "       [19., 21.],\n",
       "       [15., 23.],\n",
       "       [20., 20.],\n",
       "       [10., 28.],\n",
       "       [20., 35.],\n",
       "       [18., 20.],\n",
       "       [13., 11.],\n",
       "       [15., 38.],\n",
       "       [20., 16.],\n",
       "       [12., 11.],\n",
       "       [14., 28.],\n",
       "       [15., 35.],\n",
       "       [16., 39.]])"
      ]
     },
     "execution_count": 44,
     "metadata": {},
     "output_type": "execute_result"
    }
   ],
   "source": [
    "points"
   ]
  },
  {
   "cell_type": "code",
   "execution_count": 45,
   "metadata": {},
   "outputs": [
    {
     "name": "stdout",
     "output_type": "stream",
     "text": [
      "Uzaklık :  0.0\n",
      "Konumu : 15\n"
     ]
    }
   ],
   "source": [
    "# konumunu bulalım : \n",
    "tree = sp.KDTree(points)\n",
    "x_any = 13.4\n",
    "y_any = 27.2\n",
    "uzaklık, konum = tree.query([x,y])\n",
    "print(\"Uzaklık : \", uzaklık)\n",
    "print(\"Konumu :\", konum)\n",
    "# verdiğimiz 2 noktaya göre konumunu ve uzaklığını buldu."
   ]
  },
  {
   "cell_type": "code",
   "execution_count": 52,
   "metadata": {},
   "outputs": [
    {
     "data": {
      "image/png": "[encoded data removed]",
      "text/plain": [
       "<Figure size 432x288 with 1 Axes>"
      ]
     },
     "metadata": {
      "needs_background": "light"
     },
     "output_type": "display_data"
    }
   ],
   "source": [
    "plt.plot(points[:,0], points[:,1], \"bo\")\n",
    "factor = 10\n",
    "x = np.linspace(x_min, x_max, count*factor)\n",
    "y = np.linspace(y_min, y_max, count*factor)\n",
    "xx, yy = np.meshgrid(x,y)\n",
    "xy = np.c_[xx.ravel(), yy.ravel()]\n",
    "z = tree.query(xy)[1].reshape(count*factor, count*factor)\n",
    "plt.pcolor(x,y,z, shading=\"auto\", cmap=plt.cm.Set3)\n",
    "plt.show()"
   ]
  },
  {
   "cell_type": "code",
   "execution_count": null,
   "metadata": {},
   "outputs": [],
   "source": [
    "# Uzayı noktalara göre böler. Yani ilk önce yarıya, sonra o parçaları yarıya, yani noktaların değerlerine göre böler."
   ]
  },
  {
   "cell_type": "code",
   "execution_count": null,
   "metadata": {},
   "outputs": [],
   "source": []
  },
  {
   "cell_type": "code",
   "execution_count": null,
   "metadata": {},
   "outputs": [],
   "source": []
  },
  {
   "cell_type": "code",
   "execution_count": null,
   "metadata": {},
   "outputs": [],
   "source": []
  },
  {
   "cell_type": "code",
   "execution_count": null,
   "metadata": {},
   "outputs": [],
   "source": []
  },
  {
   "cell_type": "code",
   "execution_count": null,
   "metadata": {},
   "outputs": [],
   "source": []
  },
  {
   "cell_type": "code",
   "execution_count": null,
   "metadata": {},
   "outputs": [],
   "source": []
  },
  {
   "cell_type": "code",
   "execution_count": null,
   "metadata": {},
   "outputs": [],
   "source": []
  }
 ],
 "metadata": {
  "kernelspec": {
   "display_name": "Python 3",
   "language": "python",
   "name": "python3"
  },
  "language_info": {
   "codemirror_mode": {
    "name": "ipython",
    "version": 3
   },
   "file_extension": ".py",
   "mimetype": "text/x-python",
   "name": "python",
   "nbconvert_exporter": "python",
   "pygments_lexer": "ipython3",
   "version": "3.8.5"
  }
 },
 "nbformat": 4,
 "nbformat_minor": 4
}
