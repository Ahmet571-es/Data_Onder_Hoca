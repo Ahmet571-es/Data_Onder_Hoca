{
 "cells": [
  {
   "cell_type": "markdown",
   "metadata": {},
   "source": [
    "## OLASILIK DAĞILIMLARI : "
   ]
  },
  {
   "cell_type": "raw",
   "metadata": {},
   "source": [
    "Bir olayın meydana gelmesi için uygun durum sayısının o olayın oluşabileceği tüm durum sayısına oranına olasılık denir.\n",
    "Değerini bir deneyin sonuçlarından alan değişkene rassal değişken denir. Örneğin 2 kez para atma deneyi yaptık. paranın tura gelme durumu : TT, TY, YY olabilir. yani hiç tura gelmeyebilir, 1 kez tura gelebilir, 2 kez tura gelebilir. {0,1,2} => rassal değişkenlerdir."
   ]
  },
  {
   "cell_type": "raw",
   "metadata": {},
   "source": [
    "Bir rassal olaya ait olan değerler ve bu olaya ait olayların gerçekleşme olasılıklarına olasılık dağılımları denir. Olasılık hesaplaması için olasılık fonksiyonuna ihtiyacımız vardır. "
   ]
  },
  {
   "cell_type": "markdown",
   "metadata": {},
   "source": [
    "### Olasılık dağılımları :"
   ]
  },
  {
   "cell_type": "markdown",
   "metadata": {},
   "source": [
    "#### 1-) Kesikli(Discrete) Olasılık dağılımları :\n"
   ]
  },
  {
   "cell_type": "raw",
   "metadata": {},
   "source": [
    "Bir olasılık deneyinden rastgele değişkenlere ait olasılıkların hesaplanması ile oluşan dağılımlardır. \n",
    "\n",
    "Örneğin 2 kez para atma deneyi yaptık. paranın tura gelme durumu : TT, TY, YY olabilir. yani hiç tura gelmeyebilir, 1 kez tura gelebilir, 2 kez tura gelebilir. {0,1,2} => rassal değişkenlerdir.\n",
    "\n",
    "Bütün olasılıkların toplamı 1 olacaktır. Bu olasılık dağılımının en önemli şartıdır. Birde olasılık >= 0 olmak zorundadır."
   ]
  },
  {
   "cell_type": "raw",
   "metadata": {},
   "source": [
    "Kesikli olasılık dağılımları 3 e ayrılır. Benoulli, binom ve Poisson dağılımları."
   ]
  },
  {
   "cell_type": "markdown",
   "metadata": {},
   "source": [
    "#### a-) Benoulli dağılımı : "
   ]
  },
  {
   "cell_type": "raw",
   "metadata": {},
   "source": [
    "Başarılı-başarısız, olumlu-olumsuz, evet-hayır, iyileşti-iyileşmedi şeklinde sonucunda sadece 2 değer alan olasılık dağılımlarıdır. Ör : 1 para attık. sonucunda ya yazı gelecektir, ya da tura gelecektir. yani 2 olsaı sonuç vardır. Bu bir bernoulli deneyidir. Ör : bir hastalıktan iyileşme-iyileşmeme 2 olası sonuç vardır. ama bernoulli olabilmesi için deney sayısı 1 olmalıdır. "
   ]
  },
  {
   "cell_type": "markdown",
   "metadata": {},
   "source": [
    "#### b-) Binom dağılımı : \n",
    "Eğer bernoulli dağılımı 1 den fazla gerçekleşmisse yani deney sayısı n ise buna binom dağılımı denir. Sonuç olarak 2 tane olsaı sonucumuz olacaktır. bizden istenen sonuca başarı deriz. Diğer 2. sonuca ise başarısızlık denir.\n",
    "\n",
    "p = başarı olasılığı\n",
    "\n",
    "q = başarısız olma olasılığı\n",
    "\n",
    "n defa da x başarı elde etme olasılığı : \n",
    "\n",
    " n!/((n-r)! * r!)  * p**x  * q**n-x => formulu ile hesaplanır."
   ]
  },
  {
   "cell_type": "raw",
   "metadata": {},
   "source": [
    "Örnek : bir madeni para 7 kez atılıyor. 3 kez yazı gelme olasılığı nedir? \n",
    "\n",
    "p = paranın atıldığında yazı gelme olasılığı %50 dir yani 1/2 dir.\n",
    "q = paranın yazı gelmeme olasılığı da 1/2 dir.\n",
    "n=7\n",
    "x=3\n",
    "(7!/(7-3)!*3!) * p**3 * q**4\n",
    "% 3 kez yazı gelme olasılığı % 27 dir."
   ]
  },
  {
   "cell_type": "code",
   "execution_count": null,
   "metadata": {},
   "outputs": [],
   "source": [
    "from math import factorial"
   ]
  },
  {
   "cell_type": "code",
   "execution_count": 4,
   "metadata": {},
   "outputs": [
    {
     "data": {
      "text/plain": [
       "0.2734375"
      ]
     },
     "execution_count": 4,
     "metadata": {},
     "output_type": "execute_result"
    }
   ],
   "source": [
    "factorial(7)/(factorial(4) * factorial(3)) * (1/2**3) * (1/2**4)"
   ]
  },
  {
   "cell_type": "raw",
   "metadata": {},
   "source": [
    "Soru : Bir hastanede a hastalığından iyileşme olasılığı 0.07 dir. Bu hastaneye a hastalığından gelen 10 kişinin\n",
    "a-) 2 sinini iyileşme olasılığı kaçtır?\n",
    "b-) en fazla 2 sinin iyileşme olasılığı kaçtır?\n",
    "c-) en az 4 kişinin iyileşme olasılığı kaçtır?\n",
    "p=0.07\n",
    "q= 1-0.07 = 0.93\n",
    "n= 10"
   ]
  },
  {
   "cell_type": "code",
   "execution_count": 10,
   "metadata": {},
   "outputs": [
    {
     "name": "stdout",
     "output_type": "stream",
     "text": [
      "gelen 10 kişiden 2 kişinin iyileşme olasılığı =  0.12 yani % = 12 dir\n"
     ]
    }
   ],
   "source": [
    "# a-) gelen 10 kişiden 2 kişinin iyileşme olasılığı :\n",
    "a = factorial(10)/(factorial(10-2) * factorial(2)) * (0.07**2) * (0.93**8)\n",
    "a = round(a,2)\n",
    "print(\"gelen 10 kişiden 2 kişinin iyileşme olasılığı = \", a , \"yani % =\", int(a*100),\"dir.\")"
   ]
  },
  {
   "cell_type": "code",
   "execution_count": 12,
   "metadata": {},
   "outputs": [
    {
     "name": "stdout",
     "output_type": "stream",
     "text": [
      "gelen 10 kişiden en fazla 2 kişinin iyileşme olasılığı =  0.97 yani % = 97 dir.\n"
     ]
    }
   ],
   "source": [
    "# b-) en fazla 2 kişinin iyileşme olasılığı :\n",
    "# hiç iyileşmeme + 1 kişinin iyileşmesi + 2 kişinin iyileşmesi = en fazla 2 kişinini iyileşmesidir.\n",
    "# x = 0, 1, 2\n",
    "a1 = factorial(10)/(factorial(10-0) * factorial(0)) * (0.07**0) * (0.93**10)\n",
    "a2 = factorial(10)/(factorial(10-1) * factorial(1)) * (0.07**1) * (0.93**9)\n",
    "a3 = factorial(10)/(factorial(10-2) * factorial(2)) * (0.07**2) * (0.93**8)\n",
    "a4 = a1+a2+a3\n",
    "a4 = round(a4,2)\n",
    "print(\"gelen 10 kişiden en fazla 2 kişinin iyileşme olasılığı = \", a4 , \"yani % =\", int(a4*100),\"dir.\")"
   ]
  },
  {
   "cell_type": "code",
   "execution_count": 18,
   "metadata": {},
   "outputs": [
    {
     "name": "stdout",
     "output_type": "stream",
     "text": [
      "gelen 10 kişiden en az 4 kişinin iyileşme olasılığı =  0.003576137863416165 dir.\n"
     ]
    }
   ],
   "source": [
    "# c-) en az 4 kişinin iyileşme olasılığı :\n",
    "# 4 kişi iyileşebilir + 5 kişi iyileşebilir + .... + 10 kişi iyileşebilir. hepsini teker teker yapacağımıza \n",
    "# tüm olasılık değerinden yani 1 den en fazla 3 kişi iyileşme olasılığı çıkarılır.\n",
    "a1 = factorial(10)/(factorial(10-0) * factorial(0)) * (0.07**0) * (0.93**10)\n",
    "a2 = factorial(10)/(factorial(10-1) * factorial(1)) * (0.07**1) * (0.93**9)\n",
    "a3 = factorial(10)/(factorial(10-2) * factorial(2)) * (0.07**2) * (0.93**8)\n",
    "a4 = factorial(10)/(factorial(10-3) * factorial(3)) * (0.07**3) * (0.93**7)\n",
    "p1 = 1-a1-a2-a3-a4\n",
    "print(\"gelen 10 kişiden en az 4 kişinin iyileşme olasılığı = \", p1 ,\"dir.\")"
   ]
  },
  {
   "cell_type": "code",
   "execution_count": 19,
   "metadata": {},
   "outputs": [],
   "source": [
    "import numpy as np\n",
    "import pandas as pd"
   ]
  },
  {
   "cell_type": "code",
   "execution_count": 21,
   "metadata": {},
   "outputs": [],
   "source": [
    "from scipy.stats import binom\n",
    "# scipy.stats kütüphanemiz içerisinden binom fonksiyonunu import ederiz."
   ]
  },
  {
   "cell_type": "markdown",
   "metadata": {},
   "source": [
    "Yukarıda ki sorularımızı python ile çözelim : "
   ]
  },
  {
   "cell_type": "code",
   "execution_count": 23,
   "metadata": {},
   "outputs": [
    {
     "name": "stdout",
     "output_type": "stream",
     "text": [
      "2 kişinin iyileşme olasılığı =  0.12\n"
     ]
    }
   ],
   "source": [
    "# a-) gelen 10 kişiden 2 kişinin iyileşme olasılığı :\n",
    "p = 0.07\n",
    "n = 10\n",
    "rv = binom(n,p)\n",
    "print(\"2 kişinin iyileşme olasılığı = \" , round(rv.pmf(2),2))"
   ]
  },
  {
   "cell_type": "code",
   "execution_count": 31,
   "metadata": {},
   "outputs": [
    {
     "name": "stdout",
     "output_type": "stream",
     "text": [
      "en fazla 2 kişinin iyileşme olasılığı =  0.97\n"
     ]
    }
   ],
   "source": [
    "# b-) en fazla 2 kişinin iyileşme olasılığı :\n",
    "n = 10\n",
    "p = 0.07\n",
    "rv = binom(n,p)\n",
    "rv_toplam = rv.pmf(0) + rv.pmf(1) + rv.pmf(2)\n",
    "print(\"en fazla 2 kişinin iyileşme olasılığı = \" , round(rv_toplam,2))"
   ]
  },
  {
   "cell_type": "code",
   "execution_count": 34,
   "metadata": {},
   "outputs": [
    {
     "name": "stdout",
     "output_type": "stream",
     "text": [
      "en az 4 kişinin iyileşme olasılığı =  0.003576137863416795\n",
      "en az 4 kişinin iyileşme olasılığı =  0.0035761378634162864\n"
     ]
    }
   ],
   "source": [
    "# c-) en az 4 kişinin iyileşme olasılığı :\n",
    "n = 10\n",
    "p = 0.07\n",
    "rv = binom(n,p)\n",
    "rv_sum = rv.pmf(4) + rv.pmf(5) + rv.pmf(6) + rv.pmf(7) + rv.pmf(8) + rv.pmf(9) + rv.pmf(10)\n",
    "print(\"en az 4 kişinin iyileşme olasılığı = \" , rv_sum)\n",
    "\n",
    "# 2. yol : \n",
    "rv_sum1 = 1 - rv.pmf(0) - rv.pmf(1) - rv.pmf(2) - rv.pmf(3)\n",
    "print(\"en az 4 kişinin iyileşme olasılığı = \" , rv_sum1)"
   ]
  },
  {
   "cell_type": "markdown",
   "metadata": {},
   "source": [
    "#### c-) Poisson dağılımı :"
   ]
  },
  {
   "cell_type": "raw",
   "metadata": {},
   "source": [
    "Bellirli bir zaman aralığında belirli bir alanda nadiren rastlanan olayların olasılıklarını hesaplamak için kullanılır. Soruda mutlaka belli bir süre veya belli bir bölge için gerçekleşme ortalaması verilmek zorundadır. Örneğin : kredi kartı işlemlerinde sahterkarlık olması, rotarlı uçuş sayısı, vb..\n",
    "\n",
    "örneğin beşiktaş ilçesinde 3 aylık sürede yangın ortalaması 7 dir. lambda değeri = 7 dir. \n",
    "\n",
    "x = istenen olasılık adedi\n",
    "\n",
    "((lamda**x) * (e**-lambda))/x!"
   ]
  },
  {
   "cell_type": "raw",
   "metadata": {},
   "source": [
    "Soru : Belli bir kavşakta 4 aylık sürede kaza ortalaması 6 dır. \n",
    "a-) Buna göre bu kavşakta gelecek 4 aylık süre zarfında 7 kaza olma olasılığı kaçtır?\n",
    "b-) Bu kavşakta gelecek 6 ay içinde 5 kaza olma olasılığı kaçtır?\n",
    "c-) Bu kavşakta gelecek 1 yılda 2 den fazla kaza olma olasılığı kaçtır?\n",
    "d-) Bu kavşakta 8 aylık süre de en çok 2 kaza olma olasılığı kaçtır?"
   ]
  },
  {
   "cell_type": "code",
   "execution_count": 43,
   "metadata": {},
   "outputs": [
    {
     "data": {
      "text/plain": [
       "0.1402208098267712"
      ]
     },
     "execution_count": 43,
     "metadata": {},
     "output_type": "execute_result"
    }
   ],
   "source": [
    "# a-) Buna göre bu kavşakta gelecek 4 aylık süre zarfında 7 kaza olma olasılığı :  \n",
    "x = 7  # istenen olasılık\n",
    "ort = 6  # 4 ayda ki ortalama zaten soruda 4 ayı soruyor.\n",
    "e = 2.71\n",
    "((6**7) * (e**-6))/factorial(7) # %14"
   ]
  },
  {
   "cell_type": "code",
   "execution_count": 42,
   "metadata": {},
   "outputs": [
    {
     "data": {
      "text/plain": [
       "0.0624176887559088"
      ]
     },
     "execution_count": 42,
     "metadata": {},
     "output_type": "execute_result"
    }
   ],
   "source": [
    "# b-) Bu kavşakta gelecek 6 ay içinde 5 kaza olma olasılığı :\n",
    "x = 5\n",
    "# 4 ayda 6 kaza oluyorsa, 6 ayda kaç kaza olur, yani orantı\n",
    "ort = (6*6)/4\n",
    "ort\n",
    "((9**5) * (2.71**-9))/factorial(5) # % 6"
   ]
  },
  {
   "cell_type": "code",
   "execution_count": 45,
   "metadata": {},
   "outputs": [
    {
     "data": {
      "text/plain": [
       "0.9999970877319938"
      ]
     },
     "execution_count": 45,
     "metadata": {},
     "output_type": "execute_result"
    }
   ],
   "source": [
    "# c-) Bu kavşakta gelecek 1 yılda 2 den fazla kaza olma olasılığı :\n",
    "# 4 ayda 6 kaza olursa 12 ayda x tane = orantı\n",
    "ort = (12*6)/4\n",
    "# x = 2,...n kadar devam eder. en çok 2 kaza olma olasılığından 1 çıkarılır.\n",
    "a0 = ((ort**0) * (2.71**-ort))/factorial(0)\n",
    "a1 = ((ort**1) * (2.71**-ort))/factorial(1)\n",
    "a2 = ((ort**2) * (2.71**-ort))/factorial(2)\n",
    "1-a0-a1-a2 # %99 ihtimal 1 yılda 2 den fazla kaza olasılığı var."
   ]
  },
  {
   "cell_type": "code",
   "execution_count": 48,
   "metadata": {},
   "outputs": [
    {
     "data": {
      "text/plain": [
       "0.0005417356737942258"
      ]
     },
     "execution_count": 48,
     "metadata": {},
     "output_type": "execute_result"
    }
   ],
   "source": [
    "# d-) Bu kavşakta 8 aylık süre de en çok 2 kaza olma olasılığı :\n",
    "ort = (8*6)/4\n",
    "a0 = ((ort**0) * (2.71**-ort))/factorial(0)\n",
    "a1 = ((ort**1) * (2.71**-ort))/factorial(1)\n",
    "a2 = ((ort**2) * (2.71**-ort))/factorial(2)\n",
    "a0+a1+a2 # % yüzde 0.5 tir. %1 bile değil."
   ]
  },
  {
   "cell_type": "code",
   "execution_count": 52,
   "metadata": {},
   "outputs": [],
   "source": [
    "import numpy as np\n",
    "import pandas as pd"
   ]
  },
  {
   "cell_type": "code",
   "execution_count": 53,
   "metadata": {},
   "outputs": [],
   "source": [
    "from scipy.stats import poisson"
   ]
  },
  {
   "cell_type": "code",
   "execution_count": null,
   "metadata": {},
   "outputs": [],
   "source": [
    "# yukarıda ki soruları python ile yapalım."
   ]
  },
  {
   "cell_type": "raw",
   "metadata": {},
   "source": [
    "Soru : Belli bir kavşakta 4 aylık sürede kaza ortalaması 6 dır. \n",
    "a-) Buna göre bu kavşakta gelecek 4 aylık süre zarfında 7 kaza olma olasılığı kaçtır?\n",
    "b-) Bu kavşakta gelecek 6 ay içinde 5 kaza olma olasılığı kaçtır?\n",
    "c-) Bu kavşakta gelecek 1 yılda 2 den fazla kaza olma olasılığı kaçtır?\n",
    "d-) Bu kavşakta 8 aylık süre de en çok 2 kaza olma olasılığı kaçtır?"
   ]
  },
  {
   "cell_type": "code",
   "execution_count": 54,
   "metadata": {},
   "outputs": [
    {
     "name": "stdout",
     "output_type": "stream",
     "text": [
      "0.1376769780411257\n"
     ]
    }
   ],
   "source": [
    "# a-) Buna göre bu kavşakta gelecek 4 aylık süre zarfında 7 kaza olma olasılığı :\n",
    "ort = 6\n",
    "rv = poisson(mu = ort)\n",
    "print(rv.pmf(k = 7)) # yüzde 13 ve 14 arası"
   ]
  },
  {
   "cell_type": "code",
   "execution_count": 55,
   "metadata": {},
   "outputs": [
    {
     "name": "stdout",
     "output_type": "stream",
     "text": [
      "0.06072687934595293\n"
     ]
    }
   ],
   "source": [
    "# b-) Bu kavşakta gelecek 6 ay içinde 5 kaza olma olasılığı :\n",
    "# 4 ayda 6 kaza olmuşsa 6 ayda (6*6)/4\n",
    "ort = 9\n",
    "rv = poisson(mu = ort)\n",
    "print(rv.pmf(k=5)) # yüzde 6"
   ]
  },
  {
   "cell_type": "code",
   "execution_count": 58,
   "metadata": {},
   "outputs": [
    {
     "name": "stdout",
     "output_type": "stream",
     "text": [
      "0.9999972433736662\n"
     ]
    }
   ],
   "source": [
    "# c-) Bu kavşakta gelecek 1 yılda 2 den fazla kaza olma olasılığı :\n",
    "# 4 ayda 6 kaza olursa 12 ayda (12*6)/4\n",
    "ort = 18\n",
    "rv = poisson(mu=ort)\n",
    "print(1 - rv.pmf(k=0) - rv.pmf(k=1) - rv.pmf(k=2)) # yüzde 99 ihtimal 2 den fazla olma"
   ]
  },
  {
   "cell_type": "code",
   "execution_count": 59,
   "metadata": {},
   "outputs": [
    {
     "name": "stdout",
     "output_type": "stream",
     "text": [
      "0.0005222580500328978\n"
     ]
    }
   ],
   "source": [
    "# d-) Bu kavşakta 8 aylık süre de en çok 2 kaza olma olasılığı :\n",
    "# 4 ayda 6 kaza 8 ayda (8*6)/4\n",
    "ort = 12\n",
    "rv = poisson(mu=ort)\n",
    "print(rv.pmf(k=0) + rv.pmf(k=1)+ rv.pmf(k=2))\n",
    "# yüzde 1 bile değil."
   ]
  },
  {
   "cell_type": "code",
   "execution_count": null,
   "metadata": {},
   "outputs": [],
   "source": []
  },
  {
   "cell_type": "markdown",
   "metadata": {},
   "source": [
    "#### 1-) Sürekli Olasılık dağılımları :"
   ]
  },
  {
   "cell_type": "markdown",
   "metadata": {},
   "source": [
    "##### Normal Dağılım :"
   ]
  },
  {
   "cell_type": "markdown",
   "metadata": {},
   "source": [
    "Normal dağılım en çok kullanılan dağılım türüdür. Elimizde sürekli bir değişken olacaktır. Bundan kasıt sürekli devam eden bir durum olacaktır. En önemli dağılım normal dağılımdır. Sürekli bir dağılımdır. Dağılım çan eğrisi şeklindedir. Simetrik bir dağılımdır. Normal dağılım bulurken biz standart normal dağılım formatına çevirmemiz gerekmektedir. \n",
    "\n",
    "z = (x-ortalama)/standart sapma => bu işlem ile standart normal dağılım formatına çeviririz.\n",
    "\n",
    "ortalaması = 0, varyansı = 1 haline getirilir. işte buna standart normal dağılım denir. Hesaplama yaparken z tablosu kullanılır. Fakat güven aralığında kullanıldığından farklı bir şekilde kullanılır. "
   ]
  },
  {
   "cell_type": "markdown",
   "metadata": {},
   "source": [
    "Ör : ortalaması = 6, varyansı = 4 olan bir normal dağılımda p(x<5) olasılığı kaçtır?\n",
    "z < (5-6)/2\n",
    "z < -0.5  bunu bulduktan sonra çan eğrisi çizeriz. orta nokta 0 olan eğri. sonra -0.5 noktasını çan eğrisi tablosunda işaretleriz. negatif bir değer olduğu için z table negative kısmına bakarız. -0.5 in bulunduğu satır değeri = 0.3085 tir. bu değer z tablo değerinden -0.5 ten küçük olan alan değeridir. o halde cevabımızda 0.3085 tir. x<5 olasılığı yüzde 30 dur."
   ]
  },
  {
   "cell_type": "raw",
   "metadata": {},
   "source": [
    "normal dağılım hesaplanırken integral alınarak yapılır : \n",
    "x = istenen değer \n",
    "f(x) = (1/(s * (2*3.14)**0.5)) * (e**(-1/2 * ((x-ort)/s)**2)) "
   ]
  },
  {
   "cell_type": "raw",
   "metadata": {},
   "source": [
    "Soru : X rastgle değişkenine ait olasılık dağılımının normal dağılıma sahip olduğu biliniyor. Bu dağılımın ortalaması = 10 standart sapması = 2 dir. "
   ]
  },
  {
   "cell_type": "code",
   "execution_count": 74,
   "metadata": {},
   "outputs": [
    {
     "name": "stdout",
     "output_type": "stream",
     "text": [
      "z tabloda bakacağımız z değeri =  2.5 tir. Çünkü bize eşit olma olasılığını sormuş. Eşit derse alan oluşturmaz.\n",
      "olasılık olarak cevap = 0 dır. Çünkü eşit dedi alan oluşturmadı\n"
     ]
    }
   ],
   "source": [
    "# a-) p(x=15) olma olasılığı : \n",
    "ort = 10\n",
    "s = 2\n",
    "z = (15-ort)/s\n",
    "print(\"z tabloda bakacağımız z değeri = \", z,\"tir. Çünkü bize eşit olma olasılığını sormuş. Eşit derse alan oluşturmaz.\")\n",
    "print(\"olasılık olarak cevap = 0 dır. Çünkü eşit dedi alan oluşturmadı\")"
   ]
  },
  {
   "cell_type": "code",
   "execution_count": 77,
   "metadata": {},
   "outputs": [
    {
     "name": "stdout",
     "output_type": "stream",
     "text": [
      "z tabloda bakacağımız z değeri =  2.5 dir.\n",
      "x değişkeninin 15 ten küçük olma olasılığı = %  99.38\n"
     ]
    }
   ],
   "source": [
    "# b-) x değerinin 15 ten küçük olma olasılığı :\n",
    "ort = 10\n",
    "s = 2\n",
    "z = (15-ort)/s\n",
    "print(\"z tabloda bakacağımız z değeri = \", z,\"dir.\")\n",
    "# z pozitive tablomuzda 2.5 değerine gelen satırı bulalım. 2.5 değerinde 5 ten sonra değer gelmiyor. o zaman ilk sutun \n",
    "# değerini buluruz = 0.9938' tir. Bu değer 0.9938 küçük olan alan dır. \n",
    "print(\"x değişkeninin 15 ten küçük olma olasılığı = % \", (0.9938*100))"
   ]
  },
  {
   "cell_type": "code",
   "execution_count": 92,
   "metadata": {},
   "outputs": [
    {
     "name": "stdout",
     "output_type": "stream",
     "text": [
      "z tabloda bakacağımız z değeri =  -1.5 dir.\n",
      "x değişkeninin 7 den büyük olma olasılığı = %  93.32\n"
     ]
    }
   ],
   "source": [
    "# c-) x değişkeninin 7 den büyük olma olasılığı :\n",
    "ort = 10\n",
    "s = 2\n",
    "z = (7-ort)/s\n",
    "print(\"z tabloda bakacağımız z değeri = \", z,\"dir.\")\n",
    "# z tablo negative kısmına -1.5 satır değerini bulalım : 0.0668 bu değer küçük olan alan değerini gösterir. oysa biz büyük\n",
    "# olan alan değerini bulacağız . \n",
    "print(\"x değişkeninin 7 den büyük olma olasılığı = % \", round(((1 -0.0668)*100),2))"
   ]
  },
  {
   "cell_type": "code",
   "execution_count": 83,
   "metadata": {},
   "outputs": [
    {
     "name": "stdout",
     "output_type": "stream",
     "text": [
      "z tabloda bakacağımız z1 değeri =  -1.0 dir.\n",
      "z tabloda bakacağımız z2 değeri =  0.5 dir.\n",
      "X değişkeninin 8 den büyük, 11 den küçük olma olasılığı = %  53.28\n"
     ]
    }
   ],
   "source": [
    "# d-) x değişkeninin 8 den büyük, 11 den küçük olma olasılığı : \n",
    "ort = 10\n",
    "s = 2\n",
    "z1 = (8-ort)/s\n",
    "z2 = (11-10)/s\n",
    "print(\"z tabloda bakacağımız z1 değeri = \", z1,\"dir.\")\n",
    "print(\"z tabloda bakacağımız z2 değeri = \", z2,\"dir.\")\n",
    "# z>z1 yani z > -1 için bakalım. z<-1 = 0.1587\n",
    "# z<z2 yani z<0.5 değerini bulalım. z<0.5 = 0.6915\n",
    "x = 0.5 - 0.1587 # tüm alanın toplamı 1 dir. yarısı ise 0.5 tir.\n",
    "y = 0.6915 - 0.5\n",
    "print(\"X değişkeninin 8 den büyük, 11 den küçük olma olasılığı = % \", round((x+y)*100,2))"
   ]
  },
  {
   "cell_type": "markdown",
   "metadata": {},
   "source": [
    "Yukarıda normal dağılımın çok zor olduğu görülmektedir. şimdi python ile yapalım."
   ]
  },
  {
   "cell_type": "code",
   "execution_count": 84,
   "metadata": {},
   "outputs": [],
   "source": [
    "from scipy.stats import norm"
   ]
  },
  {
   "cell_type": "raw",
   "metadata": {},
   "source": [
    "Soru : X rastgle değişkenine ait olasılık dağılımının normal dağılıma sahip olduğu biliniyor. Bu dağılımın ortalaması = 10 standart sapması = 2 dir.  x=15 olasılığını python ile alan 0 olduğu için yapamayız."
   ]
  },
  {
   "cell_type": "code",
   "execution_count": 88,
   "metadata": {},
   "outputs": [
    {
     "data": {
      "text/plain": [
       "0.9937903346742238"
      ]
     },
     "execution_count": 88,
     "metadata": {},
     "output_type": "execute_result"
    }
   ],
   "source": [
    "# b-) x değerinin 15 ten küçük olma olasılığı :\n",
    "ort = 10\n",
    "s = 2\n",
    "norm.cdf(15,ort,s)\n",
    "# 15 ten küçük olma olasılığı % 99 dur."
   ]
  },
  {
   "cell_type": "code",
   "execution_count": 93,
   "metadata": {},
   "outputs": [
    {
     "data": {
      "text/plain": [
       "0.9331927987311419"
      ]
     },
     "execution_count": 93,
     "metadata": {},
     "output_type": "execute_result"
    }
   ],
   "source": [
    "# c-) x değişkeninin 7 den büyük olma olasılığı :\n",
    "ort = 10\n",
    "s = 2\n",
    "1 - norm.cdf(7,ort,s) # %93 tür."
   ]
  },
  {
   "cell_type": "code",
   "execution_count": 106,
   "metadata": {},
   "outputs": [
    {
     "name": "stdout",
     "output_type": "stream",
     "text": [
      "X değişkeninin 8 den büyük olma olasılığı =  0.84\n",
      "X değişkeninin 11 den küçük olma olasılığı =  0.69\n",
      "X değişkeninin 8 den büyük, 11 den küçük olma olasılığı = %  53\n"
     ]
    }
   ],
   "source": [
    "# d-) x değişkeninin 8 den büyük, 11 den küçük olma olasılığı : \n",
    "ort = 10\n",
    "s = 2\n",
    "a = round(1 - norm.cdf(8,ort,s),2)\n",
    "b = round(norm.cdf(11,ort,s),2)\n",
    "print(\"X değişkeninin 8 den büyük olma olasılığı = \" , a)\n",
    "print(\"X değişkeninin 11 den küçük olma olasılığı = \", b)\n",
    "# bize her ikisinin kesişimini sorduğu için : \n",
    "a = a - 0.5\n",
    "b = b - 0.5\n",
    "print(\"X değişkeninin 8 den büyük, 11 den küçük olma olasılığı = % \", round((a+b)*100))"
   ]
  },
  {
   "cell_type": "code",
   "execution_count": null,
   "metadata": {},
   "outputs": [],
   "source": []
  }
 ],
 "metadata": {
  "kernelspec": {
   "display_name": "Python 3",
   "language": "python",
   "name": "python3"
  },
  "language_info": {
   "codemirror_mode": {
    "name": "ipython",
    "version": 3
   },
   "file_extension": ".py",
   "mimetype": "text/x-python",
   "name": "python",
   "nbconvert_exporter": "python",
   "pygments_lexer": "ipython3",
   "version": "3.8.5"
  }
 },
 "nbformat": 4,
 "nbformat_minor": 4
}
