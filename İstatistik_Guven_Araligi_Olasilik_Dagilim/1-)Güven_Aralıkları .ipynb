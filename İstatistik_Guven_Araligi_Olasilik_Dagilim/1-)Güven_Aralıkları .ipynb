{
 "cells": [
  {
   "cell_type": "markdown",
   "metadata": {},
   "source": [
    "## GÜVEN ARALIKLARI : "
   ]
  },
  {
   "cell_type": "code",
   "execution_count": 19,
   "metadata": {},
   "outputs": [],
   "source": [
    "import numpy as np\n",
    "import pandas as pd"
   ]
  },
  {
   "cell_type": "markdown",
   "metadata": {},
   "source": [
    "Örneklem : Populasyon ile ilgili karar alacağımız zaman populasyon içinden belli bir kurala göre veya rastgele 1 veya daha fazla örneklem çekip, bu örneklemlerin üzerinde yaptığımız işlemlere göre populasyon ile ilgili bir çıkarımda bulunabiliriz."
   ]
  },
  {
   "cell_type": "markdown",
   "metadata": {},
   "source": [
    "Çoğu zaman populasyon ile ilgili çıkarımlar yapmak oldukça zor veya imkansız olmaktadır. Örneğin seçim anketi yapılacak biz bu seçim anketini herkese yapamayız. Rastgele 1000 kişi seçip onlara seçim anketi yaptığımızda belli bir oran buluruz ve aşşağı yukarı seçim sonucu hakkında bir tahmin aralığı buluruz. İşte buna Güven aralığı denir."
   ]
  },
  {
   "cell_type": "markdown",
   "metadata": {},
   "source": [
    "Ne kadar çok örneklem yaparsak o kadar çok populasyon değerlerine yaklaşırız."
   ]
  },
  {
   "cell_type": "markdown",
   "metadata": {},
   "source": [
    "Örneğin tr de ki seçimler için anket çalışması yapıyoruz. rastgele 1000 kişilik bir örneklem belirledik ve anket yaptık. sonuçları kaydettik. yine rastgele 10 adet 1000 tane örneklem çektik ve sonuçlarını kaydettik. 10 tane örneklemin sonuçları populasyon değerlerine daha yakın olacaktır."
   ]
  },
  {
   "cell_type": "raw",
   "metadata": {},
   "source": [
    "Güven aralığı hesaplanırken :\n",
    "1. adım : örneklem eleman sayısını bulun. Örneklem ortalamasını bulun ve örneklemin standart sapmasını bulun.\n",
    "2. Adım : eğer populasyonun varyans değeri biliniyorsa populasyon ortalaması için güven aralığı testi yapılırken alfa değerini bulmak için z tablo değeri kullanılır. Eğer populasyonun varyans değeri bilinmiyor ve n<30 ise t tablo değeri, n>=30 ise z tablo değeri ile alfa değeri hesaplanır.\n",
    "3. Adım : Güven aralığı değerine karar verilir yani %95 mi, %99 mu. Genelde %95 güven testi yapılır. %95 in z tablo değeri 1.96 dır. % 99 un z tablo değeri 2.57 dir.\n",
    "4. Adım : x+- z*(s/n**0.5) ile hesaplanır."
   ]
  },
  {
   "cell_type": "raw",
   "metadata": {},
   "source": [
    "POPULASYON VARYANSI BİLİNİYORKEN : \n",
    "\n",
    "ör : Bir okulda ki öğrencilerin haftalık ders çalışma süreleri hakkında yapılan araştırmada 25 öğrenciden seçilen örneklemin ortalama haftalık ders çalışma süresi 14.5 saattir. Bu okuldaki tüm öğrencilerin haftalık çalışma sürelerinin standart sapması 2 ise % 95 güven aralığı ile tüm öğrencilerin çalışma saatlerinin ortalama aralığını bulunuz.\n",
    "\n",
    "a) %95 güven ile tüm öğrencilerin çalışma ortalama aralığı bulalım:\n",
    "\n",
    "alfa değerini bulalım : 95/100 = 0.95, sonra 1-0.95 = 0.05, sonra 0.05/2 = 0.025, sonra 1-0.025 = 0.975 bulduk. sonra z tablosunu açıp 0.975 i tabloda buluruz. hangi satıra denk geliyorsa o değeri yazarız. 1.9 değerinin olduğu satıra denk geliyor. Sonra hangi sutuna denk geldiğine bakarız. 0.06 lık sutun değerine denk geliyor. z değerine 1.96 deriz.\n",
    "\n",
    "hesaplayalım :\n",
    "örneklem ortalaması = x = 14.5\n",
    "alfa = 1.96\n",
    "örneklem sayısı = n = 25\n",
    "populasyon standart sapması = 2\n",
    "14.5 - 1.96* 2/(25**0.5) < Populasyon Ortalaması < 14.5 + 1.96* 2/(25**0.5)\n",
    "13.716 < M < 15.284 % 95 güven düzeyi ile populasyon ortalaması bu aralıkta."
   ]
  },
  {
   "cell_type": "raw",
   "metadata": {},
   "source": [
    "POPULASYON VARYANSI BİLİNMİYORKEN : \n",
    "ör : Bir okulda ki öğrencilerin haftalık ders çalışma süreleri hakkında yapılan araştırmada 40 öğrenciden seçilen örneklemin ortalama haftalık ders çalışma süresi 14.5 saattir. Bu örneklemde ki öğrencilerin haftalık çalışma sürelerinin standart sapması 2 ise % 99 güven aralığı ile tüm öğrencilerin çalışma saatlerinin ortalama aralığını bulunuz.\n",
    "\n",
    "a) %99 güven ile tüm öğrencilerin çalışma ortalama aralığı bulalım:\n",
    "n= 40 \n",
    "örneklem ort = x = 14.5\n",
    "örneklem std = 2\n",
    "\n",
    "99/100 = 0.99, 1-0.99 = 0,01/2 = 0.005, 1-0.005 = 0,995 in z tablo değeri = 2.57 dir. aslında tam 2.57 olmaz ama 2.57 yi çoğu yet kabul ediyor. tam değeri = 2.565 tir.\n",
    "\n",
    "14.5 - 2.57*(2/(40**0.5)) < M < 14.5 + 2.57*(2/(40**0.5))\n",
    "13.68 < M < 15.312 aralığı % 99 ile bu aralıktadır."
   ]
  },
  {
   "cell_type": "raw",
   "metadata": {},
   "source": [
    "POPULASYON VARYANSI BİLİNMİYORKEN : \n",
    "ör : Bir okulda ki öğrencilerin haftalık ders çalışma süreleri hakkında yapılan araştırmada 15 öğrenciden seçilen örneklemin ortalama haftalık ders çalışma süresi 14.5 saattir. Bu örneklemde ki öğrencilerin haftalık çalışma sürelerinin standart sapması 2 ise % 90 güven aralığı ile tüm öğrencilerin çalışma saatlerinin ortalama aralığını bulunuz.\n",
    "\n",
    "n = 15\n",
    "örneklem standart sapması = s = 2\n",
    "örneklem ort = x = 14.5\n",
    "populasyon varyansı = bilinmiyor.\n",
    "n < 30 o zaman alfa t table ile bulunacak.\n",
    "90/100 = 0.9 , 1-0.9 = 0.1 , 0.1/2 = 0.05, t tablosunda sutun değeri 0.05 olan değeri buluyoruz. n = 15 ti 15-1 = 14 . satıra gidiyoruz. 0.05 değerinde ki sutun ve 14. satırın kesiştiği değeri buluyoruz.  alfa = 1.761\n",
    "\n",
    "14.5 - 1.71*(2/(15**0.5)) < M < 14.5 + 1.71*(2/(15**0.5))\n",
    "13.61 ve 15.383 değerleri arasında % 90 güven düzeyi ile."
   ]
  },
  {
   "cell_type": "code",
   "execution_count": 20,
   "metadata": {},
   "outputs": [
    {
     "data": {
      "text/plain": [
       "75.88"
      ]
     },
     "execution_count": 20,
     "metadata": {},
     "output_type": "execute_result"
    }
   ],
   "source": [
    "# Şirketimizin genel müdürü fiyat belirleme konusunda bizden bir dayanak bulmamızı istiyor. Satıcı biziz. Alıcılara ürettiğimiz\n",
    "# Bir ürün hakkında ne kadar ödersiniz diye soruluyor. Bu anket sonucunda bir fiyat belirlememiz isteniyor ama zarar da etmememiz\n",
    "# gerekiyor. Öyle bir fiyat bulunmalı ki kar edelim ve müşteriler o fiyattan memnun kalsın.\n",
    "# Burda üretim maliyet fiyatı belirleriz ve en yüksek kar fiyatımızı belirleriz, bu fiyatlar arasında müşterilere anket yaparız.\n",
    "# bu anket sonucu verilen fiyatların ortalamalasını bulup güven aralıklarını buluruz.\n",
    "\n",
    "# üretim fiyatı = 50 tl olsun\n",
    "# maksimun kar fiyatı = 100 tl olsun. bu iki fiyat arasında 100 kişiye ne kadar ödeyeceklerini soralım, yani örneklem 100 kişi.\n",
    "fiyatlar = np.random.randint(50,100,size=100)\n",
    "fiyatlar.mean()"
   ]
  },
  {
   "cell_type": "code",
   "execution_count": 21,
   "metadata": {},
   "outputs": [
    {
     "data": {
      "text/plain": [
       "(73.04480966766472, 78.71519033233527)"
      ]
     },
     "execution_count": 21,
     "metadata": {},
     "output_type": "execute_result"
    }
   ],
   "source": [
    "# sonrasında % 95 ile müşterilerimizin ödemek istediği fiyat aralığını python ile bulalım.\n",
    "import statsmodels.stats.api as sms # statsmodel içinden stats, onun içinde api kütüphanesini import ettik.\n",
    "sms.DescrStatsW(fiyatlar).tconfint_mean() # ortalamaya göre güven aralığı bulduk.\n",
    "# örneklemde ki 100 müşterimizin %95 i 73 tl ve 78 tl arasında fiyat ödemek istemişler. Buna göre ürüne fiyat belirleriz."
   ]
  },
  {
   "cell_type": "code",
   "execution_count": 22,
   "metadata": {},
   "outputs": [],
   "source": [
    "import seaborn as sns"
   ]
  },
  {
   "cell_type": "code",
   "execution_count": 23,
   "metadata": {},
   "outputs": [
    {
     "data": {
      "text/html": [
       "<div>\n",
       "<style scoped>\n",
       "    .dataframe tbody tr th:only-of-type {\n",
       "        vertical-align: middle;\n",
       "    }\n",
       "\n",
       "    .dataframe tbody tr th {\n",
       "        vertical-align: top;\n",
       "    }\n",
       "\n",
       "    .dataframe thead th {\n",
       "        text-align: right;\n",
       "    }\n",
       "</style>\n",
       "<table border=\"1\" class=\"dataframe\">\n",
       "  <thead>\n",
       "    <tr style=\"text-align: right;\">\n",
       "      <th></th>\n",
       "      <th>total_bill</th>\n",
       "      <th>tip</th>\n",
       "      <th>sex</th>\n",
       "      <th>smoker</th>\n",
       "      <th>day</th>\n",
       "      <th>time</th>\n",
       "      <th>size</th>\n",
       "    </tr>\n",
       "  </thead>\n",
       "  <tbody>\n",
       "    <tr>\n",
       "      <th>0</th>\n",
       "      <td>16.99</td>\n",
       "      <td>1.01</td>\n",
       "      <td>Female</td>\n",
       "      <td>No</td>\n",
       "      <td>Sun</td>\n",
       "      <td>Dinner</td>\n",
       "      <td>2</td>\n",
       "    </tr>\n",
       "    <tr>\n",
       "      <th>1</th>\n",
       "      <td>10.34</td>\n",
       "      <td>1.66</td>\n",
       "      <td>Male</td>\n",
       "      <td>No</td>\n",
       "      <td>Sun</td>\n",
       "      <td>Dinner</td>\n",
       "      <td>3</td>\n",
       "    </tr>\n",
       "    <tr>\n",
       "      <th>2</th>\n",
       "      <td>21.01</td>\n",
       "      <td>3.50</td>\n",
       "      <td>Male</td>\n",
       "      <td>No</td>\n",
       "      <td>Sun</td>\n",
       "      <td>Dinner</td>\n",
       "      <td>3</td>\n",
       "    </tr>\n",
       "    <tr>\n",
       "      <th>3</th>\n",
       "      <td>23.68</td>\n",
       "      <td>3.31</td>\n",
       "      <td>Male</td>\n",
       "      <td>No</td>\n",
       "      <td>Sun</td>\n",
       "      <td>Dinner</td>\n",
       "      <td>2</td>\n",
       "    </tr>\n",
       "    <tr>\n",
       "      <th>4</th>\n",
       "      <td>24.59</td>\n",
       "      <td>3.61</td>\n",
       "      <td>Female</td>\n",
       "      <td>No</td>\n",
       "      <td>Sun</td>\n",
       "      <td>Dinner</td>\n",
       "      <td>4</td>\n",
       "    </tr>\n",
       "  </tbody>\n",
       "</table>\n",
       "</div>"
      ],
      "text/plain": [
       "   total_bill   tip     sex smoker  day    time  size\n",
       "0       16.99  1.01  Female     No  Sun  Dinner     2\n",
       "1       10.34  1.66    Male     No  Sun  Dinner     3\n",
       "2       21.01  3.50    Male     No  Sun  Dinner     3\n",
       "3       23.68  3.31    Male     No  Sun  Dinner     2\n",
       "4       24.59  3.61  Female     No  Sun  Dinner     4"
      ]
     },
     "execution_count": 23,
     "metadata": {},
     "output_type": "execute_result"
    }
   ],
   "source": [
    "tips = sns.load_dataset(\"tips\")\n",
    "df = tips.copy()\n",
    "df.head()"
   ]
  },
  {
   "cell_type": "code",
   "execution_count": 24,
   "metadata": {},
   "outputs": [],
   "source": [
    "# Bizden ödenen hesaplarla alakalı bir bilgi isteniyor. Müdürümüz müşterilerin %95 inin hangi fiyatlar arasında hesap ödediklerini\n",
    "# görmek istiyor. O aralığa göre bir fiyat belirlemesi yapmak istiyor."
   ]
  },
  {
   "cell_type": "code",
   "execution_count": 25,
   "metadata": {},
   "outputs": [],
   "source": [
    "import statsmodels.stats.api as sms"
   ]
  },
  {
   "cell_type": "code",
   "execution_count": 27,
   "metadata": {},
   "outputs": [
    {
     "data": {
      "text/plain": [
       "(18.66333170435847, 20.908553541543164)"
      ]
     },
     "execution_count": 27,
     "metadata": {},
     "output_type": "execute_result"
    }
   ],
   "source": [
    "sms.DescrStatsW(df[\"total_bill\"]).tconfint_mean()\n",
    "# Müşterilerimizin %95 i 18.6 dolar ile, 20.90 dolar arasında hesap ödemişler."
   ]
  },
  {
   "cell_type": "code",
   "execution_count": 33,
   "metadata": {},
   "outputs": [
    {
     "data": {
      "text/plain": [
       "(array([18.6633317]), array([20.90855354]))"
      ]
     },
     "execution_count": 33,
     "metadata": {},
     "output_type": "execute_result"
    }
   ],
   "source": [
    "sms.DescrStatsW(df[[\"total_bill\"]]).tconfint_mean()"
   ]
  },
  {
   "cell_type": "code",
   "execution_count": 38,
   "metadata": {},
   "outputs": [
    {
     "data": {
      "text/plain": [
       "(array([2.82379931]), array([3.17275807]))"
      ]
     },
     "execution_count": 38,
     "metadata": {},
     "output_type": "execute_result"
    }
   ],
   "source": [
    "sms.DescrStatsW(df[[\"tip\"]]).tconfint_mean() # müşterilerin % 95inin ödediği bahşiş aralığı."
   ]
  },
  {
   "cell_type": "code",
   "execution_count": 39,
   "metadata": {},
   "outputs": [
    {
     "name": "stdout",
     "output_type": "stream",
     "text": [
      "Requirement already satisfied: researchpy in c:\\programdata\\anaconda3\\lib\\site-packages (0.3.2)\n",
      "Requirement already satisfied: scipy in c:\\programdata\\anaconda3\\lib\\site-packages (from researchpy) (1.5.2)\n",
      "Requirement already satisfied: patsy in c:\\programdata\\anaconda3\\lib\\site-packages (from researchpy) (0.5.1)\n",
      "Requirement already satisfied: pandas in c:\\programdata\\anaconda3\\lib\\site-packages (from researchpy) (1.1.3)\n",
      "Requirement already satisfied: numpy in c:\\programdata\\anaconda3\\lib\\site-packages (from researchpy) (1.19.2)\n",
      "Requirement already satisfied: statsmodels in c:\\programdata\\anaconda3\\lib\\site-packages (from researchpy) (0.12.0)\n",
      "Requirement already satisfied: six in c:\\programdata\\anaconda3\\lib\\site-packages (from patsy->researchpy) (1.15.0)\n",
      "Requirement already satisfied: pytz>=2017.2 in c:\\programdata\\anaconda3\\lib\\site-packages (from pandas->researchpy) (2020.1)\n",
      "Requirement already satisfied: python-dateutil>=2.7.3 in c:\\programdata\\anaconda3\\lib\\site-packages (from pandas->researchpy) (2.8.1)\n"
     ]
    }
   ],
   "source": [
    "!pip install researchpy"
   ]
  },
  {
   "cell_type": "code",
   "execution_count": 40,
   "metadata": {},
   "outputs": [],
   "source": [
    "import researchpy as rp"
   ]
  },
  {
   "cell_type": "code",
   "execution_count": 41,
   "metadata": {},
   "outputs": [
    {
     "name": "stdout",
     "output_type": "stream",
     "text": [
      "\n",
      "\n"
     ]
    },
    {
     "data": {
      "text/html": [
       "<div>\n",
       "<style scoped>\n",
       "    .dataframe tbody tr th:only-of-type {\n",
       "        vertical-align: middle;\n",
       "    }\n",
       "\n",
       "    .dataframe tbody tr th {\n",
       "        vertical-align: top;\n",
       "    }\n",
       "\n",
       "    .dataframe thead th {\n",
       "        text-align: right;\n",
       "    }\n",
       "</style>\n",
       "<table border=\"1\" class=\"dataframe\">\n",
       "  <thead>\n",
       "    <tr style=\"text-align: right;\">\n",
       "      <th></th>\n",
       "      <th>Variable</th>\n",
       "      <th>N</th>\n",
       "      <th>Mean</th>\n",
       "      <th>SD</th>\n",
       "      <th>SE</th>\n",
       "      <th>95% Conf.</th>\n",
       "      <th>Interval</th>\n",
       "    </tr>\n",
       "  </thead>\n",
       "  <tbody>\n",
       "    <tr>\n",
       "      <th>0</th>\n",
       "      <td>total_bill</td>\n",
       "      <td>244.0</td>\n",
       "      <td>19.7859</td>\n",
       "      <td>8.9024</td>\n",
       "      <td>0.5699</td>\n",
       "      <td>18.6633</td>\n",
       "      <td>20.9086</td>\n",
       "    </tr>\n",
       "    <tr>\n",
       "      <th>1</th>\n",
       "      <td>tip</td>\n",
       "      <td>244.0</td>\n",
       "      <td>2.9983</td>\n",
       "      <td>1.3836</td>\n",
       "      <td>0.0886</td>\n",
       "      <td>2.8238</td>\n",
       "      <td>3.1728</td>\n",
       "    </tr>\n",
       "  </tbody>\n",
       "</table>\n",
       "</div>"
      ],
      "text/plain": [
       "     Variable      N     Mean      SD      SE  95% Conf.  Interval\n",
       "0  total_bill  244.0  19.7859  8.9024  0.5699    18.6633   20.9086\n",
       "1         tip  244.0   2.9983  1.3836  0.0886     2.8238    3.1728"
      ]
     },
     "execution_count": 41,
     "metadata": {},
     "output_type": "execute_result"
    }
   ],
   "source": [
    "rp.summary_cont(df[[\"total_bill\",\"tip\"]])"
   ]
  },
  {
   "cell_type": "code",
   "execution_count": 42,
   "metadata": {},
   "outputs": [],
   "source": [
    "# değişken adı, N = gözlem sayıları, Mean=ortalama değeri, SD = standart sapma, SE = standart hata,\n",
    "# 95% Conf. = güven aralığı alt sınırı, Interval = güven aralığı üst sınırı."
   ]
  },
  {
   "cell_type": "code",
   "execution_count": 43,
   "metadata": {},
   "outputs": [
    {
     "data": {
      "text/html": [
       "<div>\n",
       "<style scoped>\n",
       "    .dataframe tbody tr th:only-of-type {\n",
       "        vertical-align: middle;\n",
       "    }\n",
       "\n",
       "    .dataframe tbody tr th {\n",
       "        vertical-align: top;\n",
       "    }\n",
       "\n",
       "    .dataframe thead th {\n",
       "        text-align: right;\n",
       "    }\n",
       "</style>\n",
       "<table border=\"1\" class=\"dataframe\">\n",
       "  <thead>\n",
       "    <tr style=\"text-align: right;\">\n",
       "      <th></th>\n",
       "      <th>Variable</th>\n",
       "      <th>Outcome</th>\n",
       "      <th>Count</th>\n",
       "      <th>Percent</th>\n",
       "    </tr>\n",
       "  </thead>\n",
       "  <tbody>\n",
       "    <tr>\n",
       "      <th>0</th>\n",
       "      <td>sex</td>\n",
       "      <td>Male</td>\n",
       "      <td>157</td>\n",
       "      <td>64.34</td>\n",
       "    </tr>\n",
       "    <tr>\n",
       "      <th>1</th>\n",
       "      <td></td>\n",
       "      <td>Female</td>\n",
       "      <td>87</td>\n",
       "      <td>35.66</td>\n",
       "    </tr>\n",
       "  </tbody>\n",
       "</table>\n",
       "</div>"
      ],
      "text/plain": [
       "  Variable Outcome  Count  Percent\n",
       "0      sex    Male    157    64.34\n",
       "1           Female     87    35.66"
      ]
     },
     "execution_count": 43,
     "metadata": {},
     "output_type": "execute_result"
    }
   ],
   "source": [
    "# categorik değişkenler içinde yapılabilir.\n",
    "rp.summary_cat(df[[\"sex\"]])\n",
    "# Variable = \"sutun adı\", Outcome = \"sutun içindeki değerler\", Count = eleman sayısı, percent = yüzde kaçı erkek, kadın."
   ]
  },
  {
   "cell_type": "code",
   "execution_count": null,
   "metadata": {},
   "outputs": [],
   "source": []
  }
 ],
 "metadata": {
  "kernelspec": {
   "display_name": "Python 3",
   "language": "python",
   "name": "python3"
  },
  "language_info": {
   "codemirror_mode": {
    "name": "ipython",
    "version": 3
   },
   "file_extension": ".py",
   "mimetype": "text/x-python",
   "name": "python",
   "nbconvert_exporter": "python",
   "pygments_lexer": "ipython3",
   "version": "3.8.5"
  }
 },
 "nbformat": 4,
 "nbformat_minor": 4
}
