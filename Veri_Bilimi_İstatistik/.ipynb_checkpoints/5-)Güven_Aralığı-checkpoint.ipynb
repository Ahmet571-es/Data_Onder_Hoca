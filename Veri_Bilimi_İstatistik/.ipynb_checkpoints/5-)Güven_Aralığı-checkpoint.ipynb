{
 "cells": [
  {
   "cell_type": "raw",
   "metadata": {},
   "source": [
    "Aralık tahmininde örneklem istatistikleri ile populasyon istatistiği için tahmin aralığı belirleriz."
   ]
  },
  {
   "cell_type": "markdown",
   "metadata": {},
   "source": [
    "### ORTALAMA İÇİN GÜVEN ARALIĞI BULMA : "
   ]
  },
  {
   "cell_type": "raw",
   "metadata": {},
   "source": [
    "Örneklemde ki istatiksel verilere göre populasyon ile ilgili ortalama aralık tahmini bulmamızdır. Örneklem ortalaması en iyi güven aralık tahminidir. \n",
    "populasyon ortalaması = M ile gösterilir. \n",
    "Güven Düzeyi : (1- alfa) ile gösterilir. Aralık tahminin populasyon parametresini içermesi konusunda ki kesinlik düzeyidir. Olasılığıdır. \n",
    "Örneğin : %95 güven düzeyinde aralık tahmini yapalım.\n",
    "95/100 = 0.95\n",
    "1-0.95 = 0.05\n",
    "0.05/2 = 0.025\n",
    "Eğer t tablosun da değer bulunacaksa : \n",
    "n = örneklem eleman sayısı\n",
    "n-1 . satır ve 0.025 değerine denk gelen sutunun kesişiminde ki elemandır.\n",
    "Eğer z tablosun da değer bulunacaksa : \n",
    "1-0.025 = 0.975 => değerini z tablosundan bulup o değere denk gelen satırı ve sutunun değerini yazarız. 1.96 dır."
   ]
  },
  {
   "cell_type": "markdown",
   "metadata": {},
   "source": [
    "#### 1-) Populasyon Varyansı biliniyorken Ortalama için Güven Aralığı Bulma : "
   ]
  },
  {
   "cell_type": "raw",
   "metadata": {},
   "source": [
    "örneklem ortalaması = x\n",
    "populasyon ortalaması = M\n",
    "populasyon standart sapması = sigma\n",
    "e = hata\n",
    "standart hata = standart sapma / kök eleman sayısı\n",
    "\n",
    "populasyon varyansı biliniyorsa z tablosundan faydalanılır. \n",
    "\n",
    "x - z_alfa*(sigma/(n**0.5)) < M < x + z_alfa *(sigma/(n**0.5))"
   ]
  },
  {
   "cell_type": "raw",
   "metadata": {},
   "source": [
    "Örnek : Bir okulda ki öğrencilerin haftalık ders çalışma süreleri hakkında yapılan bir araştırmada, 25 öğrenciden seçilen bir örneklemin ortalama haftalık ders çalışma süreleri 14.5 saattir. Bu okulda ki öğrencilerin haftalık ders çalışma sürelerinin standart sapma değeri 2 olduğu biliniyorsa ;\n",
    "a-) %90 güven aralığı ile \n",
    "b-) %95 güven aralığı ile\n",
    "c-) %99 güven aralığı ile \n",
    "okulda ki öğrencilerin ortala haftalık çalışma saatleri?\n",
    "n=25\n",
    "x=14.5\n",
    "populasyon varyansı yani sigma kare = 4\n",
    "populasyon varyansı belli o zaman z tablosu kullanılır."
   ]
  },
  {
   "cell_type": "raw",
   "metadata": {},
   "source": [
    "a-) %90 güven :\n",
    "90/100 = 0.9\n",
    "1-0.9 = 0.1\n",
    "0.1/2 = 0.05\n",
    "1- 0.05 = 0.95\n",
    "z tablosuna gidilir ve 0.95 değerine bakılır.\n",
    "(1.64 + 1.65)/2 = 1.645\n",
    "alfa = 1.645\n",
    "14.5 - (1.645*(2/(25**0.5))) = 13.84\n",
    "14.5 + (1.645*(2/(25**0.5))) = 15.158\n",
    "13.84 < M < 15.158 => % 90 güven düzeyi ile bu saatler arasında populasyon ortalaması"
   ]
  },
  {
   "cell_type": "raw",
   "metadata": {},
   "source": [
    "b-) %95 güven :\n",
    "95/100 = 0.95\n",
    "1-0.95 = 0.05\n",
    "0.05/2 = 0.025\n",
    "1-0.025 = 0.975 => z tablo değeri 1.96 dır.\n",
    "14.5 - (1.96*(2/(25**0.5))) = 13.71\n",
    "14.5 + (1.96*(2/(25**0.5))) = 15.284\n",
    "13.71 < M < 15.284 => % 95 güven düzeyi ile bu saatler arasında populasyon ortalaması"
   ]
  },
  {
   "cell_type": "raw",
   "metadata": {},
   "source": [
    "c-) %99 güven :\n",
    "99/100 = 0.99\n",
    "1-0.99 = 0.01\n",
    "0.01/2 = 0.005\n",
    "1-0.0.005 = 0.995 => z tablo değeri = 2.575 tir.\n",
    "14.5 - (2.575*(2/(25**0.5))) = 13.71\n",
    "14.5 + (2.575*(2/(25**0.5))) = 15.284\n",
    "13.47 < M < 15.53 => % 99 güven düzeyi ile bu saatler arasında populasyon ortalaması"
   ]
  },
  {
   "cell_type": "markdown",
   "metadata": {},
   "source": [
    "#### 2-) Populasyon Varyansı bilinmiyorken Ortalama için Güven Aralığı Bulma : "
   ]
  },
  {
   "cell_type": "raw",
   "metadata": {},
   "source": [
    "Eğer populasyon varyansı bilinmiyorsa örneklemdeki veri adedi >= 30 ise yani n>=30 ise z tablosu , n<30 ise t tablosu kullanılır. "
   ]
  },
  {
   "cell_type": "markdown",
   "metadata": {},
   "source": [
    "#### a-) n>= 30 iken : "
   ]
  },
  {
   "cell_type": "raw",
   "metadata": {},
   "source": [
    "Örnek : Bir okulda ki öğrencilerin haftalık ders çalışma süreleri hakkında yapılan bir araştırmada, 40 öğrenciden seçilen bir örneklemin ortalama haftalık ders çalışma süreleri 14.5 saat ve standart sapması 2 saattir. Bu okulda ki öğrencilerin haftalık ortalama ders çalışma süreleri için :\n",
    "a-) %95 güven aralığı için ;\n",
    "okulda ki tüm öğrencilerin haftalık ders çalışma süreleri için ortalama güven aralığı elde ediniz.\n",
    "\n",
    "n=40\n",
    "örneklem ort = x = 14.5\n",
    "örneklem_standart sapması = s = 2\n",
    "populasyon_varyansı = belli değil\n",
    "n>30 o zaman z tablosu kullanılacak."
   ]
  },
  {
   "cell_type": "raw",
   "metadata": {},
   "source": [
    "a-) %95 için : \n",
    "95/100 = 0.95\n",
    "1-0.95 = 0.05\n",
    "0.05/2 = 0.025\n",
    "1-0.025 = 0.975 => z tablosunda ki değeri 1.96 dır.\n",
    "\n",
    "14.5 - (1.96*(2/(40**0.5))) < M < 14.5 + (1.96*(2/(40**0.5)))\n",
    "13.88 < M < 15.11"
   ]
  },
  {
   "cell_type": "markdown",
   "metadata": {},
   "source": [
    "#### a-) n< 30 iken : "
   ]
  },
  {
   "cell_type": "raw",
   "metadata": {},
   "source": [
    "Örnek : Bir okulda ki öğrencilerin haftalık ders çalışma süreleri hakkında yapılan bir araştırmada, 15 öğrenciden seçilen bir örneklemin ortalama haftalık ders çalışma süreleri 14.5 saat ve standart sapması 2 saattir. Bu okulda ki öğrencilerin haftalık ortalama ders çalışma süreleri için :\n",
    "a-) %90 güven aralığı için ;\n",
    "okulda ki tüm öğrencilerin haftalık ders çalışma süreleri için ortalama güven aralığı elde ediniz.\n",
    "\n",
    "n=15\n",
    "x=14.5\n",
    "s=2\n",
    "populasyon varyansı = bilinmiyor\n",
    "n<30 o zaman t tablosu kullanılacak."
   ]
  },
  {
   "cell_type": "raw",
   "metadata": {},
   "source": [
    "a-) %90 güven aralığı ortalama için : \n",
    "90/100 = 0.9\n",
    "1-0.9 = 0.1\n",
    "0.1/2 = 0.05\n",
    "n-1 = 14 \n",
    "9. satır ve 0.05 inci sutun daki t tablo değeri => 1.761 ' dir.\n",
    "\n",
    "14.5 - (1.761*(2/(15**0.5))) < M < 14.5 + (1.761*(2/(15**0.5)))\n",
    "13.59 < M < 15.40\n",
    "%90 güven aralığı ile ortalama çalışma saatleri."
   ]
  },
  {
   "cell_type": "raw",
   "metadata": {},
   "source": [
    "z tablo değeri için \n",
    "%90 => 1.645,\n",
    "%95 => 1.96,\n",
    "%99 => 2.575"
   ]
  },
  {
   "cell_type": "markdown",
   "metadata": {},
   "source": [
    "### Belli bir Hata için Örneklem Sayısı Bulma : "
   ]
  },
  {
   "cell_type": "markdown",
   "metadata": {},
   "source": [
    "##### a-)Populasyon Varyansı Biliniyorken Bellirli bir hata için Örneklem sayısı bulma : "
   ]
  },
  {
   "cell_type": "raw",
   "metadata": {},
   "source": [
    "e = alfa*(std/n**0.5) ' tir.\n",
    "örneklem sayısı = ((alfa*populasyon_standart_sapması)/(e))**2"
   ]
  },
  {
   "cell_type": "raw",
   "metadata": {},
   "source": [
    "Soru : Populasyon standart sapması 0.3 olarak bilinen bir araştırmada %95 güven düzeyinde 0.1 hata alması için gerekli örneklem sayısı kaçtır? \n",
    "\n",
    "populasyon varyansı = 0.09 yani biliniyor\n",
    "populasyon_standart_sapması = 0.3\n",
    "alfa değerini z tablo değerine göre bulacağız çünkü populasyon varyansı belli :\n",
    "95/100 = 0.95\n",
    "1 - 0.95 = 0.05\n",
    "0.05/2 = 0.025\n",
    "1 - 0.025 = 0.975 => z tablo değeri 1.96 dır. \n",
    "hata değerini yani e değerini bulalım.\n",
    "alfa = 1.96\n",
    "sigma = 0.3\n",
    "e = 0.1\n",
    "örneklem_sayisi = ((1.96*0.3)/(0.1))**2\n",
    "örneklme_sayisi = 34.574 onu da yukarıya yuvarlarız o da 35 olur."
   ]
  },
  {
   "cell_type": "markdown",
   "metadata": {},
   "source": [
    "#### Örneklem için standart sapma ve varyansını hesaplama : "
   ]
  },
  {
   "cell_type": "raw",
   "metadata": {},
   "source": [
    "1. adım : örneklem ortalaması bulunur.\n",
    "2. adım : her bir değerden örneklem ortalaması çıkarılır ve kareleri alınır ve çıkan sonuçlar toplanır.\n",
    "3. adım : bu çıkan toplam örneklem sayısının eleman sayısının 1 eksiğine bölünür.\n",
    "Bu adımlarla örneklem varyansını buluruz. \n",
    "Bu çıkan sonucu da karekök içine alarak standart sapmayı buluruz."
   ]
  },
  {
   "cell_type": "markdown",
   "metadata": {},
   "source": [
    "### Varyans için Güven Aralığı bulma : "
   ]
  },
  {
   "cell_type": "raw",
   "metadata": {},
   "source": [
    "Kikare tablosundan faydalanılır. t tablosu gibi okunmaktadır. \n",
    "n = örneklem sayısı\n",
    "s = örneklem_standart sapma\n",
    "((n-1)*(s**2)) /(kikare_alfa) < populasyon_varyans < ((n-1)*(s**2)) /(kikare_1-alfa)\n",
    "Eğer standart sapma için güven aralığı sorulursa yukarıdaki "
   ]
  },
  {
   "cell_type": "raw",
   "metadata": {},
   "source": [
    "Örnek : Bir firmanın ürettiği çivilerden 10 paketlik örneklem alınıyor. Bu örneklemin ortalaması 45.3 gr ve varyansı 0.286 gr dır. Buna göre %90 güven düzeyi için bu firmanın ürettiği bu malzemelerin paketlerinin varyans aralığını bulunuz.\n",
    "n = 10\n",
    "x = 45.3\n",
    "s2 = 0.286 => örneklem varyansı\n",
    "\n",
    "kikare tablosuna göre % 90 :\n",
    "90/10 = 0.9\n",
    "1-0.9 = 0.1\n",
    "0.1/2 = 0.05\n",
    "n-1 = 9 => 9. satır ve 0.05 inci sutun yani = 16.919\n",
    "bu küçük olan için birde büyük olan için : 1-0.05 = 0.95\n",
    "n-1 = 9 => 9. satır ve 0.95 inci sutun yani = 3.325 \n",
    "\n",
    "((10-1) * 0.286)/ (16.919) < populasyon_varyans < ((10-1)*0.286) / (3.325)\n",
    "0.152 < populasyon_varyans < 0.774"
   ]
  },
  {
   "cell_type": "raw",
   "metadata": {},
   "source": [
    "Soru : Bir enerji içeceğinden rastgele alınan 10 adet alınan örneğin sağladığı kalori ortalaması 230 kalori ve standart sapması\n",
    "15 kaloridir. %95 güven düzeyi ile bu enerji içeceğinin standart sapmasını bulalım.\n",
    "\n",
    "95/100 = 0.95\n",
    "1-0.95 = 0.05\n",
    "0.05/2 = 0.025\n",
    "n-1 = 9 . satır 0.025 sutun değeri => 19.023 küçük olan değer için.\n",
    "1-0.025 = 0.975\n",
    "n-1 = 9. satır ve 0.975 sutun değeri => 2.700 büyük olan için.\n",
    "\n",
    "n = 10\n",
    "örneklem varyansı = 15*15 = 225\n",
    "örneklem ortalaması = 230\n",
    "\n",
    "((10-1) * 225)/ (19.023) < populasyon_varyans < ((10-1)*225) / (2.700)\n",
    "106.45 < populasyon_varyans < 750\n",
    "ama bize populasyon standart sapması soruluyor : \n",
    "106.45**0.5 = 10.371\n",
    "750**0.5 = 27.386\n",
    "10.371 < populasyon_standart_sapması < 27.386\n",
    "% 95 güven aralığı ile populasyon standart sapması."
   ]
  },
  {
   "cell_type": "raw",
   "metadata": {},
   "source": [
    "Python da %95 li ifade ön tanımlı olarak kabul edilir. z tablo değeri 1.96 dır. Genel kabul %95 üzerinden hesaplanır. Ama bazen çok ekstrem durumlarda %99 veya farklı değerler de hesaplanır. Eğer populasyon ortalaması mevzu bahisse ve populasyon varyansı biliniyorsa: z tablo değeri, populasyon varyansı bilinmiyorsa: n>=30 ise z tablo değeri, n<30 ise t tablo değerleri kullanılır."
   ]
  },
  {
   "cell_type": "raw",
   "metadata": {},
   "source": [
    "Örneğin : Fiyat aralığı belirlemek istiuoruz. Elimizde fiyatın üretim maliyet fiyatı var. Bu fiyatı öyle bir belirleyelim ki alıcılar bu alıştan memnun kalmalı. Alıcılara bir anket yapalım ve bu ürüne ne fiyat verdiklerini kaydedelim. Ve bu verilen fiyatlara göre bir fiyat belirleyelim ama kar elde edeceğimiz bir fiyat olsun."
   ]
  },
  {
   "cell_type": "code",
   "execution_count": 9,
   "metadata": {},
   "outputs": [],
   "source": [
    "import numpy as np\n",
    "import pandas as pd"
   ]
  },
  {
   "cell_type": "code",
   "execution_count": 11,
   "metadata": {},
   "outputs": [
    {
     "data": {
      "text/plain": [
       "34.852"
      ]
     },
     "execution_count": 11,
     "metadata": {},
     "output_type": "execute_result"
    }
   ],
   "source": [
    "maliyet_fiyat = 10 # ürün maliyet fiyatı 10 tl olsun\n",
    "maximun_fiyat = 60 # ürün için müşterinin vermesini istediğimiz maksimun fiyatta 60 tl olsun\n",
    "kisi_sayi = 1000 # ürün için 1000 kişi ile 10 tl 60 tl arasında bir anket yapalım.\n",
    "fiyatlar = np.random.randint(maliyet_fiyat,maximun_fiyat,kisi_sayi) # rastgele fiyatlar adıyla bir array oluşturdum.\n",
    "fiyatlar.mean() # verilen fiyatların ortalamaları."
   ]
  },
  {
   "cell_type": "code",
   "execution_count": 12,
   "metadata": {},
   "outputs": [],
   "source": [
    "import statsmodels.stats.api as sms"
   ]
  },
  {
   "cell_type": "code",
   "execution_count": 16,
   "metadata": {},
   "outputs": [
    {
     "data": {
      "text/plain": [
       "(33.951431262470294, 35.7525687375297)"
      ]
     },
     "execution_count": 16,
     "metadata": {},
     "output_type": "execute_result"
    }
   ],
   "source": [
    "sms.DescrStatsW(fiyatlar).tconfint_mean()  # bize %95 güven aralığı ile 33 tl ve 35 tl arasında fiyat aralığı verdi.\n",
    "# yani müşterilerin %95 i bu fiyat aralığını belirtmiş. tconfint_mean() => t tablo değerine göre hesapladı."
   ]
  },
  {
   "cell_type": "raw",
   "metadata": {},
   "source": [
    "Soru : İstanbul da otomobil sahibi olan kişiler arasından seçilen 100 kişilik bir örneklem için 1 yılda ortalama 235000 km yol gittikleri belirlenmiştir. bu örneklemin standart sapması 3900 km dir.  Bu bilgilere göre İstanbulda ki otomobil sahibi kişilerin 1 yılda araçları ile gittikleri ortalama yol için %95 güven düzeyi bir aralık tahmininde bulunalım."
   ]
  },
  {
   "cell_type": "code",
   "execution_count": 17,
   "metadata": {},
   "outputs": [],
   "source": [
    "km = np.random.normal(235000,3900,size=100) # ortalaması 235000 standart sapması 39000 olan 100 elemanlı bir array oluşturduk."
   ]
  },
  {
   "cell_type": "code",
   "execution_count": 18,
   "metadata": {},
   "outputs": [
    {
     "data": {
      "text/plain": [
       "array([241297.78068517, 231754.48420562, 232582.46066811, 237263.09181279,\n",
       "       242043.21947406, 231473.65121835, 234125.48100947, 236945.76929699,\n",
       "       234618.36951826, 226451.57475773])"
      ]
     },
     "execution_count": 18,
     "metadata": {},
     "output_type": "execute_result"
    }
   ],
   "source": [
    "km[0:10]"
   ]
  },
  {
   "cell_type": "code",
   "execution_count": 19,
   "metadata": {},
   "outputs": [
    {
     "data": {
      "text/plain": [
       "234841.83752815824"
      ]
     },
     "execution_count": 19,
     "metadata": {},
     "output_type": "execute_result"
    }
   ],
   "source": [
    "km.mean()"
   ]
  },
  {
   "cell_type": "code",
   "execution_count": 20,
   "metadata": {},
   "outputs": [
    {
     "data": {
      "text/plain": [
       "3658.4586103017486"
      ]
     },
     "execution_count": 20,
     "metadata": {},
     "output_type": "execute_result"
    }
   ],
   "source": [
    "km.std()"
   ]
  },
  {
   "cell_type": "code",
   "execution_count": 27,
   "metadata": {},
   "outputs": [
    {
     "name": "stdout",
     "output_type": "stream",
     "text": [
      " t tablo test ile ,%95 güven aralığı ile tüm istanbulda ki sürücülerin yıllık ortalama yaptıkları kilometre =  234112 ve 235571 arasındadır.\n"
     ]
    }
   ],
   "source": [
    "t_config1, t_config2 = sms.DescrStatsW(km).tconfint_mean()\n",
    "t_config1 = int(t_config1)\n",
    "t_config2 = int(t_config2)\n",
    "print(\" t tablo test ile ,%95 güven aralığı ile tüm istanbulda ki \"\n",
    "      \"sürücülerin yıllık ortalama yaptıkları kilometre = \", t_config1, \"ve\", t_config2,\n",
    "     \"arasındadır.\")"
   ]
  },
  {
   "cell_type": "code",
   "execution_count": 22,
   "metadata": {},
   "outputs": [
    {
     "data": {
      "text/plain": [
       "(234121.18047785686, 235562.49457845962)"
      ]
     },
     "execution_count": 22,
     "metadata": {},
     "output_type": "execute_result"
    }
   ],
   "source": [
    "sms.DescrStatsW(km).zconfint_mean() # buda z test tablosuna göre yapılan hesaplama."
   ]
  },
  {
   "cell_type": "raw",
   "metadata": {},
   "source": [
    "Soru : Bir bisküvi fabrikasında üretilen A bisküvisinden rastgele 12 adet örneklem çekilmiştir. Yapılan ölçümler sonucunda örneklemin kütle ortalaması 48.5 gr, standart sapması 1.5 gr olarak hesaplanmıştır. Buna göre bu fabrika da ki üretilen bisküvilerin kütle ortalamasını %99 güven düzeyi ile z tablo değerine göre bulalım."
   ]
  },
  {
   "cell_type": "code",
   "execution_count": 28,
   "metadata": {},
   "outputs": [],
   "source": [
    "orneklem_biskuvi = np.random.normal(48.5, 1.5, size=12) # ortalaması 48.5, standart sapması 1.5, 12 adet rastgele değer üret."
   ]
  },
  {
   "cell_type": "code",
   "execution_count": 38,
   "metadata": {},
   "outputs": [],
   "source": [
    "def guven_aralik(x) : \n",
    "    a = x.mean() - (2.58*(x.std() / (x.size **0.5)))\n",
    "    b = x.mean() + (2.58*(x.std() / (x.size **0.5)))\n",
    "    print(\"%99 ile güven aralığı z tablo değerine göre = \", round(a,2) ,\"gr ile\", round(b,2) , \"değerleri aralığındadır.\")"
   ]
  },
  {
   "cell_type": "code",
   "execution_count": 33,
   "metadata": {},
   "outputs": [],
   "source": [
    "orneklem_biskuvi1 = orneklem_biskuvi.copy()"
   ]
  },
  {
   "cell_type": "code",
   "execution_count": 34,
   "metadata": {},
   "outputs": [],
   "source": [
    "orneklem_biskuvi1 = pd.DataFrame(orneklem_biskuvi1)"
   ]
  },
  {
   "cell_type": "code",
   "execution_count": 41,
   "metadata": {},
   "outputs": [
    {
     "name": "stdout",
     "output_type": "stream",
     "text": [
      "%99 ile güven aralığı z tablo değerine göre =  47.31 gr ile 49.34 değerleri aralığındadır.\n"
     ]
    },
    {
     "data": {
      "text/plain": [
       "0    None\n",
       "dtype: object"
      ]
     },
     "execution_count": 41,
     "metadata": {},
     "output_type": "execute_result"
    }
   ],
   "source": [
    "orneklem_biskuvi1.apply(guven_aralik)"
   ]
  },
  {
   "cell_type": "code",
   "execution_count": 42,
   "metadata": {},
   "outputs": [],
   "source": [
    "# Yapılan bir deneyde 25 kişinin bir etkiye tepki gösterme süreleri ölçülsün.\n",
    "tepki_sure_orneklem = np.random.normal(6.2, 2, size=25) # ortalaması 6.2, standart sapması 2 olan 25 kişi"
   ]
  },
  {
   "cell_type": "code",
   "execution_count": null,
   "metadata": {},
   "outputs": [],
   "source": [
    "# yukarıda ki oluşturulan örneklemden yola çıkarak %99 ile ve %95 güven düzeyi ile t tablosu baz alınarak bir insanın ortalama\n",
    "# tepki gösterme saniyelerini bulalım."
   ]
  },
  {
   "cell_type": "code",
   "execution_count": 46,
   "metadata": {},
   "outputs": [],
   "source": [
    "# %99 güven düzeyi : \n",
    "def guven_aralik_99(x) : \n",
    "    a = x.mean() - (2.787*(x.std() / (x.size **0.5)))\n",
    "    b = x.mean() + (2.787*(x.std() / (x.size **0.5)))\n",
    "    print(\"%99 ile güven aralığı t tablo değerine göre = \", round(a,2) ,\"gr ile\", round(b,2) , \"değerleri aralığındadır.\")    "
   ]
  },
  {
   "cell_type": "code",
   "execution_count": 47,
   "metadata": {},
   "outputs": [
    {
     "name": "stdout",
     "output_type": "stream",
     "text": [
      "%99 ile güven aralığı t tablo değerine göre =  5.08 gr ile 7.17 değerleri aralığındadır.\n"
     ]
    },
    {
     "data": {
      "text/plain": [
       "0    None\n",
       "dtype: object"
      ]
     },
     "execution_count": 47,
     "metadata": {},
     "output_type": "execute_result"
    }
   ],
   "source": [
    "tepki_sure_orneklem1 = tepki_sure_orneklem.copy()\n",
    "tepki_sure_orneklem1 = pd.DataFrame(tepki_sure_orneklem1)\n",
    "tepki_sure_orneklem1.apply(guven_aralik_99)"
   ]
  },
  {
   "cell_type": "code",
   "execution_count": 49,
   "metadata": {},
   "outputs": [
    {
     "name": "stdout",
     "output_type": "stream",
     "text": [
      "%95 ile güven aralığı t tablo değerine göre =  5.35 gr ile 6.9 değerleri aralığındadır.\n"
     ]
    }
   ],
   "source": [
    "# %95 güven aralığı ile t tablo ortalama güven aralığı :\n",
    "c1 , c2 = sms.DescrStatsW(tepki_sure_orneklem).tconfint_mean()\n",
    "c1 = round(c1,2)\n",
    "c2 = round(c2,2)\n",
    "print(\"%95 ile güven aralığı t tablo değerine göre = \", c1 ,\"gr ile\", c2 , \"değerleri aralığındadır.\")    "
   ]
  },
  {
   "cell_type": "code",
   "execution_count": null,
   "metadata": {},
   "outputs": [],
   "source": []
  },
  {
   "cell_type": "markdown",
   "metadata": {},
   "source": [
    "### Örneklem Teorisi : "
   ]
  },
  {
   "cell_type": "raw",
   "metadata": {},
   "source": [
    "Varsayalım ki bir ilçede ki kişilerin yaş ortalamasını hesaplayalım ilçede 10 bin kişi yaşasın biz bu ilçeden örneklem çekelim\n",
    "ve bakalım bu örneklem için yaş ortalamasını çıkaralım."
   ]
  },
  {
   "cell_type": "code",
   "execution_count": 1,
   "metadata": {},
   "outputs": [],
   "source": [
    "import numpy as np"
   ]
  },
  {
   "cell_type": "code",
   "execution_count": 2,
   "metadata": {},
   "outputs": [],
   "source": [
    "populasyon = np.random.randint(0,80,10000)"
   ]
  },
  {
   "cell_type": "code",
   "execution_count": 3,
   "metadata": {},
   "outputs": [
    {
     "data": {
      "text/plain": [
       "array([15, 71, 75, 61, 37, 31, 15, 39, 14, 19])"
      ]
     },
     "execution_count": 3,
     "metadata": {},
     "output_type": "execute_result"
    }
   ],
   "source": [
    "populasyon[0:10]"
   ]
  },
  {
   "cell_type": "code",
   "execution_count": 4,
   "metadata": {},
   "outputs": [],
   "source": [
    "# örneklem çekimi : seed yapılacak işlemler için aynı örneklem içinden işlem çekme demekltir. yani seed çalışmassa her \n",
    "# örneklem çekişimizde farklı bir örneklem çekmiş olacağız.\n",
    "np.random.seed(100)\n",
    "orneklem = np.random.choice(a = populasyon, size = 100)"
   ]
  },
  {
   "cell_type": "code",
   "execution_count": 5,
   "metadata": {},
   "outputs": [
    {
     "data": {
      "text/plain": [
       "43.8"
      ]
     },
     "execution_count": 5,
     "metadata": {},
     "output_type": "execute_result"
    }
   ],
   "source": [
    "orneklem.mean()\n",
    "# populasyon içinden rastgele örneklem çektik ve bir ortalama bulduk."
   ]
  },
  {
   "cell_type": "code",
   "execution_count": 6,
   "metadata": {},
   "outputs": [
    {
     "data": {
      "text/plain": [
       "39.731"
      ]
     },
     "execution_count": 6,
     "metadata": {},
     "output_type": "execute_result"
    }
   ],
   "source": [
    "populasyon.mean()"
   ]
  },
  {
   "cell_type": "code",
   "execution_count": 7,
   "metadata": {},
   "outputs": [
    {
     "data": {
      "text/plain": [
       "40.29666666666666"
      ]
     },
     "execution_count": 7,
     "metadata": {},
     "output_type": "execute_result"
    }
   ],
   "source": [
    "# örneklem dağılımı : \n",
    "np.random.seed(101)\n",
    "orneklem1 = np.random.choice(a = populasyon, size = 100)\n",
    "orneklem2 = np.random.choice(a = populasyon, size = 100)\n",
    "orneklem3 = np.random.choice(a = populasyon, size = 100)\n",
    "orneklem4 = np.random.choice(a = populasyon, size = 100)\n",
    "orneklem5 = np.random.choice(a = populasyon, size = 100)\n",
    "orneklem6 = np.random.choice(a = populasyon, size = 100)\n",
    "(orneklem1.mean() + orneklem2.mean() + orneklem3.mean() + orneklem4.mean() + orneklem5.mean() + orneklem6.mean())/6"
   ]
  },
  {
   "cell_type": "code",
   "execution_count": 8,
   "metadata": {},
   "outputs": [],
   "source": [
    "# örneklem sayısı arttıkça populasyon verisine oldukça yakınlaşmıştır."
   ]
  },
  {
   "cell_type": "code",
   "execution_count": null,
   "metadata": {},
   "outputs": [],
   "source": []
  }
 ],
 "metadata": {
  "kernelspec": {
   "display_name": "Python 3",
   "language": "python",
   "name": "python3"
  },
  "language_info": {
   "codemirror_mode": {
    "name": "ipython",
    "version": 3
   },
   "file_extension": ".py",
   "mimetype": "text/x-python",
   "name": "python",
   "nbconvert_exporter": "python",
   "pygments_lexer": "ipython3",
   "version": "3.8.5"
  }
 },
 "nbformat": 4,
 "nbformat_minor": 4
}
