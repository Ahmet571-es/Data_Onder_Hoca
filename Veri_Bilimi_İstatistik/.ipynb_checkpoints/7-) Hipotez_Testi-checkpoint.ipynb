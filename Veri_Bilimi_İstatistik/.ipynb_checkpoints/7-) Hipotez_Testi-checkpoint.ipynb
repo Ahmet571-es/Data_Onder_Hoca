{
 "cells": [
  {
   "cell_type": "raw",
   "metadata": {},
   "source": [
    "Bir iddiayı bir inanışı bir savı test etmek kullanılan testlerdir. Örneğin Bir ilacın etkili olduğu iddia edilmektedir. O zaman yapılması gereken hipotez testi kullanrarak bu iddianın doğru olup olmadığıdır. Hipotez testleri şansa yer vermeyecek şekilde bize iddianın geçerli olup olmadığını göstermeye çalışır."
   ]
  },
  {
   "cell_type": "raw",
   "metadata": {},
   "source": [
    "Hipotezler Ho ve H1 olarak 2 ye ayrılarak incelenir. Eğer ortaya atılan iddianın incelemesi yapılırken iddianın doğru olduğunu kabul eden hipotez H1 dir. İddianın doğru olmadığını kabul eden ise Ho hipotezidir.\n",
    "\n",
    "Örneğin : Bir aşı bulundu. Bu aşının etkisinin ortalama 10 günden az olduğu iddia edilmektedir. \n",
    "\n",
    "Ho : İddia doğru değildir. Yani ortalama 10 gün\n",
    "H1 : İddia doğrudur. Yani ortalama 10 günden azdır.\n",
    "\n",
    "Örneğin : Bir kavşakta yaşanan kaza ortalaması 14 ten farklı olduğu iddia edilmektedir.\n",
    "\n",
    "Ho : iddia doğru değildir. Yani ort = 14\n",
    "H1 : iddia doğrudur. yani ort<14 veya ort>14 olacaktır."
   ]
  },
  {
   "cell_type": "raw",
   "metadata": {},
   "source": [
    "Hipotez testinin amacı : Populasyon hakkında ortaya atılan iddianın doğruluğunu hipotez testleri ile kontrol ederiz. Bunu yaparken örneklem verilerini kullanırız. Bu iddia 2 hipotez haline getirilir. \n",
    "H0 => iddia doğru değil.\n",
    "H1 => iddia doğru demektir. "
   ]
  },
  {
   "cell_type": "raw",
   "metadata": {},
   "source": [
    "Hipotez testlerinde anlamlılk düzeyi : alfa ile gösterilir. alfa bize verilirse bize anlamlılık düzeyi verilmiş olur. pvalue olarak ta adlandırılır. Hipotez testinin kalitesini göstermektedir. pvalue değeri genelde 0.05 olarak kabul edilir. yani %95 ile. ama bazen özellikle tıp alanında 0.01 de yani %99 da kullanılabilir. Bize güven düzeyini soruda verdiyse pvalue değerini 1 den güven düzeyi çıkarılarak bulunur. alfa arttıkça hipotezin kaliteside düşer. Ama en yaygın kullanım 0.05 tir."
   ]
  },
  {
   "cell_type": "raw",
   "metadata": {},
   "source": [
    "Kritik Bölge(Red Bölgesi) : Hesaplama sonucunda bir değer elde ettik ve pvalue değerimiz 0.05 olsun. z_kritik değerini de bulduk. z_test değerini de bulduk diyelim. Ve soruda bizden 10 dan küçük olduğunu iddia etsin diyelim. o zaman z_test değerinin z_kritik değerinden küçük çıkması halinde H1 kabul edilir, eğer eşit veya büyük çıkarsa Ho hipotezi kabul edilir. z_kritik bölge alanı da 0.05 olur."
   ]
  },
  {
   "cell_type": "raw",
   "metadata": {},
   "source": [
    "Python ve R da Kullanım şekli biraz daha farklıdır. Normalde elle hesapladığımız zaman z_kritik, t_kiritik değerleri ile z_test veya t_test değerlerini karşılatırıp H0 veya H1 hipotezlerinden birine karar veririz. Ama python pvalue değeri baz alınarak çok daha kolay bir şekilde yapılır. Hipotez testlerini değerlendirmek üzere programlar tarafından p-value değeri verilir. Bu değer üzerinden kolayca yorum yapılabilir. Eğer testin sonucunda pvalue değeri 0.05 ten küçükse ilgili H0 hipotezini reddederiz. Bu da bize oldukça hızlı bir şekilde Hipotez testi yapmamızı sağlar. yani pvalue<0.05 olursa Ho reddedilir. "
   ]
  },
  {
   "cell_type": "raw",
   "metadata": {},
   "source": [
    "Hipotez testinin adımları : \n",
    "1-) Ho ve H1 hipotezleri kurulur. \n",
    "2-) Anlamlılık Düzeyi yani pvalue değeri ve tablo değeri belirlenir. => yani t_kritik veya z_kritik bulunur. \n",
    "3-) Test istatistiğinin belirlenmesi ve test istatistiğinin hesaplanması => yani z_test veya t_test değerinin hesaplanması.\n",
    "4-) Ortaya atılan iddiaya göre kritik değer ve test istatistiği değeri karşılaştırılır."
   ]
  },
  {
   "cell_type": "markdown",
   "metadata": {},
   "source": [
    "### Tek Örneklem T testi :"
   ]
  },
  {
   "cell_type": "raw",
   "metadata": {},
   "source": [
    "Populasyon ortalaması ile ilgili tek bir örneklem ile yaptığımız istatiksel hesaplamalar sonucunda elde ettiğimiz veriye göre yaptığımız testtir. Tek bir örneklem üzerinden kullanılır. \n",
    "Örneğin : 10000 kişilik bir ilçenin yaş ortalamasının 25 ten büyük olduğunu iddia edelim. bir örneklem çekelim ve bu örneklemde 100 kişi olsun. bu örnekleminde yaş ortalaması 30 olsun. Biz bu tek örnekleme göre test yapmamız tek örneklem testine girer.\n",
    "Tek örneklem Hipotez testinde :\n",
    "a-) eğer populasyon varyansı biliniyorsa z tablosu, \n",
    "b-) eğer populasyon varyansı bilinmiyor n>= 30 ise z tablosu,\n",
    "c-) eğer populasyon varyansı bilinmiyor n< 30 ise t tablosu,\n",
    "kullanılır. ama python programlama içinde genelde t istatistiği kullanılır. Zaten örneklem arttıkça t tablo değeri z tablo değerine çok yakınlaşır.\n",
    "Eğer varsayım sağlanmassa Nanparametrik hipotez testi yaparız."
   ]
  },
  {
   "cell_type": "raw",
   "metadata": {},
   "source": [
    " Bir e-ticaret şirketi var. Alışveriş için kullanıcının gerçekleştirdiği adımlar ile ilgili araştırma yapılıyor. \n",
    " Sepete ürün ekleme işlemi sonrasında ödeme ekranında 5 adım var. Bu adımlardan birisi sorgulanıyor.\n",
    " Her adım 20 şer saniye olması hedefi var. 4. adım sorgulanıyor.\n",
    " Bu durumu test etmek için 100 örneklem alınıyor. Ortalaması 19 sn, standart sapması da 5 sn bulunuyor.\n",
    " Anakitleye ulaşma imkanımız yok. Çünkü kullanıcı sayısı günlük binlerce. Bizde 100 kişinin alışveriş yaptığı esnada \n",
    " her adımdaki geçirdiği süreyi inceledik. Bizim iddiamız tüm kullanıcılar için 20 sn den az olduğu.\n",
    "\n",
    " 1. adım hipotezleri kuralım : \n",
    "Ho = 20 \n",
    "H1 < 20\n",
    "\n",
    "2. adım anlamlılık düzeyi : \n",
    "%95 ile hesaplayalım => 95/100 = 0.95 => 1-0.95 = 0.05 \n",
    "n>=30 olduğu için z tablosunu kullanırız. alfa değerimiz => 0.05 tir.  \n",
    "z_kritik değeri buluruz => 20 sn az dediği için 1-0.05 = 0.95 i bulacağız. z_kritik = 1.645 eder. \n",
    "\n",
    "3.adım : \n",
    "örneklem_ort = x = 19\n",
    "n = 100\n",
    "örneklem_std = s = 5\n",
    "\n",
    "4. adım : \n",
    "z_test = (19-20)/(5/(100**0.5)) = -2 \n",
    "20 sn yi test ettiğimiz için 19-20 dedik.\n",
    "\n",
    "5.adım : \n",
    "küçük olduğu iddia edildiği için bizde -1.645 ten küçük olup olmadığına bakacağız.\n",
    "z_test < z_kritik oldu o zaman H0 hipotezi reddedilir. Kullanıcıların %95 güven ile 20 sn den az bir zamanda işlerini hallettikleri bulunur."
   ]
  },
  {
   "cell_type": "code",
   "execution_count": 7,
   "metadata": {},
   "outputs": [],
   "source": [
    "# Problem bizim web sitemizde kullanıcını geçirdiçi ortalama süre 170 sn mi? Bu süreyi test etmek istiyoruz.  Yani süremiz\n",
    "# 170 sn den farklı mı değil mi?\n",
    "# H0 = 170\n",
    "# H1!= 170\n",
    "import numpy as np"
   ]
  },
  {
   "cell_type": "code",
   "execution_count": 12,
   "metadata": {},
   "outputs": [],
   "source": [
    "olcumler = np.random.randint(20,250,size=50)"
   ]
  },
  {
   "cell_type": "code",
   "execution_count": 13,
   "metadata": {},
   "outputs": [
    {
     "data": {
      "text/plain": [
       "array([168,  97, 149, 147,  21, 123, 191, 121,  95, 241,  24,  71, 168,\n",
       "       111, 192, 194, 211,  35, 165, 118, 213,  22,  35,  50, 162, 186,\n",
       "       224, 161, 104, 172,  45, 233, 156, 219, 201, 241, 232, 194,  70,\n",
       "       241, 235, 132,  47, 235,  26, 149, 123, 135,  23,  37])"
      ]
     },
     "execution_count": 13,
     "metadata": {},
     "output_type": "execute_result"
    }
   ],
   "source": [
    "olcumler\n",
    "# elimizde ki örneklem den yaptığımız ölçümler olsun."
   ]
  },
  {
   "cell_type": "code",
   "execution_count": 10,
   "metadata": {},
   "outputs": [],
   "source": [
    "import scipy.stats as sts"
   ]
  },
  {
   "cell_type": "code",
   "execution_count": 15,
   "metadata": {},
   "outputs": [],
   "source": [
    "import pandas as pd"
   ]
  },
  {
   "cell_type": "code",
   "execution_count": 16,
   "metadata": {},
   "outputs": [],
   "source": [
    "df_olcum = olcumler.copy()\n",
    "df_olcum = pd.DataFrame(df_olcum)"
   ]
  },
  {
   "cell_type": "code",
   "execution_count": 18,
   "metadata": {},
   "outputs": [
    {
     "data": {
      "text/plain": [
       "DescribeResult(nobs=50, minmax=(21, 241), mean=138.9, variance=5199.969387755102, skewness=-0.253956551103535, kurtosis=-1.1817625887075505)"
      ]
     },
     "execution_count": 18,
     "metadata": {},
     "output_type": "execute_result"
    }
   ],
   "source": [
    "sts.describe(olcumler)\n",
    "# 48 kişilik örneklemin ortalaması = 140 sn imiş. "
   ]
  },
  {
   "cell_type": "markdown",
   "metadata": {},
   "source": [
    "#### varsayımlarımız : "
   ]
  },
  {
   "cell_type": "markdown",
   "metadata": {},
   "source": [
    "##### normallik testi : "
   ]
  },
  {
   "cell_type": "code",
   "execution_count": 19,
   "metadata": {},
   "outputs": [],
   "source": [
    "# Shapiro_Wilks Testi : elimizdeki olçümler seti normal dağılım mı değil mi.\n",
    "from scipy.stats import shapiro"
   ]
  },
  {
   "cell_type": "code",
   "execution_count": 20,
   "metadata": {},
   "outputs": [
    {
     "data": {
      "text/plain": [
       "ShapiroResult(statistic=0.9269331097602844, pvalue=0.004237883724272251)"
      ]
     },
     "execution_count": 20,
     "metadata": {},
     "output_type": "execute_result"
    }
   ],
   "source": [
    "shapiro(olcumler)"
   ]
  },
  {
   "cell_type": "code",
   "execution_count": 21,
   "metadata": {},
   "outputs": [],
   "source": [
    "# p value 0.05 ten küçük çıktı yani Hipotez testine gerek kalmadı."
   ]
  },
  {
   "cell_type": "markdown",
   "metadata": {},
   "source": [
    "#### tek örneklem Hipotez testi :"
   ]
  },
  {
   "cell_type": "code",
   "execution_count": 26,
   "metadata": {},
   "outputs": [
    {
     "data": {
      "text/plain": [
       "Ttest_1sampResult(statistic=-3.0496148779078847, pvalue=0.00369030018056116)"
      ]
     },
     "execution_count": 26,
     "metadata": {},
     "output_type": "execute_result"
    }
   ],
   "source": [
    "# yukarıda shapiro-wilk testi ile biz ölçümlerin normallik testini yaptık ve sonuç olarak pvalue < 0.05 çıktı. ama pvalue\n",
    "# büyük çıksaydı o zaman tek örneklem için hipotez testi yapardık.\n",
    "sts.ttest_1samp(olcumler, popmean=170)\n",
    "# yani pvalue değeri < 0.05 ten küçük oldu o zaman Ho hipotezi geçersizdir. Yani kullanıcılar 170 sn den farklıdır."
   ]
  },
  {
   "cell_type": "markdown",
   "metadata": {},
   "source": [
    "#### Nonparametrik Tek örneklem Testi :"
   ]
  },
  {
   "cell_type": "code",
   "execution_count": 27,
   "metadata": {},
   "outputs": [],
   "source": [
    "# yukarıda shapiro-wilk testi ile biz ölçümlerin normallik testini yaptık ve sonuç olarak pvalue < 0.05 çıktı. ama pvalue\n",
    "# büyük çıksaydı o zaman tek örneklem için Nonparametrik testi yapabiliriz.\n",
    "from statsmodels.stats.descriptivestats import sign_test"
   ]
  },
  {
   "cell_type": "code",
   "execution_count": 28,
   "metadata": {},
   "outputs": [
    {
     "data": {
      "text/plain": [
       "(-7.0, 0.06490864707227219)"
      ]
     },
     "execution_count": 28,
     "metadata": {},
     "output_type": "execute_result"
    }
   ],
   "source": [
    "sign_test(olcumler,170)\n",
    "# burda pvalue > 0.05 çıktı. ama bu sonuçla ilgilenmeyiz çünkü yukarıda ki hipotez testinde pvalue değerinden küçük\n",
    "# çıkmıştı. Eğer hipotez testimiz pvalue> 0.05 çıksaydı Nonparametrik testi yapardık."
   ]
  },
  {
   "cell_type": "raw",
   "metadata": {},
   "source": [
    "elle yapalım : \n",
    "n = 48\n",
    "x = 140\n",
    "M = 170\n",
    "s = 72.10\n",
    "\n",
    "pvalue = 1-0.95 = 0.51\n",
    "5 yıldan farklı olduğu dediği için çift taraflı bir hipotez testi olacak\n",
    "0.05/2 = 0.025 çünkü 170 sn den farklı diyor. yani çift taraflı bir hipotez testi. z tablosunda 1 - 0.025 in değerini bulacağız. 0.975 in z tablo değeri = 1.96\n",
    "\n",
    "z_test = (140-170) / (72.10/(48**0.5)) =  -2.88\n",
    "\n",
    "H0 hipotezi geçersizdir. çünkü z_test < -1.96 dır. %95 kullanıcı çoğunluğu ile 170 sn den farklı ve az zaman geçirir."
   ]
  },
  {
   "cell_type": "raw",
   "metadata": {},
   "source": [
    "Soru : Belirli bir şehirde ki 24 aylık çocukların ortalama ağırlıkları 12.5 kg den küçük olduğı iddia ediliyor. Rastgele seçilen 5 tane 24 aylık çocuğun ağırlıkları sırasıyla : 13,11,10,10.5,10.5 kg dır. verilen bilgilere göre %95 ile anlamlılık düzeyine göre iddiayı test ediniz. "
   ]
  },
  {
   "cell_type": "code",
   "execution_count": 29,
   "metadata": {},
   "outputs": [],
   "source": [
    "orneklem = np.array([13,11,10,10.5,10.5])"
   ]
  },
  {
   "cell_type": "code",
   "execution_count": 30,
   "metadata": {},
   "outputs": [
    {
     "data": {
      "text/plain": [
       "ShapiroResult(statistic=0.8130043745040894, pvalue=0.10299471765756607)"
      ]
     },
     "execution_count": 30,
     "metadata": {},
     "output_type": "execute_result"
    }
   ],
   "source": [
    "shapiro(orneklem)\n",
    "# normallik testi\n",
    "# pvalue değeri > 0.05 çıktı. o zaman hipotez testi yapmamız gerekecek."
   ]
  },
  {
   "cell_type": "code",
   "execution_count": 31,
   "metadata": {},
   "outputs": [
    {
     "data": {
      "text/plain": [
       "Ttest_1sampResult(statistic=-2.8603877677367766, pvalue=0.04591151237531485)"
      ]
     },
     "execution_count": 31,
     "metadata": {},
     "output_type": "execute_result"
    }
   ],
   "source": [
    "sts.ttest_1samp(orneklem, popmean=12.5)\n",
    "# p value değerimiz < 0.05 çıktı yani Ho hipotezini redderiz. Çünkü ortalama ağırlıkları 12.5 kg farklıdır deriz."
   ]
  },
  {
   "cell_type": "code",
   "execution_count": 32,
   "metadata": {},
   "outputs": [
    {
     "data": {
      "text/plain": [
       "(2.5, 0.0625)"
      ]
     },
     "execution_count": 32,
     "metadata": {},
     "output_type": "execute_result"
    }
   ],
   "source": [
    "sign_test(orneklem)\n",
    "# Nonparametrik testine göre Ho hipotezini kabul ederiz ama bizim için asıl olan hipotez testidir."
   ]
  },
  {
   "cell_type": "raw",
   "metadata": {},
   "source": [
    "ELLE YAPALIM : \n",
    "n = 5 => örneklem sayısı\n",
    "x = 11 => örneklem ortalaması\n",
    "s = 1.048 => örneklem standart sapması\n",
    "t_test = (11 - 12.5) / (1.048/(5**0.5))\n",
    "t_test = -3.2\n",
    "\n",
    "t_kritik değer hesaplama : n=5 => 5-1 = 4. satır. 0.05 .inci sutuna gelen değere bakarız => 2.132 ama 12.5 kgk den az dediği için - 2.132 değeri baz alınacaktır.\n",
    "\n",
    "t_test < t_kritik olduğu için %95 ihitimalle şehirdeki 24 aylık bebekler 12.5 kg den azdır denir."
   ]
  },
  {
   "cell_type": "markdown",
   "metadata": {},
   "source": [
    "#### Tek örneklem oran testi :"
   ]
  },
  {
   "cell_type": "code",
   "execution_count": null,
   "metadata": {},
   "outputs": [],
   "source": [
    "# n yani örneklem sayısı 30 dan büyük olacak.\n",
    "# İş dünyasında dönüşüm oranı çok önemli bir yer tutar. Yni örneğin sitemize bir reklam koyduk. Bu reklamı 100 kişi gördü\n",
    "# ve sadece 2 kişi tıkladı. Reklamın tıklanma dönüşüm oranı 2/100 dür."
   ]
  },
  {
   "cell_type": "raw",
   "metadata": {},
   "source": [
    "Problem : Sitemizde vermiş olduğunuz reklama 1000 kişi bakıyor ama 125 kişi tıklıyor. Fakat reklama tıklama geliri ile tıklama oranı birbirleri ile örtüşmüyor. Sonrasında yaptığımız 500 örneklem üzerinden 500 kişi tıklıyor 40 kişi alışveriş yapıyor.\n",
    "Dönüşüm oranımız : 40/500 = 0.08 olur. Ama biz 125/1000 = 0.125 oranımızı test etmek istiyoruz. Çünkü gelirler uyuşmuyor."
   ]
  },
  {
   "cell_type": "code",
   "execution_count": 36,
   "metadata": {},
   "outputs": [],
   "source": [
    "# H0 = 0.125\n",
    "# H1 != 0.125\n",
    "from statsmodels.stats.proportion import proportions_ztest"
   ]
  },
  {
   "cell_type": "code",
   "execution_count": 37,
   "metadata": {},
   "outputs": [],
   "source": [
    "count = 40\n",
    "nobs = 500\n",
    "value = 0.125"
   ]
  },
  {
   "cell_type": "code",
   "execution_count": 38,
   "metadata": {},
   "outputs": [
    {
     "data": {
      "text/plain": [
       "(-3.7090151628513017, 0.0002080669689845979)"
      ]
     },
     "execution_count": 38,
     "metadata": {},
     "output_type": "execute_result"
    }
   ],
   "source": [
    "proportions_ztest(count, nobs, value)\n",
    "# pvalue < 0.05 çıktı yani %95 olasılıkla dönüşüm oranımız 0.125 ten farklı bir değerdir."
   ]
  },
  {
   "cell_type": "raw",
   "metadata": {},
   "source": [
    "Elle yapalım : \n",
    "örneklem sayısı = 500\n",
    "örneklem oranı = 0.08\n",
    "arastırılan oran = 0.125\n",
    "\n",
    "z_test = (0.08 - 0.125) / (((0.125*(1 - 0.125))/500)**0.5) = -3.042\n",
    "\n",
    "z_kritik = 0.05 için => farklı mı değil mi ona baktığımız için 0.05/2 = 0.025,  1-0.025 = 0.975 => z tablo değeri = 1.96\n",
    "\n",
    "farklı olup olmadığını test etmek istediğimiz için hem küçük hem de büyük olana bakacağız. \n",
    "z_test < -z_kritik => -3.04 < -1.96 o zaman Ho hipotezi reddedilir. % 95 ile oran 0.125 ten farklıdır."
   ]
  },
  {
   "cell_type": "code",
   "execution_count": null,
   "metadata": {},
   "outputs": [],
   "source": []
  },
  {
   "cell_type": "markdown",
   "metadata": {},
   "source": [
    "### Bağımsız iki örneklem Testi :"
   ]
  },
  {
   "cell_type": "raw",
   "metadata": {},
   "source": [
    "AB testi olarak ta bilinir. İki grup ortalaması arasında karşılaştırma yapılmak istenildiği zaman kullanılır. İki tane farklı populasyondan alınan örneklemler üzerinden bu iki farklı populasyon ortalamaları hakkında test yapılır. Gerçekte bilmediğimiz 2 tane farklı anakitle ile ile ilgili iddia testi yaparız. \n",
    "\n",
    "Örneklem sayıları eşit Varyans Homojen ise : \n",
    "orneklem1 standart sapma = s1\n",
    "orneklem2 standart sapma = s2 \n",
    "orneklem_sayıları = n\n",
    "sp = (s1 + s2)/2\n",
    "t_test = (orneklem1_ort - orneklem2_ort) - (sp*((2/n)**0.5))\n",
    "\n",
    "Örneklem sayıları farklı varyansları homojen ise : \n",
    "orneklem1 eleman sayısı = n1\n",
    "orneklem2 eleman sayısı = n2\n",
    "orneklem1 standart sapma = s1\n",
    "orneklem2 standart sapma = s2 \n",
    "sp = (((n1-1)*s1 + (n2-1)*s2)**0.5) / ((n1+n2-2)**0.5)\n",
    "t_test = (orneklem1_ort - orneklem2_ort) / (sp * (((1/n1) + (1/n2))**0.5))\n",
    "\n",
    "Orneklem sayıları farklı varyanslar homojen değilse : \n",
    "sp = ((s1/n1) + (s2/n2))**0.5\n",
    "t_test = (orneklem1_ort - orneklem2_ort) / sp\n",
    "\n",
    "İlk önce Normallik testi yaparız. Görsel yada hipotez testi ile yapacağız.\n",
    "Varyans homojenliği : grupların varyanslarının birbirine benzer olması gerekir."
   ]
  },
  {
   "cell_type": "raw",
   "metadata": {},
   "source": [
    "İş uygulaması : Bir makine öğrenmesi modeli geliştiriliyor. Ve bu modelin önerileri ile eski model kıyaslanıyor.\n",
    "Bir ML projesine yatırım yapılıyor. Ürettiği tahminler neticesinde oluşan gelir ile eski sistemin ürettiği gelirler karşılaştırılıp anlamlı farklılık olup olmadığı test edilmek isteniyor. Yani yeni sistemde makine ürünleri kullanıcıların daha önce baktığı ürünlerden yola çıkarak ona benzer ürünleri öneriyor. Ama kullanıcılar 2 ye bölünüyor. A grubuna eski sisteme göre ürünler gösterecek, B grubuna ise makine öğrenmesi ile gösteriliyor. Bakalım faydalı oldumu test edelim.\n",
    "\n",
    "H0 = Eski sistem ile yeni sistemin gelir ortalamaları eşittir. \n",
    "H1 = Eski sistem ile yeni sistemin gelir ortalamaları farklıdır."
   ]
  },
  {
   "cell_type": "code",
   "execution_count": 45,
   "metadata": {},
   "outputs": [
    {
     "data": {
      "text/html": [
       "<div>\n",
       "<style scoped>\n",
       "    .dataframe tbody tr th:only-of-type {\n",
       "        vertical-align: middle;\n",
       "    }\n",
       "\n",
       "    .dataframe tbody tr th {\n",
       "        vertical-align: top;\n",
       "    }\n",
       "\n",
       "    .dataframe thead th {\n",
       "        text-align: right;\n",
       "    }\n",
       "</style>\n",
       "<table border=\"1\" class=\"dataframe\">\n",
       "  <thead>\n",
       "    <tr style=\"text-align: right;\">\n",
       "      <th></th>\n",
       "      <th>Eski</th>\n",
       "      <th>Yeni</th>\n",
       "    </tr>\n",
       "  </thead>\n",
       "  <tbody>\n",
       "    <tr>\n",
       "      <th>0</th>\n",
       "      <td>19</td>\n",
       "      <td>39</td>\n",
       "    </tr>\n",
       "    <tr>\n",
       "      <th>1</th>\n",
       "      <td>21</td>\n",
       "      <td>33</td>\n",
       "    </tr>\n",
       "    <tr>\n",
       "      <th>2</th>\n",
       "      <td>21</td>\n",
       "      <td>38</td>\n",
       "    </tr>\n",
       "    <tr>\n",
       "      <th>3</th>\n",
       "      <td>24</td>\n",
       "      <td>37</td>\n",
       "    </tr>\n",
       "    <tr>\n",
       "      <th>4</th>\n",
       "      <td>26</td>\n",
       "      <td>40</td>\n",
       "    </tr>\n",
       "  </tbody>\n",
       "</table>\n",
       "</div>"
      ],
      "text/plain": [
       "   Eski  Yeni\n",
       "0    19    39\n",
       "1    21    33\n",
       "2    21    38\n",
       "3    24    37\n",
       "4    26    40"
      ]
     },
     "execution_count": 45,
     "metadata": {},
     "output_type": "execute_result"
    }
   ],
   "source": [
    "# eski sisteme A, yeni sisteme B diyelim :\n",
    "# eski sistemden 20 tane örneklem çekelim.\n",
    "A = pd.DataFrame(np.random.randint(18,37,size = 20))\n",
    "# Yeni sistemden 20 tane örneklem çekelim.\n",
    "B = pd.DataFrame(np.random.randint(22,44,size=20))\n",
    "A_B = pd.concat([A,B], axis=1)\n",
    "A_B.columns = [\"Eski\",\"Yeni\"]\n",
    "A_B.head()"
   ]
  },
  {
   "cell_type": "code",
   "execution_count": 47,
   "metadata": {},
   "outputs": [],
   "source": [
    "# Normallik varsayımı : \n",
    "# bu iki örneklem de eleman sayısı aynı :\n",
    "# iki örneklemde ayrı ayrı normallik testine sokulur."
   ]
  },
  {
   "cell_type": "code",
   "execution_count": 48,
   "metadata": {},
   "outputs": [
    {
     "data": {
      "text/plain": [
       "ShapiroResult(statistic=0.9207780361175537, pvalue=0.10256220400333405)"
      ]
     },
     "execution_count": 48,
     "metadata": {},
     "output_type": "execute_result"
    }
   ],
   "source": [
    "shapiro(A_B[\"Eski\"])\n",
    "# 1. örneklem için normallik olumlu. pvalue>0.05"
   ]
  },
  {
   "cell_type": "code",
   "execution_count": 49,
   "metadata": {},
   "outputs": [
    {
     "data": {
      "text/plain": [
       "ShapiroResult(statistic=0.9453175067901611, pvalue=0.3015366494655609)"
      ]
     },
     "execution_count": 49,
     "metadata": {},
     "output_type": "execute_result"
    }
   ],
   "source": [
    "shapiro(A_B[\"Yeni\"])\n",
    "# 2. örneklem içinde normallik testi olumlu yani pvalue>0.05"
   ]
  },
  {
   "cell_type": "code",
   "execution_count": 50,
   "metadata": {},
   "outputs": [
    {
     "data": {
      "text/plain": [
       "LeveneResult(statistic=0.5532548207583804, pvalue=0.46156551261446754)"
      ]
     },
     "execution_count": 50,
     "metadata": {},
     "output_type": "execute_result"
    }
   ],
   "source": [
    "# Varyans Homojenliği testi :\n",
    "sts.levene(A_B[\"Eski\"], A_B[\"Yeni\"])\n",
    "# pvalue değeri > 0.05 oldu Yani H0 hipotez testi reddilemez. Varyans Homojenliği varsayımı da olumlu"
   ]
  },
  {
   "cell_type": "code",
   "execution_count": 51,
   "metadata": {},
   "outputs": [
    {
     "data": {
      "text/plain": [
       "Ttest_indResult(statistic=-4.912459701809617, pvalue=1.7445290814908965e-05)"
      ]
     },
     "execution_count": 51,
     "metadata": {},
     "output_type": "execute_result"
    }
   ],
   "source": [
    "## Hipotez Testine Geçelim : \n",
    "sts.ttest_ind(A_B[\"Eski\"], A_B[\"Yeni\"], equal_var=True)\n",
    "# pvalue değeri < 0.05 çıktı yani yeni satışlar eski satışlara göre farklıdır."
   ]
  },
  {
   "cell_type": "raw",
   "metadata": {},
   "source": [
    "Elle yapalım : \n",
    "t_test = (orneklem1_ort - orneklem2_ort) - (sp*((2/n)**0.5))\n",
    "sp = (s1 + s2)/2 = 5.299\n",
    "\n",
    "A_B[\"Eski\"].mean() = 25\n",
    "A_B[\"Yeni\"].mean() = 33.25\n",
    "A_B[\"Eski\"].std() = 4.95\n",
    "A_B[\"Yeni\"].std() = 5.64\n",
    "t_test = (25-33.25) - (5.299*((2/20)**0.5)) = -9.92\n",
    "t_kritik = n-1 .inci satır = 19. satır 0.05/2 =0.025 .inci sutun => 2.093 değeri baz alınacak.\n",
    "t_test < t_kritik => -9.92 < -2.093 o zaman Ho hipotezi geçersiz olur ve Yeni sistem anlamlı bir şekilde farklıdır."
   ]
  },
  {
   "cell_type": "markdown",
   "metadata": {},
   "source": [
    "#### Bağımsız iki örneklem için Nonparametrik Testi :"
   ]
  },
  {
   "cell_type": "code",
   "execution_count": 63,
   "metadata": {},
   "outputs": [
    {
     "data": {
      "text/plain": [
       "MannwhitneyuResult(statistic=55.5, pvalue=4.730549252372165e-05)"
      ]
     },
     "execution_count": 63,
     "metadata": {},
     "output_type": "execute_result"
    }
   ],
   "source": [
    "sts.mannwhitneyu(A_B[\"Eski\"], A_B[\"Yeni\"])\n",
    "# burdada eski ve yeni arasında anlamlı bir fark olduğu ortaya çıkmıştır."
   ]
  },
  {
   "cell_type": "code",
   "execution_count": null,
   "metadata": {},
   "outputs": [],
   "source": []
  },
  {
   "cell_type": "markdown",
   "metadata": {},
   "source": [
    "### Bağımlı iki Örneklem Testi : "
   ]
  },
  {
   "cell_type": "raw",
   "metadata": {},
   "source": [
    "Aynı populasyon içinden alınan iki örneklem arasında yapılan Hipotez testleridir. örneğin : şirkette personellere pazarlama eğitimi veriliyor. Eğitim sonunda personellerin performansında bir artış veya bir azalış olup olmadığı test ediliyor.\n",
    "Normallik ve Varyans homojenliği varsayımı ile hipotez testine hazırlarız."
   ]
  },
  {
   "cell_type": "raw",
   "metadata": {},
   "source": [
    "Bir depertman bir konuda eğitim alıyor. Gerekli-gereksiz değerlendirmeleri neticesinde eğitim alınıyor. Eğitimden önce ve sonra olacak şekilde gerekli ölçümler yapılıyor. Eğitim sonrasında eğitimin sağladığı katma değer test edilmek isteniyor."
   ]
  },
  {
   "cell_type": "code",
   "execution_count": 65,
   "metadata": {},
   "outputs": [
    {
     "data": {
      "text/html": [
       "<div>\n",
       "<style scoped>\n",
       "    .dataframe tbody tr th:only-of-type {\n",
       "        vertical-align: middle;\n",
       "    }\n",
       "\n",
       "    .dataframe tbody tr th {\n",
       "        vertical-align: top;\n",
       "    }\n",
       "\n",
       "    .dataframe thead th {\n",
       "        text-align: right;\n",
       "    }\n",
       "</style>\n",
       "<table border=\"1\" class=\"dataframe\">\n",
       "  <thead>\n",
       "    <tr style=\"text-align: right;\">\n",
       "      <th></th>\n",
       "      <th>öncesi</th>\n",
       "      <th>sonrası</th>\n",
       "    </tr>\n",
       "  </thead>\n",
       "  <tbody>\n",
       "    <tr>\n",
       "      <th>0</th>\n",
       "      <td>115</td>\n",
       "      <td>138</td>\n",
       "    </tr>\n",
       "    <tr>\n",
       "      <th>1</th>\n",
       "      <td>117</td>\n",
       "      <td>123</td>\n",
       "    </tr>\n",
       "    <tr>\n",
       "      <th>2</th>\n",
       "      <td>122</td>\n",
       "      <td>120</td>\n",
       "    </tr>\n",
       "    <tr>\n",
       "      <th>3</th>\n",
       "      <td>122</td>\n",
       "      <td>127</td>\n",
       "    </tr>\n",
       "    <tr>\n",
       "      <th>4</th>\n",
       "      <td>102</td>\n",
       "      <td>124</td>\n",
       "    </tr>\n",
       "  </tbody>\n",
       "</table>\n",
       "</div>"
      ],
      "text/plain": [
       "   öncesi  sonrası\n",
       "0     115      138\n",
       "1     117      123\n",
       "2     122      120\n",
       "3     122      127\n",
       "4     102      124"
      ]
     },
     "execution_count": 65,
     "metadata": {},
     "output_type": "execute_result"
    }
   ],
   "source": [
    "oncesi_satıs = np.random.randint(100,123,size=36)\n",
    "sonrası_satis = np.random.randint(110,140,size=36)\n",
    "satis = pd.DataFrame({\"öncesi\":oncesi_satıs,\"sonrası\":sonrası_satis})\n",
    "satis.head()"
   ]
  },
  {
   "cell_type": "code",
   "execution_count": 66,
   "metadata": {},
   "outputs": [],
   "source": [
    "# normallik testi : "
   ]
  },
  {
   "cell_type": "code",
   "execution_count": 67,
   "metadata": {},
   "outputs": [
    {
     "data": {
      "text/plain": [
       "ShapiroResult(statistic=0.9395626187324524, pvalue=0.04923313483595848)"
      ]
     },
     "execution_count": 67,
     "metadata": {},
     "output_type": "execute_result"
    }
   ],
   "source": [
    "shapiro(satis[\"öncesi\"])\n",
    "# pvalue < 0.05 çıktı. yani dağılım normal dağılım değil"
   ]
  },
  {
   "cell_type": "code",
   "execution_count": 68,
   "metadata": {},
   "outputs": [
    {
     "data": {
      "text/plain": [
       "ShapiroResult(statistic=0.9176260232925415, pvalue=0.010728461667895317)"
      ]
     },
     "execution_count": 68,
     "metadata": {},
     "output_type": "execute_result"
    }
   ],
   "source": [
    "shapiro(satis[\"sonrası\"])\n",
    "# pvalue < 0.05 çıktı. yani dağılım normal dağılım değil.\n",
    "# iki örneklemde normal çıkmassa aykırı değişkenler kontrol edilir."
   ]
  },
  {
   "cell_type": "code",
   "execution_count": 69,
   "metadata": {},
   "outputs": [
    {
     "data": {
      "text/plain": [
       "LeveneResult(statistic=1.7974625845172052, pvalue=0.18435433301004575)"
      ]
     },
     "execution_count": 69,
     "metadata": {},
     "output_type": "execute_result"
    }
   ],
   "source": [
    "# varyans homojenliği : \n",
    "sts.levene(satis[\"öncesi\"], satis[\"sonrası\"])\n",
    "# pvalue değeri > 0.05 çıktı yani varyanları homojendir. "
   ]
  },
  {
   "cell_type": "code",
   "execution_count": 70,
   "metadata": {},
   "outputs": [
    {
     "data": {
      "text/plain": [
       "Ttest_relResult(statistic=-6.701181123882389, pvalue=9.317006328254213e-08)"
      ]
     },
     "execution_count": 70,
     "metadata": {},
     "output_type": "execute_result"
    }
   ],
   "source": [
    "# Hipotez testi : \n",
    "sts.ttest_rel(satis[\"öncesi\"], satis[\"sonrası\"])\n",
    "# pvalue değeri < 0.05 çıktı yani H1 hipotezi geçerlidir. önceki satışlar ile sonra ki satışlar arasında değişim verdır."
   ]
  },
  {
   "cell_type": "code",
   "execution_count": 71,
   "metadata": {},
   "outputs": [
    {
     "data": {
      "text/plain": [
       "WilcoxonResult(statistic=18.5, pvalue=1.8175567880512624e-06)"
      ]
     },
     "execution_count": 71,
     "metadata": {},
     "output_type": "execute_result"
    }
   ],
   "source": [
    "# Nonparametrik testi : \n",
    "# Eğer hipotez testi sağlanmassa yapılır. Biz görmek için yapıyoruz\n",
    "sts.wilcoxon(satis[\"öncesi\"], satis[\"sonrası\"])\n",
    "# nonparametrik testte de bağımlı 2 örneklem testinde H1 geçerlidir. Yani eğitim sonrası değişmeler olmuştur."
   ]
  },
  {
   "cell_type": "markdown",
   "metadata": {},
   "source": [
    "#### 2 örneklem için oran testi :"
   ]
  },
  {
   "cell_type": "code",
   "execution_count": 1,
   "metadata": {},
   "outputs": [],
   "source": [
    "# İki oran arasında karşılaştırma yapılır."
   ]
  },
  {
   "cell_type": "raw",
   "metadata": {},
   "source": [
    "z_test = (p1 - p2) / ((p*(1-p) * ((1/n1) + (1/n2)))**0.5)\n",
    "p1 = ilk örneklem oranı\n",
    "p2 = 2. örneklem oranı\n",
    "n1 = ilk örneklem sayısı\n",
    "n2 = 2. örneklem sayısı"
   ]
  },
  {
   "cell_type": "raw",
   "metadata": {},
   "source": [
    "Bir web sitemiz var. Web sitemizin tasarımında butonlardan birisinin butonu mavi, diğeri kırmızı renkte olacak. Biz hangi rengi kullanırsak müşterilerin daha çok o butona tıklayacağını oran ile araştırmamız istenmektedir. Ve elimizde ki verilerimizi inceliyoruz=> Mavi butonu 1000 kişi görmüş ve 300 kişi tıklamış, Kırmızı butonu 1100 kişi görmüş ve 250 kişi tıklamış. Bir hipotez testi yaparak bu butonlardan hangisini seçeceğimize karar verelim."
   ]
  },
  {
   "cell_type": "raw",
   "metadata": {},
   "source": [
    "Burda ilk adım olarak butonların oranlarını bulalım : \n",
    "mavi = 0.3\n",
    "kırmızı = 0.22\n",
    "yani mavinin oranı daha yüksek o halde hipotezlerimizi şimdi kurabiliriz:\n",
    "H0 : p1 = p2 => yani renkler arasında bir fark yoktur.\n",
    "H1 : p1!= p2 => yani renkler arasında tıklanma olarak fark vardır.\n",
    "\n",
    "z_kritik : %95 ile => 1-0.95 = 0.05, alfa değerimiz 0.05 olarak bulduk. Fark varmı diye sorduğu için 0.05/2 = 0.025 bulunur.\n",
    "1 - 0.025 = 0.975 => 1.96 yapar. \n",
    "\n",
    "((1/100) + (1/1100))**0.5 = 0.10\n",
    "((0.26)*(1-0.26))*0.10 = 0.019\n",
    "z_test = (0.3- 0.22) / 0.019 = 4.21\n",
    "\n",
    "farklı dediği için -1.96 ve +1.96 dan küçük ve büyük değerleri kapsaması lazım hipotez testi için => o zaman 4.21>1.96\n",
    "yani H1 hipotezi geçerlidir. Renkler arasında farklar vardır."
   ]
  },
  {
   "cell_type": "code",
   "execution_count": 16,
   "metadata": {},
   "outputs": [],
   "source": [
    "basari_sayisi = np.array([300,250])\n",
    "gozlem_sayisi = np.array([1000,1100])"
   ]
  },
  {
   "cell_type": "code",
   "execution_count": 17,
   "metadata": {},
   "outputs": [
    {
     "data": {
      "text/plain": [
       "(3.7857863233209255, 0.0001532232957772221)"
      ]
     },
     "execution_count": 17,
     "metadata": {},
     "output_type": "execute_result"
    }
   ],
   "source": [
    "proportions_ztest(count=basari_sayisi, nobs=gozlem_sayisi)\n",
    "# pvalue < 0.05 çıktı yani H1 hipotezi geçerlidir. renklere göre fark vardır."
   ]
  },
  {
   "cell_type": "code",
   "execution_count": null,
   "metadata": {},
   "outputs": [],
   "source": []
  },
  {
   "cell_type": "markdown",
   "metadata": {},
   "source": [
    "### Varyans Analizi :"
   ]
  },
  {
   "cell_type": "raw",
   "metadata": {},
   "source": [
    "2 den fazla grup olduğu zaman kullanılır. 2 yada daha fazla grup ortalaması arasında istatiksel bir fark olup olmadığını öğrenmek istediğimiz zaman kullanırız.\n",
    "H0 = tüm grupların ortalamaları eşittir.\n",
    "H1 = tüm grupların ortalamaları farklıdır.\n",
    "burdada pvalue değerleri üzerinden değerlendirilir.\n",
    "- Gözlemler birbirinden bağımsız olmak zorunda.\n",
    "- Normal Dağılımı kontrol edilir.\n",
    "- Varyans Homojenliği kontrol edilir."
   ]
  },
  {
   "cell_type": "raw",
   "metadata": {},
   "source": [
    "Web sitemiz var. Biz ziyaretçilerin anasayfa da oldukça uzun zaman geçirmelerini istiyoruz. Bizim bir haber sitemiz var. Anasayfamızda 3 tip haber uygulamasından birini seçmek isteriz. Bizde anasayfamızı ziyaret eden kulanıcıları 3 gruba ayırıyoruz. \n",
    "a-) 1. gruba haberler yorum katmadan =>  Doğal şeklide haber vermek\n",
    "b-) 2. gruba haberler ziyaretçileri yönlendirerek yani propaganda yaparak => Yönlendirici Haber vermek.\n",
    "c-) 3. gruba ise ilgi çekici yani ziyaretçilerin ilgisini çekmeye yönelik yani olayı oldukça abartılı başlıkla vermek."
   ]
  },
  {
   "cell_type": "code",
   "execution_count": 33,
   "metadata": {},
   "outputs": [
    {
     "data": {
      "text/plain": [
       "array([27, 36, 26, 27, 30, 31, 33, 40, 29, 40, 35, 31, 38, 34, 35, 27, 30,\n",
       "       37, 29, 35, 32, 25, 30, 40, 29])"
      ]
     },
     "execution_count": 33,
     "metadata": {},
     "output_type": "execute_result"
    }
   ],
   "source": [
    "np.random.randint(25,41,size=25)"
   ]
  },
  {
   "cell_type": "code",
   "execution_count": 43,
   "metadata": {},
   "outputs": [
    {
     "data": {
      "text/html": [
       "<div>\n",
       "<style scoped>\n",
       "    .dataframe tbody tr th:only-of-type {\n",
       "        vertical-align: middle;\n",
       "    }\n",
       "\n",
       "    .dataframe tbody tr th {\n",
       "        vertical-align: top;\n",
       "    }\n",
       "\n",
       "    .dataframe thead th {\n",
       "        text-align: right;\n",
       "    }\n",
       "</style>\n",
       "<table border=\"1\" class=\"dataframe\">\n",
       "  <thead>\n",
       "    <tr style=\"text-align: right;\">\n",
       "      <th></th>\n",
       "      <th>Grup_A</th>\n",
       "      <th>Grup_B</th>\n",
       "      <th>Grup_C</th>\n",
       "    </tr>\n",
       "  </thead>\n",
       "  <tbody>\n",
       "    <tr>\n",
       "      <th>0</th>\n",
       "      <td>29</td>\n",
       "      <td>30</td>\n",
       "      <td>27</td>\n",
       "    </tr>\n",
       "    <tr>\n",
       "      <th>1</th>\n",
       "      <td>32</td>\n",
       "      <td>37</td>\n",
       "      <td>36</td>\n",
       "    </tr>\n",
       "    <tr>\n",
       "      <th>2</th>\n",
       "      <td>26</td>\n",
       "      <td>35</td>\n",
       "      <td>26</td>\n",
       "    </tr>\n",
       "    <tr>\n",
       "      <th>3</th>\n",
       "      <td>35</td>\n",
       "      <td>36</td>\n",
       "      <td>27</td>\n",
       "    </tr>\n",
       "    <tr>\n",
       "      <th>4</th>\n",
       "      <td>35</td>\n",
       "      <td>37</td>\n",
       "      <td>30</td>\n",
       "    </tr>\n",
       "  </tbody>\n",
       "</table>\n",
       "</div>"
      ],
      "text/plain": [
       "   Grup_A  Grup_B  Grup_C\n",
       "0      29      30      27\n",
       "1      32      37      36\n",
       "2      26      35      26\n",
       "3      35      36      27\n",
       "4      35      37      30"
      ]
     },
     "execution_count": 43,
     "metadata": {},
     "output_type": "execute_result"
    }
   ],
   "source": [
    "# Grupları 3' böldük ve ve haberlere göre tıklanma sayılarını bir inceleyelim.\n",
    "A = pd.DataFrame([29, 32, 26, 35, 35, 26, 28, 35, 37, 34, 33, 37, 36, 26, 28, 32, 32,32, 34, 29])\n",
    "B = pd.DataFrame([30, 37, 35, 36, 37, 31, 25, 40, 40, 33, 35, 38, 40, 36, 31, 38, 37,36, 40, 28])\n",
    "C = pd.DataFrame([27, 36, 26, 27, 30, 31, 33, 40, 29, 40, 35, 31, 38, 34, 35, 27, 30,37, 29, 35])\n",
    "dfs = [A,B,C]\n",
    "ABC = pd.concat(dfs, axis=1)\n",
    "ABC.columns = [\"Grup_A\",\"Grup_B\",\"Grup_C\"]\n",
    "ABC.head()"
   ]
  },
  {
   "cell_type": "code",
   "execution_count": null,
   "metadata": {},
   "outputs": [],
   "source": []
  },
  {
   "cell_type": "code",
   "execution_count": 24,
   "metadata": {},
   "outputs": [],
   "source": [
    "# 1-) Normallik testi : \n",
    "from scipy.stats import shapiro"
   ]
  },
  {
   "cell_type": "code",
   "execution_count": 44,
   "metadata": {},
   "outputs": [
    {
     "data": {
      "text/plain": [
       "ShapiroResult(statistic=0.919156014919281, pvalue=0.09544820338487625)"
      ]
     },
     "execution_count": 44,
     "metadata": {},
     "output_type": "execute_result"
    }
   ],
   "source": [
    "shapiro(ABC[\"Grup_A\"])"
   ]
  },
  {
   "cell_type": "code",
   "execution_count": 45,
   "metadata": {},
   "outputs": [
    {
     "data": {
      "text/plain": [
       "ShapiroResult(statistic=0.9072599411010742, pvalue=0.0565292090177536)"
      ]
     },
     "execution_count": 45,
     "metadata": {},
     "output_type": "execute_result"
    }
   ],
   "source": [
    "shapiro(ABC[\"Grup_B\"])"
   ]
  },
  {
   "cell_type": "code",
   "execution_count": 46,
   "metadata": {},
   "outputs": [
    {
     "data": {
      "text/plain": [
       "ShapiroResult(statistic=0.9431585669517517, pvalue=0.274912565946579)"
      ]
     },
     "execution_count": 46,
     "metadata": {},
     "output_type": "execute_result"
    }
   ],
   "source": [
    "shapiro(ABC[\"Grup_C\"])"
   ]
  },
  {
   "cell_type": "code",
   "execution_count": null,
   "metadata": {},
   "outputs": [],
   "source": [
    "# tüm değerler 0.05 ten büyük şimdi varyans homojenliği testine geçebiliriz. dağılımlar normaldir diyen normallik testi sağlandı"
   ]
  },
  {
   "cell_type": "code",
   "execution_count": 29,
   "metadata": {},
   "outputs": [],
   "source": [
    "import scipy.stats as sts"
   ]
  },
  {
   "cell_type": "code",
   "execution_count": 47,
   "metadata": {},
   "outputs": [
    {
     "data": {
      "text/plain": [
       "LeveneResult(statistic=0.6328472755180351, pvalue=0.534767425028235)"
      ]
     },
     "execution_count": 47,
     "metadata": {},
     "output_type": "execute_result"
    }
   ],
   "source": [
    "# 2-) Varyans Homojenliği testi : \n",
    "sts.levene(ABC[\"Grup_A\"], ABC[\"Grup_B\"], ABC[\"Grup_C\"])\n",
    "# p value değeri > 0.05 ten büyük çıktı. varyansalar homojendir hipotezi sağlandı."
   ]
  },
  {
   "cell_type": "code",
   "execution_count": 48,
   "metadata": {},
   "outputs": [
    {
     "data": {
      "text/plain": [
       "F_onewayResult(statistic=3.659367771781034, pvalue=0.03197530499074155)"
      ]
     },
     "execution_count": 48,
     "metadata": {},
     "output_type": "execute_result"
    }
   ],
   "source": [
    "# 3-) Hipotez testleri : \n",
    "sts.f_oneway(ABC[\"Grup_A\"], ABC[\"Grup_B\"], ABC[\"Grup_C\"])\n",
    "# p value değeri < 0.05 çıktı yani H1 hipotezi geçerlidir. Yani 3 grubun tıklanma oranları farklıdır."
   ]
  },
  {
   "cell_type": "code",
   "execution_count": 49,
   "metadata": {},
   "outputs": [
    {
     "data": {
      "text/html": [
       "<div>\n",
       "<style scoped>\n",
       "    .dataframe tbody tr th:only-of-type {\n",
       "        vertical-align: middle;\n",
       "    }\n",
       "\n",
       "    .dataframe tbody tr th {\n",
       "        vertical-align: top;\n",
       "    }\n",
       "\n",
       "    .dataframe thead th {\n",
       "        text-align: right;\n",
       "    }\n",
       "</style>\n",
       "<table border=\"1\" class=\"dataframe\">\n",
       "  <thead>\n",
       "    <tr style=\"text-align: right;\">\n",
       "      <th></th>\n",
       "      <th>count</th>\n",
       "      <th>mean</th>\n",
       "      <th>std</th>\n",
       "      <th>min</th>\n",
       "      <th>25%</th>\n",
       "      <th>50%</th>\n",
       "      <th>75%</th>\n",
       "      <th>max</th>\n",
       "    </tr>\n",
       "  </thead>\n",
       "  <tbody>\n",
       "    <tr>\n",
       "      <th>Grup_A</th>\n",
       "      <td>20.0</td>\n",
       "      <td>31.80</td>\n",
       "      <td>3.693522</td>\n",
       "      <td>26.0</td>\n",
       "      <td>28.75</td>\n",
       "      <td>32.0</td>\n",
       "      <td>35.00</td>\n",
       "      <td>37.0</td>\n",
       "    </tr>\n",
       "    <tr>\n",
       "      <th>Grup_B</th>\n",
       "      <td>20.0</td>\n",
       "      <td>35.15</td>\n",
       "      <td>4.246051</td>\n",
       "      <td>25.0</td>\n",
       "      <td>32.50</td>\n",
       "      <td>36.0</td>\n",
       "      <td>38.00</td>\n",
       "      <td>40.0</td>\n",
       "    </tr>\n",
       "    <tr>\n",
       "      <th>Grup_C</th>\n",
       "      <td>20.0</td>\n",
       "      <td>32.50</td>\n",
       "      <td>4.418859</td>\n",
       "      <td>26.0</td>\n",
       "      <td>29.00</td>\n",
       "      <td>32.0</td>\n",
       "      <td>35.25</td>\n",
       "      <td>40.0</td>\n",
       "    </tr>\n",
       "  </tbody>\n",
       "</table>\n",
       "</div>"
      ],
      "text/plain": [
       "        count   mean       std   min    25%   50%    75%   max\n",
       "Grup_A   20.0  31.80  3.693522  26.0  28.75  32.0  35.00  37.0\n",
       "Grup_B   20.0  35.15  4.246051  25.0  32.50  36.0  38.00  40.0\n",
       "Grup_C   20.0  32.50  4.418859  26.0  29.00  32.0  35.25  40.0"
      ]
     },
     "execution_count": 49,
     "metadata": {},
     "output_type": "execute_result"
    }
   ],
   "source": [
    "ABC.describe().T\n",
    "# B grubuna daha fazla tıklanma olmuş"
   ]
  },
  {
   "cell_type": "code",
   "execution_count": 50,
   "metadata": {},
   "outputs": [
    {
     "data": {
      "text/plain": [
       "KruskalResult(statistic=7.488125139852295, pvalue=0.0236577961856097)"
      ]
     },
     "execution_count": 50,
     "metadata": {},
     "output_type": "execute_result"
    }
   ],
   "source": [
    "# 4-) Nanparametrik Hipotez testi : \n",
    "# diyelim ki Normallik ve Varyans homojenliği varsayımlarımız sağlanmadı.\n",
    "sts.kruskal(ABC[\"Grup_A\"], ABC[\"Grup_B\"], ABC[\"Grup_C\"])\n",
    "# p value değeri < 0.05 çıktı yani H1 hipotezi geçerlidir. Yani gruplar arasında farklılık vardır diyen H1 kabul edilir."
   ]
  },
  {
   "cell_type": "code",
   "execution_count": null,
   "metadata": {},
   "outputs": [],
   "source": []
  },
  {
   "cell_type": "markdown",
   "metadata": {},
   "source": [
    "### Korelasyon analizi : "
   ]
  },
  {
   "cell_type": "raw",
   "metadata": {},
   "source": [
    "Değişkenler arasında ki ilişki ve bu ilişkinin şiddetini inceler. -1 <= p <= 1 arasında değerler alır. örneğin rekllam harcamaları arttıkça satışlarda artar. aralarında pozitif yönlü bir ilişki vardır. Bu bölümle bulduğumuz korelasyonu test edeceğiz.\n",
    "\n",
    "- Normallik testi yapılır. \n",
    "- Varsayım sağlanırsa Pearson Korelayon katsayısı, sağlanmassa Spearmean katsayısı kullanılır."
   ]
  },
  {
   "cell_type": "raw",
   "metadata": {},
   "source": [
    "Restorantımız var. Verilen bahşiş ile ödenen hesap arasında bir ilişki var mı? bunu incelemek isteriz."
   ]
  },
  {
   "cell_type": "code",
   "execution_count": 52,
   "metadata": {},
   "outputs": [],
   "source": [
    "df = sns.load_dataset(\"tips\")"
   ]
  },
  {
   "cell_type": "raw",
   "metadata": {},
   "source": [
    "veri setimiz de yemeğin toplam fiyatı olan total_bill değişkeninin içinde = Bahşiş ve vergi oranlarıda dahildir. \n",
    "Bu problemi çözmek için total_bill içinden tip çıkarılır. Bize bahşiş ve hesap arasında ki ilişkiyi sormaktadır."
   ]
  },
  {
   "cell_type": "code",
   "execution_count": 53,
   "metadata": {},
   "outputs": [],
   "source": [
    "df[\"total_bill\"] = df[\"total_bill\"] - df[\"tip\"]"
   ]
  },
  {
   "cell_type": "code",
   "execution_count": 55,
   "metadata": {},
   "outputs": [
    {
     "data": {
      "image/png": "[encoded data removed]",
      "text/plain": [
       "<Figure size 432x288 with 1 Axes>"
      ]
     },
     "metadata": {
      "needs_background": "light"
     },
     "output_type": "display_data"
    }
   ],
   "source": [
    "sns.scatterplot(x=\"tip\",y=\"total_bill\", data=df);\n",
    "# grafiğe bakarak birbirleri arasında pozitif yönlü bir artış olduğunu gördük."
   ]
  },
  {
   "cell_type": "code",
   "execution_count": 56,
   "metadata": {},
   "outputs": [
    {
     "data": {
      "text/plain": [
       "0.5766634471096381"
      ]
     },
     "execution_count": 56,
     "metadata": {},
     "output_type": "execute_result"
    }
   ],
   "source": []
  },
  {
   "cell_type": "code",
   "execution_count": 57,
   "metadata": {},
   "outputs": [],
   "source": [
    "# 1-) Normallik testi shapiro"
   ]
  },
  {
   "cell_type": "code",
   "execution_count": 58,
   "metadata": {},
   "outputs": [
    {
     "data": {
      "text/plain": [
       "ShapiroResult(statistic=0.9135652184486389, pvalue=1.1060377613780759e-10)"
      ]
     },
     "execution_count": 58,
     "metadata": {},
     "output_type": "execute_result"
    }
   ],
   "source": [
    "shapiro(df[\"total_bill\"])\n",
    "# normal dağılım değildir. pvale<0.05"
   ]
  },
  {
   "cell_type": "code",
   "execution_count": 59,
   "metadata": {},
   "outputs": [
    {
     "data": {
      "text/plain": [
       "ShapiroResult(statistic=0.897811233997345, pvalue=8.20057563521992e-12)"
      ]
     },
     "execution_count": 59,
     "metadata": {},
     "output_type": "execute_result"
    }
   ],
   "source": [
    "shapiro(df[\"tip\"])\n",
    "# normal dağılım değildir. pvalue < 0.05"
   ]
  },
  {
   "cell_type": "code",
   "execution_count": 61,
   "metadata": {},
   "outputs": [],
   "source": [
    "# 2-) Hipotez Testi : "
   ]
  },
  {
   "cell_type": "code",
   "execution_count": 62,
   "metadata": {},
   "outputs": [
    {
     "data": {
      "text/plain": [
       "0.5766634471096381"
      ]
     },
     "execution_count": 62,
     "metadata": {},
     "output_type": "execute_result"
    }
   ],
   "source": [
    "# ilk önce pearson korelasyon katsayımızı bulalım :\n",
    "df[\"total_bill\"].corr(df[\"tip\"])\n",
    "# aralarında 0.57 yani pozitif yönlü bir korelasyon var.  ama normallik testinde normallik sağlanmadı. o zaman spearman hesapla"
   ]
  },
  {
   "cell_type": "code",
   "execution_count": 63,
   "metadata": {},
   "outputs": [
    {
     "data": {
      "text/plain": [
       "0.593691939408997"
      ]
     },
     "execution_count": 63,
     "metadata": {},
     "output_type": "execute_result"
    }
   ],
   "source": [
    "# spearman :\n",
    "df[\"total_bill\"].corr(df[\"tip\"], method=\"spearman\")\n",
    "# pozitif yönlü orta şiddette bir korelasyon var. "
   ]
  },
  {
   "cell_type": "code",
   "execution_count": 64,
   "metadata": {},
   "outputs": [
    {
     "data": {
      "text/plain": [
       "(0.5766634471096381, 5.018290084948419e-23)"
      ]
     },
     "execution_count": 64,
     "metadata": {},
     "output_type": "execute_result"
    }
   ],
   "source": [
    "sts.pearsonr(df[\"total_bill\"], df[\"tip\"])\n",
    "# pvalue değeri < 0.05 çıktı yani H0 geçersiz oldu. 2 değişken arasında ilişki var demekti."
   ]
  },
  {
   "cell_type": "code",
   "execution_count": 65,
   "metadata": {},
   "outputs": [
    {
     "data": {
      "text/plain": [
       "SpearmanrResult(correlation=0.593691939408997, pvalue=1.2452285137560276e-24)"
      ]
     },
     "execution_count": 65,
     "metadata": {},
     "output_type": "execute_result"
    }
   ],
   "source": [
    "sts.spearmanr(df[\"total_bill\"], df[\"tip\"])\n",
    "# eğer pearsor sağlanmasaydı bunu yapacaktı. test sonucunda pvalue < 0.05 çıkar. H1 geçerli olmaktadır. \n",
    "# 2 değişken arasında ilişki var demekti."
   ]
  },
  {
   "cell_type": "code",
   "execution_count": null,
   "metadata": {},
   "outputs": [],
   "source": []
  },
  {
   "cell_type": "code",
   "execution_count": null,
   "metadata": {},
   "outputs": [],
   "source": []
  },
  {
   "cell_type": "code",
   "execution_count": null,
   "metadata": {},
   "outputs": [],
   "source": []
  },
  {
   "cell_type": "code",
   "execution_count": null,
   "metadata": {},
   "outputs": [],
   "source": []
  }
 ],
 "metadata": {
  "kernelspec": {
   "display_name": "Python 3",
   "language": "python",
   "name": "python3"
  },
  "language_info": {
   "codemirror_mode": {
    "name": "ipython",
    "version": 3
   },
   "file_extension": ".py",
   "mimetype": "text/x-python",
   "name": "python",
   "nbconvert_exporter": "python",
   "pygments_lexer": "ipython3",
   "version": "3.8.5"
  }
 },
 "nbformat": 4,
 "nbformat_minor": 4
}
