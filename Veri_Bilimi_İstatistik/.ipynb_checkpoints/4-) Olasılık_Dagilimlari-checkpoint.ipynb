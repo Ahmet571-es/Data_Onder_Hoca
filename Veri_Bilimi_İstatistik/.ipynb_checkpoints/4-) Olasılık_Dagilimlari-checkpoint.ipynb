{
 "cells": [
  {
   "cell_type": "markdown",
   "metadata": {},
   "source": [
    "## Olasılık Dağılımları :"
   ]
  },
  {
   "cell_type": "markdown",
   "metadata": {},
   "source": [
    "### 1-) Kesikli Olasılık Dağılımları : "
   ]
  },
  {
   "cell_type": "markdown",
   "metadata": {},
   "source": [
    "##### a-) Binom dağılım : "
   ]
  },
  {
   "cell_type": "raw",
   "metadata": {},
   "source": [
    "Bir olasılık deneyinde sonuç olarak sadece 2 olası sonuç varsa buna bernoulli deneyi denir. Örneğin bir madeni para atma sonucunda yazı veya tura gelebilir. Örneğin bir hastanın iyileşme veya iyileşmeme ihtimali. yani sonucunda sadece 2 olası sonuç vardır. Eğer 1 kere deney yapılırsa yani deney sayısı 1, ve olası sonucu 2 ise bernoullidir. yani madeni parayı 1 kez atmak.\n",
    "Eğer olası sonuç, 2 deney sayısı n ise binomdur. Binom dağılımının temel hedefi n defada x başarı hesaplamada kullanılır. Binom dağılımında her seferinde 2 olası sonuç olduğundan dolayı :\n",
    "\n",
    "n defada x başarı \n",
    "p : başarı yani istenen olasılık\n",
    "q : başarısızlık yani istenen olasılığı zıttı\n",
    "\n",
    "binom formulu : \n",
    "\n",
    "(n nin x li kombinasyonu) * (p**x) * (q**(n - x)) "
   ]
  },
  {
   "cell_type": "raw",
   "metadata": {},
   "source": [
    "Soru : Bir para 7 kez atılıyor. 3 kez yazı gelme olasılığı nedir? \n",
    "\n",
    "p = 1/2 => yazı gelme olasılığı tek atımda %50 dir.\n",
    "q = 1/2 => yazı gelmeme olasılığı tek atımda %50 dir.\n",
    "\n",
    "(7 nin 3 lü kombinasyonu) * ((1/2)**3) * ((1/2)**4)"
   ]
  },
  {
   "cell_type": "code",
   "execution_count": 1,
   "metadata": {},
   "outputs": [],
   "source": [
    "from math import factorial"
   ]
  },
  {
   "cell_type": "code",
   "execution_count": 2,
   "metadata": {},
   "outputs": [
    {
     "data": {
      "text/plain": [
       "0.2734375"
      ]
     },
     "execution_count": 2,
     "metadata": {},
     "output_type": "execute_result"
    }
   ],
   "source": [
    "factorial(7) / (factorial(7-3) * factorial(3)) * ((1/2)**3) * ((1/2)**4)\n",
    "# yüzde 27 dir. 7 kez atmada 3 kez yazı gelme olasılığı = %27"
   ]
  },
  {
   "cell_type": "code",
   "execution_count": 4,
   "metadata": {},
   "outputs": [],
   "source": [
    "import numpy as np\n",
    "import pandas as pd\n",
    "from scipy.stats import binom"
   ]
  },
  {
   "cell_type": "code",
   "execution_count": 5,
   "metadata": {},
   "outputs": [
    {
     "name": "stdout",
     "output_type": "stream",
     "text": [
      "7 kez atılan madeni paranın 3 kez yazı gelme olasılığı  0.27343750000000017\n"
     ]
    }
   ],
   "source": [
    "p = 1/2\n",
    "q = 1/2\n",
    "n = 7\n",
    "rv = binom(7,p)\n",
    "print(\"7 kez atılan madeni paranın 3 kez yazı gelme olasılığı \", rv.pmf(3))"
   ]
  },
  {
   "cell_type": "raw",
   "metadata": {},
   "source": [
    "Soru : Bir hastanede bir hastalıktan iyileşme olasılığı = 0.07 dir. Hastaneye bu hastalıktan gelen 10 kişinin : "
   ]
  },
  {
   "cell_type": "code",
   "execution_count": 15,
   "metadata": {},
   "outputs": [
    {
     "name": "stdout",
     "output_type": "stream",
     "text": [
      "formül ile yapılan hesaplama sonucunda 10 hastadan 2 sinin iyileşme olasılığı = %  12.338778903114141 dir\n",
      "python ile yaptığımız hesaplama sonucunda 10 hastadan 2 sinin iyileşme olasılığı yüzde =  12.338778903114138 dir.\n"
     ]
    }
   ],
   "source": [
    "# a-) 2 tanesinin iyileşme olasılığı?\n",
    "p = 0.07\n",
    "q = 0.93  # 1-0.07\n",
    "n = 10\n",
    "x = factorial(10) / (factorial(10-2) * factorial(2)) * ((0.07)**2) * ((0.93)**8)\n",
    "print(\"formül ile yapılan hesaplama sonucunda 10 hastadan 2 sinin iyileşme olasılığı = % \", (x)*100, \"dir\")\n",
    "\n",
    "# python ile :\n",
    "rv = binom(n,p)\n",
    "print(\"python ile yaptığımız hesaplama sonucunda 10 hastadan 2 sinin iyileşme olasılığı yüzde = \", rv.pmf(2)*100, \"dir.\")"
   ]
  },
  {
   "cell_type": "code",
   "execution_count": 17,
   "metadata": {},
   "outputs": [
    {
     "name": "stdout",
     "output_type": "stream",
     "text": [
      "formül ile yapılan hesaplama sonucunda 10 hastadan en fazla 2 sinin iyileşme olasılığı = %  97.16578543023762 dir\n",
      "python ile yaptığımız hesaplama sonucunda 10 hastadan en fazla 2 sinin iyileşme olasılığı = %  97.1657854302376 dür\n"
     ]
    }
   ],
   "source": [
    "# b-) en fazla 2 tanesinin iyileşme olasılığı?\n",
    "p = 0.07\n",
    "q = 0.93  # 1-0.07\n",
    "n = 10\n",
    "# yani hiç iyileşmeme + 1 hasta iyileşmesi + 2 hasta iyileşmesi\n",
    "a = factorial(10) / (factorial(10-0) * factorial(0)) * ((0.07)**0) * ((0.93)**10)\n",
    "b = factorial(10) / (factorial(10-1) * factorial(1)) * ((0.07)**1) * ((0.93)**9)\n",
    "c = factorial(10) / (factorial(10-2) * factorial(2)) * ((0.07)**2) * ((0.93)**8)\n",
    "print(\"formül ile yapılan hesaplama sonucunda 10 hastadan en fazla 2 sinin iyileşme olasılığı = % \", (a+b+c)*100, \"dir\")\n",
    "\n",
    "# python ile yapalım : \n",
    "rv = binom(n,p)\n",
    "x = rv.pmf(0) + rv.pmf(1) + rv.pmf(2)\n",
    "print(\"python ile yaptığımız hesaplama sonucunda 10 hastadan en fazla 2 sinin iyileşme olasılığı = % \", (x)*100, \"dir\")"
   ]
  },
  {
   "cell_type": "code",
   "execution_count": 18,
   "metadata": {},
   "outputs": [
    {
     "name": "stdout",
     "output_type": "stream",
     "text": [
      "formül ile yapılan hesaplama sonucunda 10 hastadan en fazla 2 sinin iyileşme olasılığı = %  2.834214569762376 dir\n",
      "python ile yaptığımız hesaplama sonucunda 10 hastadan en fazla 2 sinin iyileşme olasılığı = %  2.8342145697623904 dir\n"
     ]
    }
   ],
   "source": [
    "# c-) en az 3 tanesinin iyileşme olasılığı?\n",
    "p = 0.07\n",
    "q = 0.93  # 1-0.07\n",
    "n = 10\n",
    "# yani 3 hasta + 4 hasta + .... + 10 hasta => 1 den en fazla 2 hastanın iyileşme olasılığını çıkarıp buluruz.\n",
    "a = factorial(10) / (factorial(10-0) * factorial(0)) * ((0.07)**0) * ((0.93)**10)\n",
    "b = factorial(10) / (factorial(10-1) * factorial(1)) * ((0.07)**1) * ((0.93)**9)\n",
    "c = factorial(10) / (factorial(10-2) * factorial(2)) * ((0.07)**2) * ((0.93)**8)\n",
    "print(\"formül ile yapılan hesaplama sonucunda 10 hastadan en fazla 2 sinin iyileşme olasılığı = % \", (1-a-b-c)*100, \"dir\")\n",
    "\n",
    "# python ile yapalım : \n",
    "rv = binom(n,p)\n",
    "x = 1 -rv.pmf(0) - rv.pmf(1) - rv.pmf(2)\n",
    "print(\"python ile yaptığımız hesaplama sonucunda 10 hastadan en fazla 2 sinin iyileşme olasılığı = % \", (x)*100, \"dir\")"
   ]
  },
  {
   "cell_type": "code",
   "execution_count": 25,
   "metadata": {},
   "outputs": [
    {
     "name": "stdout",
     "output_type": "stream",
     "text": [
      "tek kişinin tıklama olasılığı = %  0.36972963764971983\n",
      "en az 5 kişinin tıklama olasılığı = %  0.0034323215877645197\n",
      "10 kişinin tıklama olasılığı =  7.006035693977161e-08\n"
     ]
    }
   ],
   "source": [
    "# Sitemize bir reklam koymak istiyoruz. Biz bu reklamın tıklanma olasılığını hesaplamak istiyoruz. Çünkü ona göre reklam \n",
    "# alacağım :\n",
    "# Dağılım binom dağılım olduğu çıkarımı yapılıyor. Çünkü reklama ya tıklarsın, ya da tıklamassın. \n",
    "# reklama tıklama olasılığı = 0.01 olduğu biliniyor.\n",
    "# Bu reklamı 100 kişi gördüğünde bu 100 kişi içinden 1 kişinin, en az 5 kişinin ve 10 kişinin tıklama olasılığı?\n",
    "p = 0.01\n",
    "n = 100\n",
    "rv = binom(n,p)\n",
    "print(\"tek kişinin tıklama olasılığı = % \", rv.pmf(1))\n",
    "# en az 5 kişi demek 5 + 6 +...+100 => o zaman en fazla 4 kişinin tıklama olasığını 1 den çıkarırsam bulurum.\n",
    "a = 1 - (rv.pmf(0) + rv.pmf(1) + rv.pmf(2) + rv.pmf(3) + rv.pmf(4))\n",
    "print(\"en az 5 kişinin tıklama olasılığı = % \", a)\n",
    "# 10 kişinin tıklama olasılığı : \n",
    "print(\"10 kişinin tıklama olasılığı = \", rv.pmf(10))"
   ]
  },
  {
   "cell_type": "code",
   "execution_count": null,
   "metadata": {},
   "outputs": [],
   "source": []
  },
  {
   "cell_type": "markdown",
   "metadata": {},
   "source": [
    "#### b-) Poisson Dağılımı : "
   ]
  },
  {
   "cell_type": "raw",
   "metadata": {},
   "source": [
    "Belirli bir zaman aralığında belirli bir alanda nadiren rastlanan olayların olasılıklarını hesaplamak için kullanılır. Örneğin bir kavşakta meydana gelen kaza olasılığı veya ormanlık alanda çıkan yangın olasılığı vb... Belli bir zaman dilimi veya belli bir bölge için bize gerçekleşme ortalaması vermelidir. Biz bu ortalamaya lambda deriz. \n",
    "\n",
    "Örneğin : Beşiktaş ilçesinde 3 aylık sürede yangın ortalaması 7 dir. \n",
    "lambda = 7 \n",
    "x = istenen olayın olasılık adedi\n",
    "e = euler sayısı\n",
    "formül : \n",
    "((lambda**x) * (e**-lambda))/x! "
   ]
  },
  {
   "cell_type": "code",
   "execution_count": 27,
   "metadata": {},
   "outputs": [],
   "source": [
    "from scipy.stats import poisson"
   ]
  },
  {
   "cell_type": "raw",
   "metadata": {},
   "source": [
    "Soru : Belli bir kavşakta 4 aylık sürede kaza ortalaması 6 dır. "
   ]
  },
  {
   "cell_type": "code",
   "execution_count": 31,
   "metadata": {},
   "outputs": [
    {
     "name": "stdout",
     "output_type": "stream",
     "text": [
      "formul ile 4 aylık sürede 7 kaza olma olasılığı =  0.1402208098267712\n",
      "python ile yapılan hesaplama sonucunda 4 ayda 7 kaza olma olasılığı =  0.1376769780411257\n"
     ]
    }
   ],
   "source": [
    "# a-) bu kavşakta gelecek 4 ayda 7 kaza olma olasılığı kaçtır?\n",
    "x = 7\n",
    "lambda_ = 6 # çünkü soruda 4 aylık sürede kaza ort 6 \n",
    "# formül ile : \n",
    "# ((lambda**x) * (e**-lambda))/x! \n",
    "formul = ((6**7) * (2.71**-6))/factorial(7) \n",
    "print(\"formul ile 4 aylık sürede 7 kaza olma olasılığı = \", formul)\n",
    "rv = poisson(mu = lambda_)\n",
    "print(\"python ile yapılan hesaplama sonucunda 4 ayda 7 kaza olma olasılığı = \", rv.pmf(7))"
   ]
  },
  {
   "cell_type": "code",
   "execution_count": 32,
   "metadata": {},
   "outputs": [
    {
     "name": "stdout",
     "output_type": "stream",
     "text": [
      "formul ile 4 aylık sürede kaza olma olasılığı =  0.0624176887559088\n",
      "python ile yapılan hesaplama sonucunda 4 ayda kaza olma olasılığı =  0.06072687934595293\n"
     ]
    }
   ],
   "source": [
    "# b-) bu kavşakta gelecek 6 ayda 5 kaza olma olasılığı kaçtır?\n",
    "x = 5\n",
    "lambda_ = 9  # 4 ayda 6 kaza ise 6 ayda 36/4 = 9 kaza \n",
    "# formül ile : \n",
    "# ((lambda**x) * (e**-lambda))/x! \n",
    "formul = ((9**5) * (2.71**-9))/factorial(5) \n",
    "print(\"formul ile 4 aylık sürede kaza olma olasılığı = \", formul)\n",
    "rv = poisson(mu = lambda_)\n",
    "print(\"python ile yapılan hesaplama sonucunda 4 ayda 5 kaza olma olasılığı = \", rv.pmf(5))"
   ]
  },
  {
   "cell_type": "code",
   "execution_count": 35,
   "metadata": {},
   "outputs": [
    {
     "name": "stdout",
     "output_type": "stream",
     "text": [
      "formul ile 1 yıllık sürede en az 2 kaza olma olasılığı =  0.9999996942923087\n",
      "python ile yapılan hesaplama sonucunda 1 yılda en az 2 kaza olma olasılığı =  0.9999997106303848\n"
     ]
    }
   ],
   "source": [
    "# c-) bu kavşakta gelecek 1 yılda en az 2 kaza olma olasılığı kaçtır?\n",
    "lambda_ = 18  # 4 ayda 6 kaza ise 12 ayda 72/4 = 18 kaza \n",
    "# formül ile : \n",
    "# ((lambda**x) * (e**-lambda))/x! \n",
    "# en az 2 kaza dediği için 2 + 3+ 4+ .... + n tane kazayı hesaplamam gerekir. o zaman en çok 1 kaza olma ihtimalinden 1 çıkarılır.\n",
    "a_zero = ((18**0) * (2.71**-18))/ factorial(0)\n",
    "a_one = ((18**1) * (2.71**-18))/factorial(1)\n",
    "print(\"formul ile 1 yıllık sürede en az 2 kaza olma olasılığı = \", 1-a_zero-a_one)\n",
    "rv = poisson(mu = lambda_)\n",
    "print(\"python ile yapılan hesaplama sonucunda 1 yılda en az 2 kaza olma olasılığı = \", 1 - rv.pmf(0) - rv.pmf(1))"
   ]
  },
  {
   "cell_type": "code",
   "execution_count": 36,
   "metadata": {},
   "outputs": [
    {
     "name": "stdout",
     "output_type": "stream",
     "text": [
      "formul ile 8 aylık sürede en fazla 3 kaza olma olasılığı =  1.8551629895579705e-05\n",
      "python ile yapılan hesaplama sonucunda 8 aylık en fazla 3 kaza olma olasılığı =  0.0022917912077914243\n"
     ]
    }
   ],
   "source": [
    "# d-) bu kavşakta gelecek 8 aylık sürede en fazla 3 kaza olma olasılığı kaçtır?\n",
    "lambda_ = 12  # 4 ayda 6 kaza ise 8 ayda 48/4 = 12 kaza \n",
    "# formül ile : \n",
    "# ((lambda**x) * (e**-lambda))/x! \n",
    "# en fazla 3 kaza dediği için 0+1+2+3 tane kazayı hesaplamam gerekir. o zaman en çok 1 kaza olma ihtimalinden 1 çıkarılır.\n",
    "a_zero = ((18**0) * (2.71**-18))/ factorial(0)\n",
    "a_one = ((18**1) * (2.71**-18))/factorial(1)\n",
    "a_two = ((18**2) * (2.71**-18))/factorial(2)\n",
    "a_theree = ((18**3) * (2.71**-18))/factorial(3)\n",
    "print(\"formul ile 8 aylık sürede en fazla 3 kaza olma olasılığı = \", a_zero+a_one+a_two+a_theree)\n",
    "rv = poisson(mu = lambda_)\n",
    "toplam = rv.pmf(0) + rv.pmf(1) + rv.pmf(2) + rv.pmf(3)\n",
    "print(\"python ile yapılan hesaplama sonucunda 8 aylık en fazla 3 kaza olma olasılığı = \", toplam)"
   ]
  },
  {
   "cell_type": "code",
   "execution_count": null,
   "metadata": {},
   "outputs": [],
   "source": []
  },
  {
   "cell_type": "markdown",
   "metadata": {},
   "source": [
    "### 2-) Sürekli olasılık : "
   ]
  },
  {
   "cell_type": "markdown",
   "metadata": {},
   "source": [
    "#### Normal Dağılım : "
   ]
  },
  {
   "cell_type": "raw",
   "metadata": {},
   "source": [
    "En fazla kullanılan dağılım çeşididir. İntegral alınarak hesaplanır. fakat normal standart dağılımda z tablo verilerini kullanırız. Biz normal dağılımda yapacağımız olasılık hesabını normal standart sapma formatına getiririz. Yani ortalaması 0 olan normal dağılım formatına getiririz. Normal dağılım sürekli bir olasılıktır. yani araştıracağımız olasılık sürekli olan bir olaylar silsilesidir. Örneğin : bir kavşaktan araçların geçmesi, günlük yemek yeme durumumuz vb... burda integral ile alan hesabı yapılarak bulunur. ama buna gerek yoktur. z tablosu ile alan belirlenir."
   ]
  },
  {
   "cell_type": "raw",
   "metadata": {},
   "source": [
    "x = istenen olasılık \n",
    "M = ortalama \n",
    "s = standart sapma \n",
    "z = (x - M)/s => bu formülle standart normal simetrik dağılım haline getirilir. sonra z değeri için z tablosuna gidilir ve çıkan sonucu barındıran satır bulunur. sonrasında . nın 2 sonrasına denk gelen elemanın sutun değeri bulunur ve 2 sinin kesişimi alınır. Bize z tablosunda negatif değerde küçük olan kısmı, pozitif olan değerde de küçük olan kısmı alanı verir."
   ]
  },
  {
   "cell_type": "raw",
   "metadata": {},
   "source": [
    "Soru : X rastgele değişkenine ait olasılık dağılımının normal dağılıma sahip olduğu bilinmektedir. Bu olasılık dağılımının ortalaması = 10, standart sapması 2 dir. "
   ]
  },
  {
   "cell_type": "code",
   "execution_count": 38,
   "metadata": {},
   "outputs": [],
   "source": [
    "from scipy.stats import norm"
   ]
  },
  {
   "cell_type": "code",
   "execution_count": null,
   "metadata": {},
   "outputs": [],
   "source": [
    "# a-) x = 15 için hesaplayalım. Bir eşitlik istenirse alanı 0 olacaktır. O zaman x değişkeninin 15 olma olasılığı 0 dır."
   ]
  },
  {
   "cell_type": "code",
   "execution_count": 40,
   "metadata": {},
   "outputs": [
    {
     "name": "stdout",
     "output_type": "stream",
     "text": [
      "z değerimiz =  2.5 dir.\n",
      "python ile yapılan normal dağılım hesabına göre X in 15 ten küçük olma olasılığı =  0.9937903346742238\n"
     ]
    }
   ],
   "source": [
    "# b-) x değişkeninin 15 ten küçük olma olasılığı kaçtır?\n",
    "m = 10\n",
    "s = 2\n",
    "x = 15\n",
    "z = (15-10) /2 \n",
    "print(\"z değerimiz = \", z ,\"dir.\")\n",
    "# 2.5 in satırına gelen z tablo değeri 0.9938 ' dir. yani 15 ten küçük olma olasılığı %99 dur.\n",
    "print(\"python ile yapılan normal dağılım hesabına göre X in 15 ten küçük olma olasılığı = \", norm.cdf(x,m,s))"
   ]
  },
  {
   "cell_type": "code",
   "execution_count": 43,
   "metadata": {},
   "outputs": [
    {
     "name": "stdout",
     "output_type": "stream",
     "text": [
      "z değerimiz =  0.0 dir. yani X in 10 dan küçük olma olasılığı =  0.5'dir.\n",
      "python ile yapılan normal dağılım hesabına göre X in 10 dan küçük olma olasılığı =  0.5\n"
     ]
    }
   ],
   "source": [
    "# c-) X in 10 dan küçük olma ihtimali? \n",
    "m = 10\n",
    "s = 2\n",
    "x = 10\n",
    "z = (10-10) /2 \n",
    "print(\"z değerimiz = \", z ,\"dir. yani X in 10 dan küçük olma olasılığı =  0.5'dir.\")\n",
    "# 2.5 in satırına gelen z tablo değeri 0.50 ' dir. yani 10 dan küçük olma olasılığı %50 dur.\n",
    "print(\"python ile yapılan normal dağılım hesabına göre X in 10 dan küçük olma olasılığı = \", norm.cdf(x,m,s))"
   ]
  },
  {
   "cell_type": "raw",
   "metadata": {},
   "source": [
    "Soru : Bir sınıftaki öğrencilerin boylarının uzunluğu normal dağılmaktadır. Bu sınıftaki öğrencilerin boylarının uzunluğunun ortalaması 160 cm ve standart sapması 5 cm dir. Bu sınıfta seçilen bir öğrencinin 166 cm den fazla olma olasılığı nedir?"
   ]
  },
  {
   "cell_type": "code",
   "execution_count": 49,
   "metadata": {},
   "outputs": [
    {
     "name": "stdout",
     "output_type": "stream",
     "text": [
      "z değerimiz =  1.2 dir. \n",
      "Bu sınıfta seçilen bir öğrencinin 166 cm den fazla olma olasılığı =  0.12\n",
      "öğrencinin 166 cm den fazla olma olasılığı =  0.12\n"
     ]
    }
   ],
   "source": [
    "m = 160\n",
    "s = 5\n",
    "x = 166\n",
    "z = (166-160)/5\n",
    "print(\"z değerimiz = \", z ,\"dir. \")\n",
    "# bize burda fazla olma olasılığını sormakta. 0.8849 bize küçük olan z değerini verir.\n",
    "print(\"Bu sınıfta seçilen bir öğrencinin 166 cm den fazla olma olasılığı = \", round(1-0.8849,2))\n",
    "print(\"öğrencinin 166 cm den fazla olma olasılığı = \", round(1- norm.cdf(166,160,5),2))"
   ]
  },
  {
   "cell_type": "raw",
   "metadata": {},
   "source": [
    "Soru : Bir sınıftaki öğrencilerin boylarının uzunluğu normal dağılmaktadır. Bu sınıftaki öğrencilerin boylarının uzunluğunun ortalaması 160 cm ve standart sapması 5 cm dir. Bu sınıftan seçilen 4 öğrencinin 166 cm den fazla olma olasılığı nedir?"
   ]
  },
  {
   "cell_type": "code",
   "execution_count": 57,
   "metadata": {},
   "outputs": [
    {
     "name": "stdout",
     "output_type": "stream",
     "text": [
      "z değerimiz =  2.4 dir. \n",
      "Bu sınıfta seçilen 4 öğrencinin 166 cm den fazla olma olasılığı =  0.01\n",
      "bu sınıfta seçilen 4 öğrencinin 166 cm den fazla olma olasılığı =  0.01\n"
     ]
    }
   ],
   "source": [
    "m = 160\n",
    "s = 5\n",
    "x = 166\n",
    "# 4 öğrenci seçilecek dediği için standart hata ile yapacağız.\n",
    "n = 4\n",
    "se = s/(4**0.5)\n",
    "z = (166-160)/se\n",
    "print(\"z değerimiz = \", z ,\"dir. \")\n",
    "# z tablosun da 2.4 ten büyük alanı bulacağız. 0.9918 2.4 ten küçük olan yerin alanıdır.\n",
    "print(\"Bu sınıfta seçilen 4 öğrencinin 166 cm den fazla olma olasılığı = \", round(1-0.9918,2))\n",
    "print(\"bu sınıfta seçilen 4 öğrencinin 166 cm den fazla olma olasılığı = \", round(1- norm.cdf(166,160,2.5),2))"
   ]
  },
  {
   "cell_type": "raw",
   "metadata": {},
   "source": [
    "Soru : Bir yatırım öncesinde gelecek ay ile ilgili satışların belirli değerlerde gerçekleşmesi olasılıkları belirlenmek isteniyor. satışların ortalaması 80K, standart sapmamız ise 5k olsun. Bu ay 90K dan fazla satış yapma olasılığımız nedir? Bunun bir normal dağılım olduğunu biliyoruz."
   ]
  },
  {
   "cell_type": "code",
   "execution_count": 60,
   "metadata": {},
   "outputs": [
    {
     "data": {
      "text/plain": [
       "0.02275013194817921"
      ]
     },
     "execution_count": 60,
     "metadata": {},
     "output_type": "execute_result"
    }
   ],
   "source": [
    "m = 80\n",
    "s = 5\n",
    "x = 90\n",
    "1 - norm.cdf(90,80,5) # => 90 k dan fazla olma olasılığı 0.022 dir. "
   ]
  },
  {
   "cell_type": "code",
   "execution_count": 61,
   "metadata": {},
   "outputs": [
    {
     "data": {
      "text/plain": [
       "0.08075665923377107"
      ]
     },
     "execution_count": 61,
     "metadata": {},
     "output_type": "execute_result"
    }
   ],
   "source": [
    "# 73k dan az olma olasılığı?\n",
    "m = 80\n",
    "s = 5\n",
    "x = 73\n",
    "norm.cdf(73,80,5)"
   ]
  },
  {
   "cell_type": "code",
   "execution_count": 70,
   "metadata": {},
   "outputs": [
    {
     "name": "stdout",
     "output_type": "stream",
     "text": [
      "satışların 85 ile 95 arasında olma olasılığı 0.15730535589982697\n"
     ]
    }
   ],
   "source": [
    "# satışların 85 k dan büyük, 95k dan küçük olma olasılığı nedir?\n",
    "m = 80\n",
    "s = 5\n",
    "x1 = 85\n",
    "x2 = 95\n",
    "print(\"satışların 85 ile 95 arasında olma olasılığı\", norm.cdf(95,80,5) - norm.cdf(85,80,5)) "
   ]
  },
  {
   "cell_type": "code",
   "execution_count": null,
   "metadata": {},
   "outputs": [],
   "source": []
  },
  {
   "cell_type": "code",
   "execution_count": null,
   "metadata": {},
   "outputs": [],
   "source": []
  },
  {
   "cell_type": "code",
   "execution_count": null,
   "metadata": {},
   "outputs": [],
   "source": []
  },
  {
   "cell_type": "code",
   "execution_count": null,
   "metadata": {},
   "outputs": [],
   "source": []
  }
 ],
 "metadata": {
  "kernelspec": {
   "display_name": "Python 3",
   "language": "python",
   "name": "python3"
  },
  "language_info": {
   "codemirror_mode": {
    "name": "ipython",
    "version": 3
   },
   "file_extension": ".py",
   "mimetype": "text/x-python",
   "name": "python",
   "nbconvert_exporter": "python",
   "pygments_lexer": "ipython3",
   "version": "3.8.5"
  }
 },
 "nbformat": 4,
 "nbformat_minor": 4
}
