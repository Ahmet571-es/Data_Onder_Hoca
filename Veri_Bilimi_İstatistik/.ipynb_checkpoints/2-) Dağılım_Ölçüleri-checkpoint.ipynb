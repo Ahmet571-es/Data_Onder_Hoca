{
 "cells": [
  {
   "cell_type": "markdown",
   "metadata": {},
   "source": [
    "### 1-)Değişim aralığı :"
   ]
  },
  {
   "cell_type": "raw",
   "metadata": {},
   "source": [
    "Serilerdeki değerlerden maksimun ve minimun değerini çıkarılması ile elde edilir."
   ]
  },
  {
   "cell_type": "code",
   "execution_count": 1,
   "metadata": {},
   "outputs": [],
   "source": [
    "import numpy as np\n",
    "import pandas as pd"
   ]
  },
  {
   "cell_type": "code",
   "execution_count": 2,
   "metadata": {},
   "outputs": [],
   "source": [
    "x = np.array([8,10,15,12,20,17,14])\n",
    "# en büyük değer 20, en küçük değer 8 (20-8) = 12 değişim aralığıdır."
   ]
  },
  {
   "cell_type": "code",
   "execution_count": 3,
   "metadata": {},
   "outputs": [
    {
     "data": {
      "text/plain": [
       "12"
      ]
     },
     "execution_count": 3,
     "metadata": {},
     "output_type": "execute_result"
    }
   ],
   "source": [
    "x.max() - x.min()"
   ]
  },
  {
   "cell_type": "code",
   "execution_count": 4,
   "metadata": {},
   "outputs": [
    {
     "data": {
      "text/plain": [
       "0    12\n",
       "dtype: int64"
      ]
     },
     "execution_count": 4,
     "metadata": {},
     "output_type": "execute_result"
    }
   ],
   "source": [
    "x = pd.DataFrame([8,10,15,12,20,17,14])\n",
    "x.max() - x.min()"
   ]
  },
  {
   "cell_type": "markdown",
   "metadata": {},
   "source": [
    "### 2-) Varyans Değeri : "
   ]
  },
  {
   "cell_type": "raw",
   "metadata": {},
   "source": [
    "Ortalamadan olan sapmanın yani ortalamadan olan uzaklığının genel bir ölçüsü olan standart sapmanın karesidir."
   ]
  },
  {
   "cell_type": "raw",
   "metadata": {},
   "source": [
    "Örneğin : 8,10,15,12,20,17,14 serisinin varyans değerini bulalım.\n",
    "ort = 13.71\n",
    "varyans = (8-13.71)**2 + (10-13.71)**2 + (15-13.71)**2 + (12-13.71)**2 + (20-13.71)**2 + (17-13.71)**2 + (14-13.71)**2\n",
    "varyans = 16.90"
   ]
  },
  {
   "cell_type": "code",
   "execution_count": 8,
   "metadata": {},
   "outputs": [
    {
     "data": {
      "text/plain": [
       "14.489795918367347"
      ]
     },
     "execution_count": 8,
     "metadata": {},
     "output_type": "execute_result"
    }
   ],
   "source": [
    "x = np.array([8,10,15,12,20,17,14])\n",
    "x.var()"
   ]
  },
  {
   "cell_type": "code",
   "execution_count": 9,
   "metadata": {},
   "outputs": [
    {
     "data": {
      "text/plain": [
       "0    16.904762\n",
       "dtype: float64"
      ]
     },
     "execution_count": 9,
     "metadata": {},
     "output_type": "execute_result"
    }
   ],
   "source": [
    "x = pd.DataFrame([8,10,15,12,20,17,14])\n",
    "x.var()"
   ]
  },
  {
   "cell_type": "markdown",
   "metadata": {},
   "source": [
    "### 3-) Standart Sapma Değeri : "
   ]
  },
  {
   "cell_type": "raw",
   "metadata": {},
   "source": [
    "Varyans değerinin kareködür. \n",
    "Örneğin : 8,10,15,12,20,17,14 serisinin standart sapma değeri kaçtır.\n",
    "ort = 13.71\n",
    "n = 7\n",
    "varyans = ((8-13.71)**2 + (10-13.71)**2 + (15-13.71)**2 + (12-13.71)**2 + (20-13.71)**2 + (17-13.71)**2 + (14-13.71)**2) / 7\n",
    "varyans = 16.90\n",
    "standart sapma = 16.90**0.5 = 3.80'dir."
   ]
  },
  {
   "cell_type": "code",
   "execution_count": 10,
   "metadata": {},
   "outputs": [
    {
     "name": "stdout",
     "output_type": "stream",
     "text": [
      "13.714285714285714\n",
      "14.489795918367347\n",
      "3.806546455564065\n"
     ]
    }
   ],
   "source": [
    "x = np.array([8,10,15,12,20,17,14])\n",
    "print(x.mean())\n",
    "print(x.var())\n",
    "print(x.std())"
   ]
  },
  {
   "cell_type": "code",
   "execution_count": 11,
   "metadata": {},
   "outputs": [
    {
     "name": "stdout",
     "output_type": "stream",
     "text": [
      "0    13.714286\n",
      "dtype: float64\n",
      "0    16.904762\n",
      "dtype: float64\n",
      "0    4.11154\n",
      "dtype: float64\n"
     ]
    }
   ],
   "source": [
    "x = pd.DataFrame([8,10,15,12,20,17,14])\n",
    "print(x.mean())\n",
    "print(x.var())\n",
    "print(x.std())"
   ]
  },
  {
   "cell_type": "markdown",
   "metadata": {},
   "source": [
    "### 4-) Çarpıklık Katsayısı : "
   ]
  },
  {
   "cell_type": "raw",
   "metadata": {},
   "source": [
    "Bir değişkenin dağılımının simetrik olamayışıdır. \n",
    "pearson çarpıklık katsayısı = (3*(ort-medyan))/std => ile hesaplanır.\n",
    "-1 ile +1 değerleri arasında yer alır. \n",
    "çarpıklık katsayısı < 0 ise negatif sola çarpık\n",
    "çarpıklık katsayısı > 0 ise pozitif sağa çarpık\n",
    "çarpıklık katsayısı = 0 ise simetriktir."
   ]
  },
  {
   "cell_type": "raw",
   "metadata": {},
   "source": [
    "Örneğin : 12,15,20,30,45,22 serisinin çarpıklık katsayısını hesaplayalım.\n",
    "ort = 24.0\n",
    "median = 21.0\n",
    "std = 10.96\n",
    "(3*(24-21))/10.96\n",
    "çarpıklık katsayısı = 0.82 dir yani sağa çarpık pozitif yönlü."
   ]
  },
  {
   "cell_type": "code",
   "execution_count": 13,
   "metadata": {},
   "outputs": [],
   "source": [
    "import seaborn as sns"
   ]
  },
  {
   "cell_type": "code",
   "execution_count": 17,
   "metadata": {},
   "outputs": [],
   "source": [
    "x = pd.DataFrame([12,15,20,30,45,22])\n",
    "x.columns = [\"deger\"]"
   ]
  },
  {
   "cell_type": "code",
   "execution_count": 18,
   "metadata": {},
   "outputs": [
    {
     "data": {
      "image/png": "[encoded data removed]",
      "text/plain": [
       "<Figure size 432x288 with 1 Axes>"
      ]
     },
     "metadata": {
      "needs_background": "light"
     },
     "output_type": "display_data"
    }
   ],
   "source": [
    "sns.kdeplot(x=\"deger\", data=x);\n",
    "# grafiğe bakınca hafif sağa çarpık gibi "
   ]
  },
  {
   "cell_type": "code",
   "execution_count": 23,
   "metadata": {},
   "outputs": [],
   "source": [
    "import scipy.stats as sts"
   ]
  },
  {
   "cell_type": "code",
   "execution_count": 26,
   "metadata": {},
   "outputs": [
    {
     "data": {
      "text/plain": [
       "array([0.87726265])"
      ]
     },
     "execution_count": 26,
     "metadata": {},
     "output_type": "execute_result"
    }
   ],
   "source": [
    "sts.describe(x).skewness\n",
    "# çarpıklık katsayımızı verir."
   ]
  },
  {
   "cell_type": "markdown",
   "metadata": {},
   "source": [
    "### 5-) Basıklık Katsayısı : "
   ]
  },
  {
   "cell_type": "raw",
   "metadata": {},
   "source": [
    "Elimizde ki değişkenin dağılımının sivrimi yoksa yayvan mı olduğunu ifade eder. Dağılım sivrileştikçe ortalamadan değerler fazla uzaklaşmaz standart sapması daha düşüktür.\n",
    "basıklık katsayısı = m4/s4 ' tür. yani ortalamanın 4. momenti/ standart sapmanın 4.üncü kuvvetidir.\n",
    "bk = 3 ise simetriktir.\n",
    "bk > 3 ise dağılım sivridir\n",
    "bk < 3 ise yayvandır."
   ]
  },
  {
   "cell_type": "raw",
   "metadata": {},
   "source": [
    "Örneğin : 12,15,20,30,45,22 => serilerinin basıklık katsayısını hesaplayalım.\n",
    "ort = 24\n",
    "n = 6\n",
    "m4 = ((12-24)**4 + (15-24)**4 + (20-24)**4 + (30-24)**4 + (45-24)**4 + (22-24)**4)/6\n",
    "m4 = 37224.33\n",
    "var = ((12-24)**2 + (15-24)**2 + (20-24)**2 + (30-24)**2 + (45-24)**2 + (22-24)**2)/6\n",
    "std = var**0.5\n",
    "std = 10.97\n",
    "basıklık = m4/(std**4)\n",
    "basıklık = 2.572.57 < 3 ' tür biraz basıktır.."
   ]
  },
  {
   "cell_type": "code",
   "execution_count": 35,
   "metadata": {},
   "outputs": [],
   "source": [
    "x = pd.DataFrame([12,15,20,30,45,22])\n",
    "x.columns = [\"deger\"]"
   ]
  },
  {
   "cell_type": "code",
   "execution_count": 36,
   "metadata": {},
   "outputs": [
    {
     "data": {
      "image/png": "[encoded data removed]",
      "text/plain": [
       "<Figure size 432x288 with 1 Axes>"
      ]
     },
     "metadata": {
      "needs_background": "light"
     },
     "output_type": "display_data"
    }
   ],
   "source": [
    "sns.kdeplot(x=\"deger\", data=x);"
   ]
  },
  {
   "cell_type": "code",
   "execution_count": 42,
   "metadata": {},
   "outputs": [
    {
     "data": {
      "text/plain": [
       "0.8772626484173027"
      ]
     },
     "execution_count": 42,
     "metadata": {},
     "output_type": "execute_result"
    }
   ],
   "source": [
    "sts.describe(x[\"deger\"]).skewness"
   ]
  },
  {
   "cell_type": "code",
   "execution_count": 44,
   "metadata": {},
   "outputs": [
    {
     "data": {
      "text/plain": [
       "-0.4292784739220843"
      ]
     },
     "execution_count": 44,
     "metadata": {},
     "output_type": "execute_result"
    }
   ],
   "source": [
    "sts.describe(x[\"deger\"]).kurtosis\n",
    "# 3 ten küçük olduğu için biraz basıktır yani yayvandır."
   ]
  },
  {
   "cell_type": "code",
   "execution_count": null,
   "metadata": {},
   "outputs": [],
   "source": []
  },
  {
   "cell_type": "code",
   "execution_count": null,
   "metadata": {},
   "outputs": [],
   "source": []
  }
 ],
 "metadata": {
  "kernelspec": {
   "display_name": "Python 3",
   "language": "python",
   "name": "python3"
  },
  "language_info": {
   "codemirror_mode": {
    "name": "ipython",
    "version": 3
   },
   "file_extension": ".py",
   "mimetype": "text/x-python",
   "name": "python",
   "nbconvert_exporter": "python",
   "pygments_lexer": "ipython3",
   "version": "3.8.5"
  }
 },
 "nbformat": 4,
 "nbformat_minor": 4
}
