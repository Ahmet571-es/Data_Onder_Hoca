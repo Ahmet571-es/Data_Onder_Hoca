{
 "cells": [
  {
   "cell_type": "markdown",
   "metadata": {},
   "source": [
    "### HİPOTEZ TESTLERİ : "
   ]
  },
  {
   "cell_type": "raw",
   "metadata": {},
   "source": [
    "Hipotez testinin amacı : populasyon parametresi hakkında ortaya atılan bir iddianın doğru olup olmadığını örneklem verileri ile kullanarak belirlemektir.\n",
    "İstatiksel Hipotez : Populasyon parametrelerine ilişkin ileri sürülen ve geçerliliği olasılık kanunlarına göre araştırılabilen özel önermelerdir. \n",
    "Örneğin : Bir markaya ait akülerin ortalama ömrü 2.5 yıldan fazladır. acaba 2.5 yıldan az mı çok mu. Bu iddiadana hipotez üreteceğiz. Örneklem istatistiklerinden yaralanarak bir hipotezin geçerli olup olmadığını ortaya koyma işlemine hipotez testi denir."
   ]
  },
  {
   "cell_type": "raw",
   "metadata": {},
   "source": [
    "H0 : Örneklemden elde edilen değer ile populasyonun bilinen değeri arasında fark yoktur.\n",
    "H1 : Örneklemden elde edilen değer ile populasyon bilinen değeri arasında fark vardır.\n",
    "Yani : H0 geçerleşirse iddia çürür. H1 gerçekleşirse iddia doğru olur. Genelde H0 reddetmek amacı taşır. İddianın doğru olması hedeflenir."
   ]
  },
  {
   "cell_type": "raw",
   "metadata": {},
   "source": [
    "Örneğin : Bir fabrikada üretilen malların ortalaması 7 den farklıdır.\n",
    "H0 : ort = 7\n",
    "H1 : ort != 7 yani 7 ye eşit değil kullanılır.\n",
    "\n",
    "Örneğin : Bir hastalıktan iyileşme süresinin en az 10 gün olduğu iddia edilmektedir. \n",
    "H0 : ort == 10\n",
    "H1 : ort > 10 \n",
    "\n",
    "Örneğin : Kovid hastalığına yakalanan bir kişinin iyileşme süresi ortalama 13 gün den farklı olduğu iddia ediliyor.\n",
    "H0 == 13,\n",
    "H1 != 13 olarak hipotez testleri kurulur."
   ]
  },
  {
   "cell_type": "raw",
   "metadata": {},
   "source": [
    "Anlamlılık Düzeyi : Güven aralığı konusunda da görmüştük. Hipotez testinin gücünü gösterir. alfa ile ifade edilir. 1-alfa = Güven Düzeyi demektir. Biz bir hipotez testini alfa = 0.01 kullanırsak bir hipotez kurduğumuz zaman %99 oranında doğru olarak kabul ederiz. En çok hipotez test araştırmalarında alfa değeri = 0.05 oranı kullanılır. Yani güven aralığı için %95 değerine denk gelir. pvalue değeri olarak alfa değeri kullanılır. Bize pvalue değeri kritik bölgeyi verecektir, yani red bölgesini verecektir. \n",
    "\n",
    "pvalue değerimiz de 0.05 olsun\n",
    "\n",
    "H0 : ort = 10\n",
    "H1 : ort < 10 olsun o zaman 0.05 ten küçük olan tablo alanı bizim için ret bölgesi olacaktır.\n",
    "\n",
    "H0: ort = 10\n",
    "H1 : ort!=10 olsun o zaman tabloda ki 0.05 ten küçük ve büyük olan alanlar bizim için red bölgesi olacaktir."
   ]
  },
  {
   "cell_type": "raw",
   "metadata": {},
   "source": [
    "Hipotez testinin adımları : \n",
    "1-) Hipotezler oluşturulmalıdır.\n",
    "H0 ve H1\n",
    "2-) anlamlılık düzeyi belirlenmelidir. Yani pvalue değeri belirlenecek. \n",
    "3-) Örneklem dağılımının belirlenmesi yani : z tablosu mu, t tablosumu bunları belirlememiz gerekir.\n",
    "4-) Bu tablolardan pvalue değeri belirlenmeli, sonra o değere göre red bölgesi belirlenmelidir.\n",
    "5-) Test istatistiği hesaplanmalı. Her bir örneklem dağılımnıda farklı şekilde bulunur. t_test değeri bulunur.\n",
    "6-) t_kritik değer ile t_test değeri karşılaştırılır. yani diyelim ki Bir hastalıktan iyileşme süresinin en az 10 gün olduğu iddia edilmektedir. H0 = 10 , H1>10 deriz çünkü en az 10 gün diyor yani 10 fazla H1 kabul edilir.\n",
    "sonra pvalue değerimiz 0.05 olsun, t_test değerimizi hesaplarız, eğer t_test değerimiz 0.05 ten büyükse H1 hipotezimiz doğru demektir. Yani iddiamız geçerli olmuştur. Ama t_test <=0.05 olursa H0 doğru kabul edilir."
   ]
  },
  {
   "cell_type": "markdown",
   "metadata": {},
   "source": [
    "### 1-) Populasyon Varyansı biliniyorken Ortalama için Hipotez testi : "
   ]
  },
  {
   "cell_type": "raw",
   "metadata": {},
   "source": [
    "Belirli bir hastalığın tedavisi için yeni bir aşı bulunmuştur. Bu aşı sonrası hastaların ortalama iyileşme süresi 10 günden az olduğu iddia edilmektedir. Rastgele seçilen 7 hasta sözü edilen aşı ile tedavi edilmiş ve kaç günde iyileştikleri sırasıyla :   2,4,11,3,4,6,8 günler olduğu belirlenmiştir. Tüm hastaların iyileşme süreleri ile ilgili standart sapması = 2 dir. %99 güvenle iddianın doğrulunu test edelim.\n",
    "\n",
    "1-) populasyonun varyansı belli = 4, o zaman z tablosu kullanılacaktır.\n",
    "2-) z_test = z_kritik yani istenen kritik değere z tablosuna göre bakacağız.\n",
    "\n",
    "Çözüm : % 99 demiş. o zaman pvalue değerini bulalım. 99/100 = 0.99, 1-0.99 = 0.01 \n",
    "Hipotez testini kuralım : \n",
    "Ho : ort = 10\n",
    "H1 : ort < 10 \n",
    "şimdi z tablosuna göre alfa = 0.01 e göre kritik değeri hesaplayacağız. 1-0.01 = 0.99 u bulduk. z tablosuna gidip 0.99 a karşılık gelen değeri buluruz. z_kritik = 2.33 yapar.  z_testi hesaplayıp -2.33 ten küçük mü değil mi onu hesaplayacağız. sebebi ise bizden iddia da küçük olduğu iddia edildiği için negatif değerine göre z_test ile karşılaştıracağız. pvalue değeri bizim H1 doğru olursa eğrideki alanımızdır.\n",
    "\n",
    "z_test = (örneklem_ort - populasyon_ort)/(populasyon_standart sapma / örneklem_sayısı_kare_kökü)\n",
    "\n",
    "z_test = (5.42-10)/(2/(7**0.5)\n",
    "z_test = -6.05 \n",
    "z_kritik = -2.33 \n",
    "iddia da istenen 10 gün az olması yani z_test < z_kritik çıktı % 99 ihtimalle iyileşme süresi 10 günden az olduğu iddia yı doğruladık. H1 geçerli."
   ]
  },
  {
   "cell_type": "markdown",
   "metadata": {},
   "source": [
    "### 2-) Populasyon Varyansı bilinmiyorken n>=30  Ortalama için Hipotez testi : "
   ]
  },
  {
   "cell_type": "raw",
   "metadata": {},
   "source": [
    "Populasyon varyansı bilinmiyorsa ve örneklem adedi 30 adn büyük veya eşitse z tablo değeri kullanılır. "
   ]
  },
  {
   "cell_type": "raw",
   "metadata": {},
   "source": [
    "Belli bir ilaç kullanarak diş dolgularının ortalama dayanma süresinin 5 yıldan farklı olduğu iddia edilmektedir. ilgili ilaç kullanılarak yapılan diş dolgularından rastgele 41 tanesi seçilmiş ve örneklem ortalaması 5.9 yıl standart sapması 1.74 yıl olarak hesaplanmıştır. Bu bilgilere dayanarak %99 güven düzeyi ile bu iddiayı test edelim.\n",
    "\n",
    "n = 41\n",
    "x = 5.9\n",
    "s = 1.74\n",
    "pvalue = 1-0.99 = 0.01\n",
    "5 yıldan farklı olduğu dediği için çift taraflı bir hipotez testi olacak\n",
    "0.01/2 = 0.005 çünkü 5 yıldan farklı diyor. yani çift taraflı bir hipotez testi. z tablosunda 1 - 0.005 in değerini bulacağız.\n",
    "z_kritik = 2.57 => kritik bölge alanımız -2.57 küçük ve 2.57 büyük olan alanlar olacak. \n",
    "z_test = (5.9 - 5)/(1.74/(41**0.5))\n",
    "z_test = 3.31\n",
    "z_test > 2.57 yani taralı bölgenin içinde dir. O zaman H0 reddedilir. Yani H1 hipotezimize göre yapacağımız yorum :\n",
    "Belli bir ilaç kullanarak diş dolgularının ortalama dayanma süresinin 5 yıldan fazla olduğu iddiası %99 güvenle doğrudur.\n",
    "z_test > 2.57 olduğu için 5 yıldan fazla olduğu çıkarımı yaptık."
   ]
  },
  {
   "cell_type": "markdown",
   "metadata": {},
   "source": [
    "### 3-) Populasyon Varyansı bilinmiyorken n<30  Ortalama için Hipotez testi : "
   ]
  },
  {
   "cell_type": "raw",
   "metadata": {},
   "source": [
    "Belirli bir şehirde ki 24 aylık çocukların ortalama ağırlıkları 12.5 kg den küçük olduğı iddia ediliyor. Rastgele seçilen 5 tane 24 aylık çocuğun ağırlıkları sırasıyla : 13,11,10,10.5,10.5 kg dır. verilen bilgilere göre alfa = 0.10 anlamlılık düzeyine göre iddiayı test ediniz. \n",
    "\n",
    "n = 5 => örneklem sayısı\n",
    "x = 11 => örneklem ortalaması\n",
    "s = 1.048 => örneklem standart sapması\n",
    "t_test = (11 - 12.5) / (1.048/(5**0.5))\n",
    "t_test = -3.2\n",
    "\n",
    "t_kritik değer hesaplama : n=5 => 5-1 = 4. satır, 0.10 değeri sutun => 1.533 değeri yapar. 12.5 kg den küçük dediği için -1.583 ten küçük t_test değeri çıkıyor. o zaman H1 hipotezi geçerlidir. %90 ihtimalle şehirde ki bebekler 12.5 kg den azdır."
   ]
  },
  {
   "cell_type": "markdown",
   "metadata": {},
   "source": [
    "### 4-) Populasyon Oranı için Hipotez testi : "
   ]
  },
  {
   "cell_type": "raw",
   "metadata": {},
   "source": [
    "Örnek : Tr de ki üniversitelerde bulundukları bölüme isteyerek gelen öğrencilerin oranı 0.50 den farklı olduğu iddia edilir. Bu iddiayı test etmek için rastgele 100 öğrenci seçiliyor. 100 öğrenciden 35 inin kayıtlı olduğu bölüme isteyerek geldiği saptanıyor. Bu bilgilere göre %95 ihtimal ile bu iddiayı test edelim.\n",
    "\n",
    "pvalue = 1-0.95 => 0.05\n",
    "H0 : P = 0.50\n",
    "H1 : p!= 0.50 \n",
    "\n",
    "sonra alan hesabı yapılır yani 0.50 den farklı dediği için 0.05/2 diyeceğiz. Çünkü hem küçük hem de büyük olan değerleri kapsayacak. 0.025 lik alan kısımlarını hesaplayacağız. \n",
    "\n",
    "ilk önce z tablosu ile yapalım : \n",
    "1-0.025 = 0.975, z_kritik değeri = 1.96 olacak. yani z_test < -1.96 ve z_test > 1.96 lık kısımlar.\n",
    "\n",
    "p = 0.50\n",
    "p_orneklem = 100/35 = 0.35\n",
    "n = 100 \n",
    "z_test = (p_orneklem - p) / (((p*(1-p))/n)**0.5)\n",
    "z_test = (0.35-0.50) / (((0.50*(1-0.50))/100)**0.5)\n",
    "z_test = -3\n",
    "H1 hipotezi geçerlidir. -1.96 dan küçük bir değer almıştır. %95 ihtimalle Tr de ki gençlerin %50 den azı istediği bölüme gitmektedir.\n",
    "\n",
    "t tablosu ile hesaplayalım : \n",
    "p = 0.50\n",
    "p_orneklem = 0.35\n",
    "n = 100 \n",
    "pvalue => 1-0.95 = 0.05 , oranı 0.50 den farklı olduğu iddia edildiği için çift taraflı hipotez. o zaman : \n",
    "n = 100 ise df = 100-1 = 99.satır ve 0.05/2 = 0.025. sutuna karşılık gelen değer t_kritik olur.  1.984 değeri olur.\n",
    "t_test = (p_orneklem - p) / (((p*(1-p))/n)**0.5)\n",
    "t_test = -3.0 olur.\n",
    "t_test => -1.984 ten büyük veya -1.984 ten küçük değerlerin olduğu alanda olacak.\n",
    "-3.0 < -1.984 olduğu için H1 hipotezi geçerlidir. % 95 ihtimalle Tr de ki gençlerin %50 den azı istediği bölüme gitmektedir."
   ]
  },
  {
   "cell_type": "markdown",
   "metadata": {},
   "source": [
    "### 5-) Populasyon Varyansı için Hipotez testi : "
   ]
  },
  {
   "cell_type": "raw",
   "metadata": {},
   "source": [
    "ki_kare tablosundan faydalanılır. t tablosuna çok benzer aynı yöntem ile kullanılır. Burda ki_kare tablo değeri yani kritik nokta hesaplanırken farklılıklar vardır. \n",
    "\n",
    "Eğer iddia bir a değerinden küçük olduğu üzerine ise : \n",
    "n-1 => satır ve (1-pvalue) . sutunda ki değerdir.\n",
    "\n",
    "Eğer iddia bir a değerinden büyük olduğu üzerine ise : \n",
    "n-1 => satır ve  pvalue . uncu sutunda ki değerdir."
   ]
  },
  {
   "cell_type": "raw",
   "metadata": {},
   "source": [
    "Bir şirket eski tip bir makine ile 0.00042 varyans değeri ile 1 cm çaplı civata üretmektedir. Şirket 25 tane yeni makineyi, satın almak amacıyla denediğinde, aynı tip civatalar için 0.00028 varyans hesaplanıyor. %95 ihtimal ile yeni model makinalarla aynı tip civatanın daha küçük varyansla üretilebildiğini söyleyebilirsek yeni makine satın alınacaktır. Bu örneklemle ne karar verilebilir. \n",
    "\n",
    "ki_kare_test = ((n-1)*orneklem_varyans)/(populasyon_varyans)\n",
    "\n",
    "Ho : varyans = 0.00042\n",
    "H1 : varyans < 0.00042\n",
    "pvalue = 1 - 0.95 => 0.05 olacak.\n",
    "soruda daha küçük varyansla üretilebildiğini iddia etmek istendiği için 1-0.05 = 0.95 . inci sutuna ve n= 25 25-1=24. satıra denk gelen ki_kare tablosuna bakacağız. => 13.85 yapar.\n",
    "ki_kare_test = ((25-1)* 0.00028)/(0.00042)\n",
    "k_kare_test = 15.9 \n",
    "ki_kare_kritik = 13.85 \n",
    "15.9 > 13.85 çıktı ama bize küçük olması iddiası sorulmuştu. o zaman % 95 ihtimalle civatanın yarıçapı daha büyük bir varyans ile üretilir."
   ]
  },
  {
   "cell_type": "code",
   "execution_count": null,
   "metadata": {},
   "outputs": [],
   "source": []
  },
  {
   "cell_type": "code",
   "execution_count": null,
   "metadata": {},
   "outputs": [],
   "source": []
  }
 ],
 "metadata": {
  "kernelspec": {
   "display_name": "Python 3",
   "language": "python",
   "name": "python3"
  },
  "language_info": {
   "codemirror_mode": {
    "name": "ipython",
    "version": 3
   },
   "file_extension": ".py",
   "mimetype": "text/x-python",
   "name": "python",
   "nbconvert_exporter": "python",
   "pygments_lexer": "ipython3",
   "version": "3.8.5"
  }
 },
 "nbformat": 4,
 "nbformat_minor": 4
}
