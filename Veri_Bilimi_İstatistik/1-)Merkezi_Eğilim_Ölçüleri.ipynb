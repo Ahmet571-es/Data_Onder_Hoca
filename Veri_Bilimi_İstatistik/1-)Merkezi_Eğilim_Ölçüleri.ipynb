{
 "cells": [
  {
   "cell_type": "markdown",
   "metadata": {},
   "source": [
    "### 1-) aritmetik ortalama : "
   ]
  },
  {
   "cell_type": "markdown",
   "metadata": {},
   "source": [
    "seride ki tüm sayıların toplamının eleman sayısına bölünmesi ile bulunur."
   ]
  },
  {
   "cell_type": "code",
   "execution_count": 1,
   "metadata": {},
   "outputs": [],
   "source": [
    "import numpy as np"
   ]
  },
  {
   "cell_type": "code",
   "execution_count": 2,
   "metadata": {},
   "outputs": [
    {
     "data": {
      "text/plain": [
       "13.333333333333334"
      ]
     },
     "execution_count": 2,
     "metadata": {},
     "output_type": "execute_result"
    }
   ],
   "source": [
    "# ör : 13,10,15,12,17,13 elimizde bir dizi olsun bunun aritmetik ortalaması : \n",
    "(13+10+15+12+17+13)/6 # şeklinde bulunur."
   ]
  },
  {
   "cell_type": "code",
   "execution_count": 3,
   "metadata": {},
   "outputs": [
    {
     "data": {
      "text/plain": [
       "13.333333333333334"
      ]
     },
     "execution_count": 3,
     "metadata": {},
     "output_type": "execute_result"
    }
   ],
   "source": [
    "# numpy ile bulmak istersek : \n",
    "x = np.array([13,10,15,12,17,13])\n",
    "x.mean()"
   ]
  },
  {
   "cell_type": "code",
   "execution_count": 4,
   "metadata": {},
   "outputs": [],
   "source": [
    "import pandas as pd"
   ]
  },
  {
   "cell_type": "code",
   "execution_count": 5,
   "metadata": {},
   "outputs": [
    {
     "data": {
      "text/plain": [
       "13.333333333333334"
      ]
     },
     "execution_count": 5,
     "metadata": {},
     "output_type": "execute_result"
    }
   ],
   "source": [
    "# pandas ile bulmak istersek : \n",
    "x = pd.Series(x)\n",
    "x.mean()"
   ]
  },
  {
   "cell_type": "markdown",
   "metadata": {},
   "source": [
    "### 2-) Medyan : "
   ]
  },
  {
   "cell_type": "markdown",
   "metadata": {},
   "source": [
    "En ortada ki değerdir. Serinin en ortasında ki değeri bize verir. İlk önce seriyi küçükten büyüğe sıralarız, sonra en ortasındaki rakam bize medyan değerini verir."
   ]
  },
  {
   "cell_type": "raw",
   "metadata": {},
   "source": [
    "n = eleman sayısı\n",
    "n = tek sayı olsun. \n",
    "eleman sayısı tek olan serilerde medyan değerini bulmak için : \n",
    "(n+1)/2. sıraya denk gelen değer o serinin medyan değeridir. \n",
    "Örneğin : 13,10,15,12,17 serinin medyan değerini hesaplayalım.\n",
    "n = 5\n",
    "sonra küçükten büyüğe sıralayalım => 10,12,13,15,17\n",
    "(5+1)/2 = 3\n",
    "3. eleman 13'tür. o zaman bu serinin medyan değeri 13 tür."
   ]
  },
  {
   "cell_type": "raw",
   "metadata": {},
   "source": [
    "n = çift ise : ((n/2) + ((n/2)+1))/2 .inci eleman medyan değeridir.\n",
    "Örneğin : 13,10,15,12,17,14 serinin medyan değerini hesaplayalım.\n",
    "n = 6 => 6 eleman sayısı çift\n",
    "sonra küçükten büyüğe sıralayalım : \n",
    "10,12,13,14,15,17\n",
    "((6/2) + ((6/2)+1))/2 = 3.5 . inci eleman => 13 ve 14 ün arasında (13+14)/2 = 13.5 medyan değeridir."
   ]
  },
  {
   "cell_type": "code",
   "execution_count": 7,
   "metadata": {},
   "outputs": [
    {
     "data": {
      "text/plain": [
       "13.5"
      ]
     },
     "execution_count": 7,
     "metadata": {},
     "output_type": "execute_result"
    }
   ],
   "source": [
    "# numpy ile yapalım : \n",
    "a = np.array([13,10,15,12,17,14])\n",
    "np.median(a)"
   ]
  },
  {
   "cell_type": "code",
   "execution_count": 8,
   "metadata": {},
   "outputs": [
    {
     "data": {
      "text/plain": [
       "13.0"
      ]
     },
     "execution_count": 8,
     "metadata": {},
     "output_type": "execute_result"
    }
   ],
   "source": [
    "np.median(x)"
   ]
  },
  {
   "cell_type": "code",
   "execution_count": 9,
   "metadata": {},
   "outputs": [
    {
     "data": {
      "text/plain": [
       "pandas.core.series.Series"
      ]
     },
     "execution_count": 9,
     "metadata": {},
     "output_type": "execute_result"
    }
   ],
   "source": [
    "type(x)"
   ]
  },
  {
   "cell_type": "code",
   "execution_count": null,
   "metadata": {},
   "outputs": [],
   "source": [
    "# Not : elimizde ki veride eğer aykırı değişkenler varsa ortalama bizi yanıltabilir. o zaman medyan değeri bizim için seri \n",
    "# temsilinde daha mantıklıdır."
   ]
  },
  {
   "cell_type": "code",
   "execution_count": 15,
   "metadata": {},
   "outputs": [],
   "source": [
    "# Ör : \n",
    "x = pd.Series([13,10,15,12,17,12,19,16,11,12,190])"
   ]
  },
  {
   "cell_type": "code",
   "execution_count": 16,
   "metadata": {},
   "outputs": [
    {
     "data": {
      "text/plain": [
       "13.0"
      ]
     },
     "execution_count": 16,
     "metadata": {},
     "output_type": "execute_result"
    }
   ],
   "source": [
    "np.median(x)"
   ]
  },
  {
   "cell_type": "code",
   "execution_count": 17,
   "metadata": {},
   "outputs": [
    {
     "data": {
      "text/plain": [
       "29.727272727272727"
      ]
     },
     "execution_count": 17,
     "metadata": {},
     "output_type": "execute_result"
    }
   ],
   "source": [
    "x.mean()"
   ]
  },
  {
   "cell_type": "markdown",
   "metadata": {},
   "source": [
    "Görüldüğü üzere serideki değerlere göre ortalama 30, medyan değeri ise 13 hakkında konuşacak olursak medyan değeri daha mantıklıdır. Çünkü diğer değerler 13 e daha yakındır. 30 a daha uzaktır."
   ]
  },
  {
   "cell_type": "markdown",
   "metadata": {},
   "source": [
    "#### 3-) Mod hesaplama : "
   ]
  },
  {
   "cell_type": "raw",
   "metadata": {},
   "source": [
    "Seride en çok tekrar eden değerdir. \n",
    "Ör : 13,10,15,12,17,12,19,16,11,12,10,11,10\n",
    "Burda ki mod değeri 10 dur frekansı en fazla olan değer 10 dur."
   ]
  },
  {
   "cell_type": "code",
   "execution_count": 18,
   "metadata": {},
   "outputs": [],
   "source": [
    "import scipy.stats as sts"
   ]
  },
  {
   "cell_type": "code",
   "execution_count": 19,
   "metadata": {},
   "outputs": [
    {
     "data": {
      "text/plain": [
       "ModeResult(mode=array([10]), count=array([3]))"
      ]
     },
     "execution_count": 19,
     "metadata": {},
     "output_type": "execute_result"
    }
   ],
   "source": [
    "sts.mode([13,10,15,12,17,12,19,16,11,12,10,11,10])\n",
    "# mod değeri 10 dur 3 kez tekrar etmiştir."
   ]
  },
  {
   "cell_type": "markdown",
   "metadata": {},
   "source": [
    "### 4-) Kartiller : "
   ]
  },
  {
   "cell_type": "raw",
   "metadata": {},
   "source": [
    "Seriyi küçükten büyüğe 4 eşit parçaya böler. Quartille olarak adlandırılır. Q1 => 1. çeyrek değeri, Q2=> median, Q3=> 3. çeyrek değeridir. \n",
    "Kartiller serinin merkezi eğilim ölçüleri ve dağılım ölçüleri hakkında bilgi verir. "
   ]
  },
  {
   "cell_type": "markdown",
   "metadata": {},
   "source": [
    "Örneğin : 5,3,4,8,10,9,14 serisinin 1,3 ve 2. çeyrek değerlerini bulalım.\n",
    "küçükten büyüğe sıralarız => 3,4,5,8,9,10,14\n",
    "median = 8\n",
    "Q1 = (4+5)/2 = 4.5\n",
    "Q3 = (9+10)/2 = 9.5\n",
    "Q2 = 8 median değeridir."
   ]
  },
  {
   "cell_type": "code",
   "execution_count": 42,
   "metadata": {},
   "outputs": [
    {
     "name": "stdout",
     "output_type": "stream",
     "text": [
      "4.5\n",
      "9.5\n",
      "8.0\n",
      "8.0\n"
     ]
    }
   ],
   "source": [
    "# numpy ile yapalım : \n",
    "a = np.array([5,3,4,8,10,9,14])\n",
    "Q1 = np.quantile(a,0.25)\n",
    "Q3 = np.quantile(a,0.75)\n",
    "Q2 = np.quantile(a,0.50)\n",
    "print(Q1)\n",
    "print(Q3)\n",
    "print(Q2)\n",
    "print(np.median(a))"
   ]
  },
  {
   "cell_type": "code",
   "execution_count": 41,
   "metadata": {},
   "outputs": [
    {
     "name": "stdout",
     "output_type": "stream",
     "text": [
      "0    4.5\n",
      "Name: 0.25, dtype: float64\n",
      "0    9.5\n",
      "Name: 0.75, dtype: float64\n",
      "0    8.0\n",
      "Name: 0.5, dtype: float64\n"
     ]
    }
   ],
   "source": [
    "# pandas ile yapalım : \n",
    "df = pd.DataFrame([5,3,4,8,10,9,14])\n",
    "Q1 = df.quantile(0.25)\n",
    "Q3 = df.quantile(0.75)\n",
    "Q2 = df.quantile(0.50)\n",
    "print(Q1)\n",
    "print(Q3)\n",
    "print(Q2)"
   ]
  },
  {
   "cell_type": "code",
   "execution_count": null,
   "metadata": {},
   "outputs": [],
   "source": []
  },
  {
   "cell_type": "code",
   "execution_count": null,
   "metadata": {},
   "outputs": [],
   "source": []
  },
  {
   "cell_type": "code",
   "execution_count": null,
   "metadata": {},
   "outputs": [],
   "source": []
  },
  {
   "cell_type": "code",
   "execution_count": 36,
   "metadata": {},
   "outputs": [],
   "source": []
  },
  {
   "cell_type": "code",
   "execution_count": null,
   "metadata": {},
   "outputs": [],
   "source": []
  },
  {
   "cell_type": "code",
   "execution_count": null,
   "metadata": {},
   "outputs": [],
   "source": []
  }
 ],
 "metadata": {
  "kernelspec": {
   "display_name": "Python 3",
   "language": "python",
   "name": "python3"
  },
  "language_info": {
   "codemirror_mode": {
    "name": "ipython",
    "version": 3
   },
   "file_extension": ".py",
   "mimetype": "text/x-python",
   "name": "python",
   "nbconvert_exporter": "python",
   "pygments_lexer": "ipython3",
   "version": "3.8.5"
  }
 },
 "nbformat": 4,
 "nbformat_minor": 4
}
